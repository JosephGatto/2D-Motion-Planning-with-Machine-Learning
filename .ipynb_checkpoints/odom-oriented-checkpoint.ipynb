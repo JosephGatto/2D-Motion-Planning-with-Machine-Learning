{
 "cells": [
  {
   "cell_type": "code",
   "execution_count": 1,
   "metadata": {},
   "outputs": [],
   "source": [
    "import sys\n",
    "import shapely\n",
    "from shapely.geometry import box, MultiPolygon, LineString, Point, MultiLineString, Polygon\n",
    "import math\n",
    "import matplotlib.pyplot as plt\n",
    "import numpy as np\n",
    "%matplotlib inline\n",
    "\n",
    "from gridmap import OccupancyGridMap\n",
    "import matplotlib.pyplot as plt\n",
    "from a_star import a_star\n",
    "from utils import plot_path\n",
    "from sklearn import preprocessing\n",
    "import pandas as pd\n",
    "from tqdm import tqdm\n",
    "\n",
    "from sklearn.ensemble import RandomForestClassifier\n",
    "from sklearn.naive_bayes import GaussianNB\n",
    "from sklearn.svm import SVC\n",
    "from sklearn.preprocessing import MinMaxScaler\n",
    "from sklearn.metrics import f1_score, make_scorer\n",
    "from sklearn.model_selection import cross_val_score, train_test_split\n",
    "import random\n",
    "from tqdm import tqdm\n",
    "import imageio\n",
    "\n",
    "import warnings\n",
    "warnings.filterwarnings('ignore')"
   ]
  },
  {
   "cell_type": "code",
   "execution_count": 2,
   "metadata": {},
   "outputs": [],
   "source": [
    "num_points_on_circ = 8\n",
    "pi = math.pi\n",
    "def PointsInCircum(r,n=num_points_on_circ, center = (0,0)):\n",
    "    return np.array([(center[0] + math.cos(2*pi/n*x)*r, center[1] + math.sin(2*pi/n*x)*r) for x in range(0,n+1)])"
   ]
  },
  {
   "cell_type": "code",
   "execution_count": 3,
   "metadata": {},
   "outputs": [],
   "source": [
    "def gen_shapely_map(map_size, obstacles):\n",
    "    '''\n",
    "    Given map_size and list of obstacles where\n",
    "    an obstacle is described by a tuple (xmin, ymin, xmax, ymax),\n",
    "    create a shapely map. \n",
    "    '''\n",
    "    \n",
    "    pols = [box(0,0,map_size[0], map_size[1])]\n",
    "    for obstacle in obstacles:\n",
    "        pols.append(box(*obstacle))\n",
    "    lines = []\n",
    "    for pol in pols:\n",
    "        boundary = pol.boundary\n",
    "        if boundary.type == 'MultiLineString':\n",
    "            for line in boundary:\n",
    "                lines.append(line)\n",
    "        else:\n",
    "            lines.append(boundary)\n",
    "\n",
    "    MAP = MultiLineString(lines)\n",
    "    return MAP\n",
    "\n",
    "def get_map_arr(MAP_params, shape):\n",
    "    '''\n",
    "    Convert the shapely obstacles into a numpy grid\n",
    "    for use with the A* planner. \n",
    "    \n",
    "    MAP_params is of the form [(xmin, ymin, xmax, ymax), (xmin, ymin, xmax, ymax), ...]\n",
    "    describing each rectangular obstacle in the map. Currently only supports rectangles. \n",
    "    \n",
    "    Shape is just a tuple with the map size. \n",
    "    \n",
    "    '''\n",
    "    map_np = np.zeros(shape)\n",
    "    for param in MAP_params:\n",
    "        xmin, ymin, xmax, ymax = param\n",
    "        map_np[ymin:ymax, xmin:xmax] = 1\n",
    "        \n",
    "    return map_np"
   ]
  },
  {
   "cell_type": "code",
   "execution_count": 4,
   "metadata": {},
   "outputs": [],
   "source": [
    "# Mapping from label encoder (just hard coded it here)\n",
    "dirs = {0:(1.0, 0.0), 1:(0.0, 1.0), 2:(-1.0, 0.0), 3:(0.0, -1.0)}\n",
    "inv_dirs = {d: label for label, d in dirs.items()}"
   ]
  },
  {
   "cell_type": "code",
   "execution_count": 5,
   "metadata": {},
   "outputs": [],
   "source": [
    "# 4n = 4 point connectivity. 8N = 8 point connectivity\n",
    "def synthetic_sensor(MAP, robot_location, direction, movement='4N'):\n",
    "    '''\n",
    "    Given a shapely map and the robots current location, \n",
    "    return the 360 degree laser scanner. \n",
    "    '''\n",
    "    lines = []\n",
    "    # 100 is arbitrary radius. Just needs to be big enough to draw line across map. \n",
    "    points = PointsInCircum(100, center = robot_location)\n",
    "    # Create line to all points on circle\n",
    "    for point in points:\n",
    "        A = Point(robot_location)\n",
    "        B = Point(point)\n",
    "        line = LineString([A,B])\n",
    "        lines.append(line)\n",
    "    # Get points of intersection. \n",
    "    for i, line in enumerate(lines):\n",
    "\n",
    "        # These two types of objects signify multiple intersections. \n",
    "        if type(MAP.intersection(line)) == shapely.geometry.multilinestring.MultiLineString or \\\n",
    "               type(MAP.intersection(line)) == shapely.geometry.multipoint.MultiPoint:\n",
    "            # Get the closest point\n",
    "            temp_dist = []\n",
    "            for point in MAP.intersection(line):\n",
    "#                 try:\n",
    "                temp_dist.append(LineString([robot_location, point]).length)\n",
    "            inter = MAP.intersection(line)[np.argmin(temp_dist)]\n",
    "        # This signifies no intersection. Wont happen on current map. \n",
    "        elif type(MAP.intersection(line)) == shapely.geometry.collection.GeometryCollection:\n",
    "            cp = MAP.intersection(line)[0] \n",
    "            lines[i].coords = [robot_location, cp]\n",
    "            continue\n",
    "        # One intersection\n",
    "        else:\n",
    "            inter = MAP.intersection(line)\n",
    "        # Create new point and update end point in list of lines. \n",
    "        new_point = (inter.xy[0][0], inter.xy[1][0])\n",
    "        lines[i].coords = [robot_location, new_point]\n",
    "    \n",
    "    # Get lase scan data (distances)\n",
    "    distances = [line.length for line in lines][:num_points_on_circ]\n",
    "    # Account for robot orientation\n",
    "    if direction != (0, 0): # Start node\n",
    "        if movement == '4N':\n",
    "            offset = int(len(distances) / 4.) * inv_dirs[direction]\n",
    "        else: \n",
    "            offset = int(len(distances) / 8.) * inv_dirs[direction]\n",
    "        distances = distances[offset:] + distances[:offset]  \n",
    "    return distances, lines\n",
    "    "
   ]
  },
  {
   "cell_type": "code",
   "execution_count": 6,
   "metadata": {},
   "outputs": [],
   "source": [
    "def plot(MAP, robot_location, line_strings = None, plot_lines=False):\n",
    "    '''\n",
    "    This plot function is used to show the laser scan lines. \n",
    "    Current not used. Probably will be helpful when creating visualizations. \n",
    "    '''\n",
    "    fig = plt.figure(frameon=False)\n",
    "    fig.set_size_inches(50,50)\n",
    "    ax = plt.Axes(fig, [0., 0., 1., 1.])\n",
    "    ax.set_axis_off()\n",
    "    fig.add_axes(ax)\n",
    "    for index, l in enumerate(MAP): \n",
    "        if index != 0:\n",
    "            ax.fill(*l.xy, alpha=1)\n",
    "        else:\n",
    "            ax.plot(*l.xy, alpha=1)\n",
    "    if plot_lines:\n",
    "        for line in line_strings:\n",
    "            ax.plot(*line.xy, alpha=0.25)\n",
    "    ax.scatter(*robot_location, s=30, alpha=1.0)"
   ]
  },
  {
   "cell_type": "code",
   "execution_count": 7,
   "metadata": {},
   "outputs": [],
   "source": [
    "def get_path(start, goal, arr, plot = True):\n",
    "    '''\n",
    "    Given start (x,y) and goal (x,y) use numpy grid arr\n",
    "    to solve for best path with A*. \n",
    "    \n",
    "    By default, plot the A* path everytime this is called. \n",
    "    '''\n",
    "    resolution = 1\n",
    "    gmap = OccupancyGridMap(arr, resolution)\n",
    "\n",
    "    # 4n = 4 point connectivity. 8N = 8 point connectivity\n",
    "    path, path_px = a_star(start, goal, gmap, movement='4N')\n",
    "    if plot:\n",
    "        gmap.plot()\n",
    "        plot_path(path_px)\n",
    "    return path"
   ]
  },
  {
   "cell_type": "code",
   "execution_count": 8,
   "metadata": {},
   "outputs": [],
   "source": [
    "def plot_path_(MAP, robot_location, goal_location, path):\n",
    "    '''\n",
    "    Plot path on map using shapely. Not currently used. \n",
    "    '''\n",
    "    fig = plt.figure(frameon=False)\n",
    "    fig.set_size_inches(6,6)\n",
    "    ax = plt.Axes(fig, [0., 0., 1., 1.])\n",
    "    fig.add_axes(ax)\n",
    "    \n",
    "    for index, l in enumerate(MAP): \n",
    "        if index != 0:\n",
    "            ax.fill(*l.xy, alpha=1)\n",
    "        else:\n",
    "            ax.plot(*l.xy, alpha=1)\n",
    "    \n",
    "    ax.plot(*LineString(path).xy)\n",
    "    ax.scatter(robot_location[0], robot_location[1], s=30, alpha=1.0) \n",
    "    ax.scatter(goal_location[0], goal_location[1], s=30, alpha=1.0) "
   ]
  },
  {
   "cell_type": "code",
   "execution_count": 21,
   "metadata": {},
   "outputs": [],
   "source": [
    "def synthesize_data(start, goal, MAP, map_arr, polar=False):\n",
    "    '''\n",
    "    synthesize data for one step. \n",
    "    \n",
    "    -Given start and goal, we first get the A* ground truth path. \n",
    "    -If get_path() returns an error, that means there was no path found. \n",
    "    -For each element in the path, use the synthetic sensor to get the readings \n",
    "        the relative goal in odom, and the target movement\n",
    "    '''\n",
    "    \n",
    "    # Get path if one is available\n",
    "    try:\n",
    "        path = get_path(start, goal, map_arr, False)\n",
    "    except:\n",
    "        return\n",
    "    \n",
    "    sensor_readings = []\n",
    "    relative_goals = []\n",
    "    polar_goals = [] # Polar coordinates used by paper\n",
    "    directions = []\n",
    "    steering = []\n",
    "    prev = start\n",
    "    for i, loc in enumerate(path):\n",
    "        # Get direction to next cell\n",
    "        direction = (loc[0] - prev[0], loc[1] - prev[1])\n",
    "        # Get rotation\n",
    "        offset = 0\n",
    "        if direction != (0, 0): # Start node\n",
    "            offset = inv_dirs[direction]\n",
    "        rot = np.pi/2 * offset\n",
    "        # Get laser scan\n",
    "        ls,_ = synthetic_sensor(MAP, (loc[0]+0.5, loc[1]+0.5), direction)\n",
    "        sensor_readings.append(ls)\n",
    "        # Get goal in odom\n",
    "        goal_loc = (goal[0]-loc[0], goal[1]-loc[1])  \n",
    "        # Get goal in odom\n",
    "        goal_orn = (goal_loc[0]*np.cos(rot) + goal_loc[1]*np.sin(rot), goal_loc[0]*-np.sin(rot) + goal_loc[1]*np.cos(rot))\n",
    "        relative_goals.append(goal_orn)   \n",
    "#         relative_goals.append(goal_loc)\n",
    "        \n",
    "        # Get polar distance\n",
    "        polar_distance = np.linalg.norm(np.array([goal_loc[0],goal_loc[1]]))\n",
    "        # Get polar rotation\n",
    "        polar_rotation = math.atan2(goal_orn[1], goal_orn[0])\n",
    "        polar_goals.append((polar_distance, polar_rotation))\n",
    "        \n",
    "        # Get relative steering\n",
    "        if len(directions) > 1:\n",
    "            ds = inv_dirs[direction] - inv_dirs[directions[len(directions)-1]]\n",
    "        elif len(directions) == 1: # First node after start\n",
    "            ds = inv_dirs[direction]\n",
    "        else: ds = 0 # Start node\n",
    "        steering.append(ds)\n",
    "        \n",
    "        # Get movement to next cell\n",
    "        directions.append(direction)\n",
    "        prev=loc\n",
    "    \n",
    "    # Return polar goals if True\n",
    "#     print(len(directions), len(steering))\n",
    "    if polar:\n",
    "#         return np.array(sensor_readings), np.array(polar_goals), directions[1:] + directions[:1], path\n",
    "        return np.array(sensor_readings), np.array(polar_goals), np.array(steering[1:] + steering[:1]), path\n",
    "#     return np.array(sensor_readings), np.array(relative_goals), directions[1:] + directions[:1], path\n",
    "    return np.array(sensor_readings), np.array(relative_goals), np.array(steering[1:] + steering[:1]), path"
   ]
  },
  {
   "cell_type": "code",
   "execution_count": 22,
   "metadata": {},
   "outputs": [],
   "source": [
    "def synthesize_train_set(MAPs, num_runs = 5, polar=False):\n",
    "    '''\n",
    "    -Get 'num_runs' different start/goal locations inside the map\n",
    "    -If path is available, get training data for a given path\n",
    "    -Return pandas dataframe where first 360 columns are sensor data, cols\n",
    "     361 and 362 are odom info and then last 2 columns are x,y movement directions. \n",
    "    '''\n",
    "    \n",
    "    df = []\n",
    "    \n",
    "    for i in tqdm(range(num_runs)):\n",
    "        # TODO: Generalize to any map shape\n",
    "        start = (random.randint(1,49), random.randint(1,49))\n",
    "        goal = (random.randint(1,49), random.randint(1,49))\n",
    "        MAP, map_arr = random.choice(MAPs)\n",
    "        # If path is available, get training info\n",
    "        try:\n",
    "#             (sensor_readings, relative_goals, directions, path) = synthesize_data(start, goal, MAP, map_arr, polar)\n",
    "#             train = np.concatenate((sensor_readings, relative_goals, directions), axis=1)\n",
    "            \n",
    "            (sensor_readings, relative_goals, steering, path) = synthesize_data(start, goal, MAP, map_arr, polar)\n",
    "            train = np.concatenate((sensor_readings, relative_goals, np.expand_dims(steering, axis=1)), axis=1)\n",
    "            df.append(train)\n",
    "            print(start, goal)\n",
    "            \n",
    "        except Exception as e:\n",
    "            # No path found\n",
    "            continue\n",
    "    return pd.DataFrame(np.vstack(df))\n"
   ]
  },
  {
   "cell_type": "code",
   "execution_count": 45,
   "metadata": {},
   "outputs": [
    {
     "name": "stderr",
     "output_type": "stream",
     "text": [
      "  1%|▏         | 4/300 [00:00<00:20, 14.23it/s]"
     ]
    },
    {
     "name": "stdout",
     "output_type": "stream",
     "text": [
      "(31, 37) (26, 48)\n",
      "(37, 49) (49, 22)\n"
     ]
    },
    {
     "name": "stderr",
     "output_type": "stream",
     "text": [
      "  2%|▏         | 6/300 [00:00<00:40,  7.20it/s]"
     ]
    },
    {
     "name": "stdout",
     "output_type": "stream",
     "text": [
      "(40, 49) (6, 24)\n",
      "(21, 15) (12, 35)\n"
     ]
    },
    {
     "name": "stderr",
     "output_type": "stream",
     "text": [
      "  3%|▎         | 8/300 [00:01<00:42,  6.84it/s]"
     ]
    },
    {
     "name": "stdout",
     "output_type": "stream",
     "text": [
      "(2, 34) (24, 22)\n",
      "(13, 36) (10, 15)\n"
     ]
    },
    {
     "name": "stderr",
     "output_type": "stream",
     "text": [
      "\r",
      "  3%|▎         | 9/300 [00:01<00:45,  6.45it/s]"
     ]
    },
    {
     "name": "stdout",
     "output_type": "stream",
     "text": [
      "(43, 12) (32, 32)\n",
      "(13, 47) (8, 37)\n"
     ]
    },
    {
     "name": "stderr",
     "output_type": "stream",
     "text": [
      "  5%|▍         | 14/300 [00:01<00:36,  7.91it/s]"
     ]
    },
    {
     "name": "stdout",
     "output_type": "stream",
     "text": [
      "(32, 37) (1, 12)\n",
      "(36, 24) (25, 35)\n",
      "(34, 40) (40, 47)\n"
     ]
    },
    {
     "name": "stderr",
     "output_type": "stream",
     "text": [
      "\r",
      "  5%|▌         | 16/300 [00:01<00:34,  8.32it/s]"
     ]
    },
    {
     "name": "stdout",
     "output_type": "stream",
     "text": [
      "(26, 6) (21, 27)\n",
      "(9, 13) (8, 43)\n"
     ]
    },
    {
     "name": "stderr",
     "output_type": "stream",
     "text": [
      "  7%|▋         | 21/300 [00:02<00:33,  8.29it/s]"
     ]
    },
    {
     "name": "stdout",
     "output_type": "stream",
     "text": [
      "(4, 25) (46, 19)\n",
      "(47, 37) (31, 20)\n",
      "(17, 39) (21, 21)\n"
     ]
    },
    {
     "name": "stderr",
     "output_type": "stream",
     "text": [
      "  8%|▊         | 24/300 [00:02<00:37,  7.36it/s]"
     ]
    },
    {
     "name": "stdout",
     "output_type": "stream",
     "text": [
      "(22, 10) (39, 33)\n",
      "(46, 30) (28, 25)\n",
      "(9, 11) (6, 21)\n"
     ]
    },
    {
     "name": "stderr",
     "output_type": "stream",
     "text": [
      "  9%|▉         | 27/300 [00:03<00:43,  6.30it/s]"
     ]
    },
    {
     "name": "stdout",
     "output_type": "stream",
     "text": [
      "(14, 2) (26, 48)\n",
      "(31, 20) (21, 39)\n"
     ]
    },
    {
     "name": "stderr",
     "output_type": "stream",
     "text": [
      "\r",
      " 10%|█         | 31/300 [00:03<00:33,  7.98it/s]"
     ]
    },
    {
     "name": "stdout",
     "output_type": "stream",
     "text": [
      "(14, 29) (21, 3)\n"
     ]
    },
    {
     "name": "stderr",
     "output_type": "stream",
     "text": [
      "\r",
      " 11%|█         | 33/300 [00:04<00:42,  6.33it/s]"
     ]
    },
    {
     "name": "stdout",
     "output_type": "stream",
     "text": [
      "(46, 22) (8, 47)\n",
      "(42, 9) (21, 7)\n",
      "(31, 29) (34, 22)\n"
     ]
    },
    {
     "name": "stderr",
     "output_type": "stream",
     "text": [
      "\r",
      " 12%|█▏        | 35/300 [00:04<00:39,  6.64it/s]"
     ]
    },
    {
     "name": "stdout",
     "output_type": "stream",
     "text": [
      "(35, 6) (42, 37)\n"
     ]
    },
    {
     "name": "stderr",
     "output_type": "stream",
     "text": [
      " 13%|█▎        | 38/300 [00:04<00:39,  6.56it/s]"
     ]
    },
    {
     "name": "stdout",
     "output_type": "stream",
     "text": [
      "(47, 39) (18, 16)\n",
      "(32, 44) (30, 20)\n"
     ]
    },
    {
     "name": "stderr",
     "output_type": "stream",
     "text": [
      "\r",
      " 13%|█▎        | 40/300 [00:05<00:35,  7.25it/s]"
     ]
    },
    {
     "name": "stdout",
     "output_type": "stream",
     "text": [
      "(6, 7) (6, 45)\n",
      "(9, 18) (13, 30)\n"
     ]
    },
    {
     "name": "stderr",
     "output_type": "stream",
     "text": [
      "\r",
      " 16%|█▋        | 49/300 [00:05<00:26,  9.44it/s]"
     ]
    },
    {
     "name": "stdout",
     "output_type": "stream",
     "text": [
      "(27, 38) (23, 4)\n",
      "(19, 2) (17, 17)\n"
     ]
    },
    {
     "name": "stderr",
     "output_type": "stream",
     "text": [
      "\r",
      " 17%|█▋        | 51/300 [00:05<00:28,  8.80it/s]"
     ]
    },
    {
     "name": "stdout",
     "output_type": "stream",
     "text": [
      "(44, 22) (24, 20)\n"
     ]
    },
    {
     "name": "stderr",
     "output_type": "stream",
     "text": [
      "\r",
      " 18%|█▊        | 54/300 [00:06<00:29,  8.30it/s]"
     ]
    },
    {
     "name": "stdout",
     "output_type": "stream",
     "text": [
      "(48, 15) (2, 47)\n",
      "(49, 36) (26, 5)\n"
     ]
    },
    {
     "name": "stderr",
     "output_type": "stream",
     "text": [
      " 19%|█▉        | 57/300 [00:06<00:36,  6.63it/s]"
     ]
    },
    {
     "name": "stdout",
     "output_type": "stream",
     "text": [
      "(6, 34) (49, 33)\n",
      "(12, 25) (17, 44)\n"
     ]
    },
    {
     "name": "stderr",
     "output_type": "stream",
     "text": [
      "\r",
      " 20%|██        | 60/300 [00:06<00:29,  8.10it/s]"
     ]
    },
    {
     "name": "stdout",
     "output_type": "stream",
     "text": [
      "(20, 26) (45, 32)\n",
      "(18, 48) (3, 44)\n"
     ]
    },
    {
     "name": "stderr",
     "output_type": "stream",
     "text": [
      " 21%|██▏       | 64/300 [00:07<00:24,  9.45it/s]"
     ]
    },
    {
     "name": "stdout",
     "output_type": "stream",
     "text": [
      "(49, 36) (28, 20)\n",
      "(9, 42) (19, 30)\n"
     ]
    },
    {
     "name": "stderr",
     "output_type": "stream",
     "text": [
      "\r",
      " 22%|██▏       | 66/300 [00:07<00:27,  8.53it/s]"
     ]
    },
    {
     "name": "stdout",
     "output_type": "stream",
     "text": [
      "(4, 29) (37, 3)\n",
      "(5, 42) (21, 42)\n"
     ]
    },
    {
     "name": "stderr",
     "output_type": "stream",
     "text": [
      "\r",
      " 23%|██▎       | 68/300 [00:07<00:31,  7.43it/s]"
     ]
    },
    {
     "name": "stdout",
     "output_type": "stream",
     "text": [
      "(38, 42) (49, 10)\n"
     ]
    },
    {
     "name": "stderr",
     "output_type": "stream",
     "text": [
      "\r",
      " 23%|██▎       | 70/300 [00:08<00:29,  7.78it/s]"
     ]
    },
    {
     "name": "stdout",
     "output_type": "stream",
     "text": [
      "(45, 12) (26, 37)\n",
      "(13, 15) (25, 12)\n"
     ]
    },
    {
     "name": "stderr",
     "output_type": "stream",
     "text": [
      "\r",
      " 25%|██▍       | 74/300 [00:08<00:24,  9.07it/s]"
     ]
    },
    {
     "name": "stdout",
     "output_type": "stream",
     "text": [
      "(19, 19) (1, 38)\n"
     ]
    },
    {
     "name": "stderr",
     "output_type": "stream",
     "text": [
      " 26%|██▌       | 77/300 [00:08<00:30,  7.21it/s]"
     ]
    },
    {
     "name": "stdout",
     "output_type": "stream",
     "text": [
      "(4, 17) (49, 31)\n",
      "(40, 23) (36, 2)\n"
     ]
    },
    {
     "name": "stderr",
     "output_type": "stream",
     "text": [
      "\r",
      " 27%|██▋       | 81/300 [00:09<00:26,  8.29it/s]"
     ]
    },
    {
     "name": "stdout",
     "output_type": "stream",
     "text": [
      "(15, 8) (48, 33)\n",
      "(15, 15) (27, 13)\n",
      "(1, 6) (3, 5)\n"
     ]
    },
    {
     "name": "stderr",
     "output_type": "stream",
     "text": [
      "\r",
      " 28%|██▊       | 84/300 [00:09<00:24,  8.88it/s]"
     ]
    },
    {
     "name": "stdout",
     "output_type": "stream",
     "text": [
      "(42, 36) (12, 44)\n",
      "(16, 48) (9, 36)\n"
     ]
    },
    {
     "name": "stderr",
     "output_type": "stream",
     "text": [
      " 30%|███       | 91/300 [00:09<00:18, 11.26it/s]"
     ]
    },
    {
     "name": "stdout",
     "output_type": "stream",
     "text": [
      "(47, 8) (33, 35)\n",
      "(26, 16) (32, 4)\n",
      "(35, 24) (37, 35)\n",
      "(7, 27) (21, 32)\n"
     ]
    },
    {
     "name": "stderr",
     "output_type": "stream",
     "text": [
      "\r",
      " 31%|███       | 93/300 [00:10<00:24,  8.40it/s]"
     ]
    },
    {
     "name": "stdout",
     "output_type": "stream",
     "text": [
      "(3, 12) (48, 17)\n",
      "(10, 49) (24, 15)\n"
     ]
    },
    {
     "name": "stderr",
     "output_type": "stream",
     "text": [
      " 32%|███▏      | 96/300 [00:10<00:33,  6.12it/s]"
     ]
    },
    {
     "name": "stdout",
     "output_type": "stream",
     "text": [
      "(29, 39) (22, 6)\n",
      "(10, 33) (38, 28)\n"
     ]
    },
    {
     "name": "stderr",
     "output_type": "stream",
     "text": [
      " 33%|███▎      | 98/300 [00:11<00:35,  5.73it/s]"
     ]
    },
    {
     "name": "stdout",
     "output_type": "stream",
     "text": [
      "(24, 8) (27, 44)\n",
      "(21, 8) (7, 28)\n"
     ]
    },
    {
     "name": "stderr",
     "output_type": "stream",
     "text": [
      "\r",
      " 33%|███▎      | 99/300 [00:11<00:35,  5.66it/s]"
     ]
    },
    {
     "name": "stdout",
     "output_type": "stream",
     "text": [
      "(30, 41) (22, 16)\n"
     ]
    },
    {
     "name": "stderr",
     "output_type": "stream",
     "text": [
      "\r",
      " 33%|███▎      | 100/300 [00:11<00:37,  5.35it/s]"
     ]
    },
    {
     "name": "stdout",
     "output_type": "stream",
     "text": [
      "(15, 31) (1, 4)\n"
     ]
    },
    {
     "name": "stderr",
     "output_type": "stream",
     "text": [
      "\r",
      " 35%|███▍      | 104/300 [00:11<00:29,  6.73it/s]"
     ]
    },
    {
     "name": "stdout",
     "output_type": "stream",
     "text": [
      "(11, 6) (32, 28)\n"
     ]
    },
    {
     "name": "stderr",
     "output_type": "stream",
     "text": [
      " 35%|███▌      | 106/300 [00:12<00:34,  5.62it/s]"
     ]
    },
    {
     "name": "stdout",
     "output_type": "stream",
     "text": [
      "(20, 38) (49, 23)\n",
      "(3, 21) (24, 2)\n"
     ]
    },
    {
     "name": "stderr",
     "output_type": "stream",
     "text": [
      "\r",
      " 36%|███▌      | 107/300 [00:12<00:34,  5.62it/s]"
     ]
    },
    {
     "name": "stdout",
     "output_type": "stream",
     "text": [
      "(7, 11) (25, 2)\n"
     ]
    },
    {
     "name": "stderr",
     "output_type": "stream",
     "text": [
      " 37%|███▋      | 110/300 [00:13<00:32,  5.92it/s]"
     ]
    },
    {
     "name": "stdout",
     "output_type": "stream",
     "text": [
      "(49, 11) (5, 3)\n",
      "(27, 3) (19, 19)\n"
     ]
    },
    {
     "name": "stderr",
     "output_type": "stream",
     "text": [
      " 38%|███▊      | 114/300 [00:13<00:21,  8.63it/s]"
     ]
    },
    {
     "name": "stdout",
     "output_type": "stream",
     "text": [
      "(4, 7) (17, 3)\n",
      "(37, 41) (21, 42)\n",
      "(35, 23) (33, 22)\n",
      "(29, 47) (43, 46)\n",
      "(41, 10) (37, 1)\n"
     ]
    },
    {
     "name": "stderr",
     "output_type": "stream",
     "text": [
      "\r",
      " 39%|███▉      | 117/300 [00:13<00:20,  9.08it/s]"
     ]
    },
    {
     "name": "stdout",
     "output_type": "stream",
     "text": [
      "(21, 31) (17, 2)\n",
      "(48, 38) (46, 44)\n"
     ]
    },
    {
     "name": "stderr",
     "output_type": "stream",
     "text": [
      " 41%|████      | 122/300 [00:14<00:17, 10.19it/s]"
     ]
    },
    {
     "name": "stdout",
     "output_type": "stream",
     "text": [
      "(5, 27) (44, 32)\n",
      "(2, 9) (16, 24)\n",
      "(14, 18) (30, 15)\n"
     ]
    },
    {
     "name": "stderr",
     "output_type": "stream",
     "text": [
      "\r",
      " 41%|████▏     | 124/300 [00:14<00:23,  7.64it/s]"
     ]
    },
    {
     "name": "stdout",
     "output_type": "stream",
     "text": [
      "(3, 46) (43, 25)\n"
     ]
    },
    {
     "name": "stderr",
     "output_type": "stream",
     "text": [
      " 42%|████▏     | 127/300 [00:14<00:25,  6.78it/s]"
     ]
    },
    {
     "name": "stdout",
     "output_type": "stream",
     "text": [
      "(46, 42) (18, 19)\n",
      "(45, 10) (24, 23)\n"
     ]
    },
    {
     "name": "stderr",
     "output_type": "stream",
     "text": [
      "\r",
      " 43%|████▎     | 128/300 [00:15<00:24,  7.10it/s]"
     ]
    },
    {
     "name": "stdout",
     "output_type": "stream",
     "text": [
      "(10, 44) (25, 39)\n"
     ]
    },
    {
     "name": "stderr",
     "output_type": "stream",
     "text": [
      " 45%|████▍     | 134/300 [00:15<00:22,  7.49it/s]"
     ]
    },
    {
     "name": "stdout",
     "output_type": "stream",
     "text": [
      "(6, 18) (30, 45)\n",
      "(18, 5) (23, 12)\n",
      "(2, 38) (6, 44)\n"
     ]
    },
    {
     "name": "stderr",
     "output_type": "stream",
     "text": [
      "\r",
      " 45%|████▌     | 136/300 [00:15<00:19,  8.56it/s]"
     ]
    },
    {
     "name": "stdout",
     "output_type": "stream",
     "text": [
      "(31, 46) (17, 31)\n"
     ]
    },
    {
     "name": "stderr",
     "output_type": "stream",
     "text": [
      " 48%|████▊     | 143/300 [00:15<00:13, 11.72it/s]"
     ]
    },
    {
     "name": "stdout",
     "output_type": "stream",
     "text": [
      "(48, 6) (35, 43)\n",
      "(28, 16) (19, 32)\n",
      "(8, 12) (11, 25)\n"
     ]
    },
    {
     "name": "stderr",
     "output_type": "stream",
     "text": [
      " 50%|█████     | 151/300 [00:16<00:11, 12.90it/s]"
     ]
    },
    {
     "name": "stdout",
     "output_type": "stream",
     "text": [
      "(11, 49) (46, 31)\n",
      "(5, 15) (18, 16)\n",
      "(40, 40) (28, 45)\n"
     ]
    },
    {
     "name": "stderr",
     "output_type": "stream",
     "text": [
      "\r",
      " 51%|█████     | 153/300 [00:16<00:10, 14.00it/s]"
     ]
    },
    {
     "name": "stdout",
     "output_type": "stream",
     "text": [
      "(3, 10) (4, 18)\n",
      "(44, 21) (46, 10)\n",
      "(22, 5) (38, 1)\n"
     ]
    },
    {
     "name": "stderr",
     "output_type": "stream",
     "text": [
      "\r",
      " 52%|█████▏    | 156/300 [00:17<00:13, 10.91it/s]"
     ]
    },
    {
     "name": "stdout",
     "output_type": "stream",
     "text": [
      "(45, 32) (13, 5)\n"
     ]
    },
    {
     "name": "stderr",
     "output_type": "stream",
     "text": [
      "\r",
      " 53%|█████▎    | 160/300 [00:17<00:12, 11.50it/s]"
     ]
    },
    {
     "name": "stdout",
     "output_type": "stream",
     "text": [
      "(16, 18) (46, 45)\n",
      "(38, 40) (20, 8)\n"
     ]
    },
    {
     "name": "stderr",
     "output_type": "stream",
     "text": [
      "\r",
      " 54%|█████▍    | 162/300 [00:17<00:18,  7.35it/s]"
     ]
    },
    {
     "name": "stdout",
     "output_type": "stream",
     "text": [
      "(45, 39) (21, 20)\n"
     ]
    },
    {
     "name": "stderr",
     "output_type": "stream",
     "text": [
      "\r",
      " 55%|█████▍    | 164/300 [00:18<00:22,  6.11it/s]"
     ]
    },
    {
     "name": "stdout",
     "output_type": "stream",
     "text": [
      "(48, 10) (10, 23)\n",
      "(27, 44) (44, 23)\n"
     ]
    },
    {
     "name": "stderr",
     "output_type": "stream",
     "text": [
      "\r",
      " 56%|█████▋    | 169/300 [00:18<00:17,  7.64it/s]"
     ]
    },
    {
     "name": "stdout",
     "output_type": "stream",
     "text": [
      "(30, 23) (26, 37)\n",
      "(10, 28) (35, 26)\n"
     ]
    },
    {
     "name": "stderr",
     "output_type": "stream",
     "text": [
      "\r",
      " 57%|█████▋    | 171/300 [00:18<00:16,  7.63it/s]"
     ]
    },
    {
     "name": "stdout",
     "output_type": "stream",
     "text": [
      "(17, 45) (40, 49)\n",
      "(29, 3) (14, 15)\n"
     ]
    },
    {
     "name": "stderr",
     "output_type": "stream",
     "text": [
      "\r",
      " 58%|█████▊    | 173/300 [00:19<00:15,  8.02it/s]"
     ]
    },
    {
     "name": "stdout",
     "output_type": "stream",
     "text": [
      "(10, 3) (43, 12)\n"
     ]
    },
    {
     "name": "stderr",
     "output_type": "stream",
     "text": [
      "\r",
      " 58%|█████▊    | 175/300 [00:19<00:19,  6.38it/s]"
     ]
    },
    {
     "name": "stdout",
     "output_type": "stream",
     "text": [
      "(29, 43) (10, 6)\n",
      "(49, 19) (44, 46)\n"
     ]
    },
    {
     "name": "stderr",
     "output_type": "stream",
     "text": [
      "\r",
      " 59%|█████▊    | 176/300 [00:19<00:22,  5.58it/s]"
     ]
    },
    {
     "name": "stdout",
     "output_type": "stream",
     "text": [
      "(28, 22) (3, 39)\n"
     ]
    },
    {
     "name": "stderr",
     "output_type": "stream",
     "text": [
      " 60%|█████▉    | 179/300 [00:20<00:16,  7.14it/s]"
     ]
    },
    {
     "name": "stdout",
     "output_type": "stream",
     "text": [
      "(41, 44) (3, 43)\n",
      "(16, 25) (10, 37)\n"
     ]
    },
    {
     "name": "stderr",
     "output_type": "stream",
     "text": [
      "\r",
      " 60%|██████    | 180/300 [00:20<00:18,  6.35it/s]"
     ]
    },
    {
     "name": "stdout",
     "output_type": "stream",
     "text": [
      "(40, 11) (6, 13)\n"
     ]
    },
    {
     "name": "stderr",
     "output_type": "stream",
     "text": [
      "\r",
      " 60%|██████    | 181/300 [00:20<00:20,  5.80it/s]"
     ]
    },
    {
     "name": "stdout",
     "output_type": "stream",
     "text": [
      "(10, 41) (32, 26)\n"
     ]
    },
    {
     "name": "stderr",
     "output_type": "stream",
     "text": [
      " 62%|██████▏   | 185/300 [00:20<00:19,  5.88it/s]"
     ]
    },
    {
     "name": "stdout",
     "output_type": "stream",
     "text": [
      "(22, 4) (41, 38)\n",
      "(8, 22) (4, 17)\n",
      "(1, 42) (9, 22)\n"
     ]
    },
    {
     "name": "stderr",
     "output_type": "stream",
     "text": [
      " 62%|██████▏   | 187/300 [00:21<00:22,  5.11it/s]"
     ]
    },
    {
     "name": "stdout",
     "output_type": "stream",
     "text": [
      "(16, 6) (49, 40)\n",
      "(15, 8) (34, 6)\n",
      "(9, 19) (13, 22)\n"
     ]
    },
    {
     "name": "stderr",
     "output_type": "stream",
     "text": [
      " 64%|██████▎   | 191/300 [00:21<00:16,  6.75it/s]"
     ]
    },
    {
     "name": "stdout",
     "output_type": "stream",
     "text": [
      "(23, 14) (19, 47)\n",
      "(5, 14) (27, 3)\n"
     ]
    },
    {
     "name": "stderr",
     "output_type": "stream",
     "text": [
      "\r",
      " 65%|██████▍   | 194/300 [00:22<00:12,  8.22it/s]"
     ]
    },
    {
     "name": "stdout",
     "output_type": "stream",
     "text": [
      "(29, 11) (11, 27)\n",
      "(21, 21) (26, 18)\n"
     ]
    },
    {
     "name": "stderr",
     "output_type": "stream",
     "text": [
      " 68%|██████▊   | 203/300 [00:22<00:07, 12.73it/s]"
     ]
    },
    {
     "name": "stdout",
     "output_type": "stream",
     "text": [
      "(32, 43) (7, 40)\n",
      "(18, 21) (17, 22)\n",
      "(44, 20) (49, 22)\n",
      "(47, 22) (45, 12)\n"
     ]
    },
    {
     "name": "stderr",
     "output_type": "stream",
     "text": [
      "\r",
      " 69%|██████▊   | 206/300 [00:22<00:08, 11.60it/s]"
     ]
    },
    {
     "name": "stdout",
     "output_type": "stream",
     "text": [
      "(16, 23) (24, 42)\n",
      "(29, 10) (2, 7)\n"
     ]
    },
    {
     "name": "stderr",
     "output_type": "stream",
     "text": [
      "\r",
      " 69%|██████▉   | 208/300 [00:22<00:08, 10.32it/s]"
     ]
    },
    {
     "name": "stdout",
     "output_type": "stream",
     "text": [
      "(17, 38) (26, 2)\n",
      "(29, 26) (7, 29)\n"
     ]
    },
    {
     "name": "stderr",
     "output_type": "stream",
     "text": [
      "\r",
      " 70%|███████   | 210/300 [00:23<00:11,  8.14it/s]"
     ]
    },
    {
     "name": "stdout",
     "output_type": "stream",
     "text": [
      "(46, 35) (32, 7)\n"
     ]
    },
    {
     "name": "stderr",
     "output_type": "stream",
     "text": [
      "\r",
      " 71%|███████   | 212/300 [00:23<00:13,  6.62it/s]"
     ]
    },
    {
     "name": "stdout",
     "output_type": "stream",
     "text": [
      "(13, 7) (40, 38)\n",
      "(36, 30) (45, 25)\n"
     ]
    },
    {
     "name": "stderr",
     "output_type": "stream",
     "text": [
      " 72%|███████▏  | 215/300 [00:24<00:13,  6.31it/s]"
     ]
    },
    {
     "name": "stdout",
     "output_type": "stream",
     "text": [
      "(17, 49) (47, 1)\n",
      "(17, 25) (29, 24)\n"
     ]
    },
    {
     "name": "stderr",
     "output_type": "stream",
     "text": [
      " 72%|███████▏  | 217/300 [00:24<00:14,  5.58it/s]"
     ]
    },
    {
     "name": "stdout",
     "output_type": "stream",
     "text": [
      "(41, 12) (1, 7)\n",
      "(47, 25) (37, 3)\n"
     ]
    },
    {
     "name": "stderr",
     "output_type": "stream",
     "text": [
      "\r",
      " 73%|███████▎  | 218/300 [00:25<00:17,  4.60it/s]"
     ]
    },
    {
     "name": "stdout",
     "output_type": "stream",
     "text": [
      "(32, 22) (4, 49)\n"
     ]
    },
    {
     "name": "stderr",
     "output_type": "stream",
     "text": [
      " 74%|███████▍  | 222/300 [00:25<00:13,  5.80it/s]"
     ]
    },
    {
     "name": "stdout",
     "output_type": "stream",
     "text": [
      "(31, 1) (46, 37)\n",
      "(44, 48) (30, 39)\n",
      "(48, 41) (44, 27)\n"
     ]
    },
    {
     "name": "stderr",
     "output_type": "stream",
     "text": [
      " 76%|███████▌  | 228/300 [00:25<00:09,  7.58it/s]"
     ]
    },
    {
     "name": "stdout",
     "output_type": "stream",
     "text": [
      "(2, 1) (11, 41)\n",
      "(38, 42) (46, 15)\n"
     ]
    },
    {
     "name": "stderr",
     "output_type": "stream",
     "text": [
      "\r",
      " 77%|███████▋  | 231/300 [00:26<00:07,  8.74it/s]"
     ]
    },
    {
     "name": "stdout",
     "output_type": "stream",
     "text": [
      "(1, 17) (13, 22)\n",
      "(44, 15) (47, 39)\n"
     ]
    },
    {
     "name": "stderr",
     "output_type": "stream",
     "text": [
      "\r",
      " 78%|███████▊  | 233/300 [00:26<00:08,  7.95it/s]"
     ]
    },
    {
     "name": "stdout",
     "output_type": "stream",
     "text": [
      "(44, 14) (17, 41)\n",
      "(29, 48) (20, 42)\n"
     ]
    },
    {
     "name": "stderr",
     "output_type": "stream",
     "text": [
      " 81%|████████  | 243/300 [00:26<00:05, 10.83it/s]"
     ]
    },
    {
     "name": "stdout",
     "output_type": "stream",
     "text": [
      "(28, 3) (41, 48)\n",
      "(8, 7) (4, 14)\n",
      "(6, 43) (4, 49)\n"
     ]
    },
    {
     "name": "stderr",
     "output_type": "stream",
     "text": [
      "\r",
      " 82%|████████▏ | 246/300 [00:27<00:04, 11.12it/s]"
     ]
    },
    {
     "name": "stdout",
     "output_type": "stream",
     "text": [
      "(30, 27) (2, 8)\n",
      "(20, 27) (9, 40)\n"
     ]
    },
    {
     "name": "stderr",
     "output_type": "stream",
     "text": [
      "\r",
      " 83%|████████▎ | 249/300 [00:27<00:05, 10.13it/s]"
     ]
    },
    {
     "name": "stdout",
     "output_type": "stream",
     "text": [
      "(26, 4) (18, 36)\n",
      "(38, 38) (8, 1)\n"
     ]
    },
    {
     "name": "stderr",
     "output_type": "stream",
     "text": [
      " 84%|████████▍ | 253/300 [00:28<00:06,  6.87it/s]"
     ]
    },
    {
     "name": "stdout",
     "output_type": "stream",
     "text": [
      "(9, 8) (47, 25)\n",
      "(17, 23) (36, 41)\n"
     ]
    },
    {
     "name": "stderr",
     "output_type": "stream",
     "text": [
      "\r",
      " 86%|████████▌ | 257/300 [00:28<00:04,  8.61it/s]"
     ]
    },
    {
     "name": "stdout",
     "output_type": "stream",
     "text": [
      "(9, 19) (6, 2)\n",
      "(6, 18) (22, 17)\n",
      "(12, 37) (1, 38)\n"
     ]
    },
    {
     "name": "stderr",
     "output_type": "stream",
     "text": [
      " 87%|████████▋ | 262/300 [00:29<00:03,  9.72it/s]"
     ]
    },
    {
     "name": "stdout",
     "output_type": "stream",
     "text": [
      "(9, 35) (31, 11)\n",
      "(41, 43) (48, 21)\n"
     ]
    },
    {
     "name": "stderr",
     "output_type": "stream",
     "text": [
      "\r",
      " 89%|████████▉ | 267/300 [00:29<00:02, 11.45it/s]"
     ]
    },
    {
     "name": "stdout",
     "output_type": "stream",
     "text": [
      "(49, 16) (25, 38)\n"
     ]
    },
    {
     "name": "stderr",
     "output_type": "stream",
     "text": [
      "\r",
      " 90%|████████▉ | 269/300 [00:29<00:03,  9.88it/s]"
     ]
    },
    {
     "name": "stdout",
     "output_type": "stream",
     "text": [
      "(30, 31) (7, 9)\n",
      "(20, 31) (23, 31)\n",
      "(37, 22) (48, 29)\n"
     ]
    },
    {
     "name": "stderr",
     "output_type": "stream",
     "text": [
      "\r",
      " 90%|█████████ | 271/300 [00:29<00:03,  9.37it/s]"
     ]
    },
    {
     "name": "stdout",
     "output_type": "stream",
     "text": [
      "(41, 7) (37, 23)\n",
      "(13, 30) (7, 36)\n",
      "(31, 18) (30, 21)\n"
     ]
    },
    {
     "name": "stderr",
     "output_type": "stream",
     "text": [
      " 92%|█████████▏| 277/300 [00:30<00:02, 10.47it/s]"
     ]
    },
    {
     "name": "stdout",
     "output_type": "stream",
     "text": [
      "(10, 20) (36, 42)\n",
      "(42, 48) (20, 36)\n",
      "(45, 43) (31, 45)\n"
     ]
    },
    {
     "name": "stderr",
     "output_type": "stream",
     "text": [
      "\r",
      " 93%|█████████▎| 279/300 [00:30<00:02,  8.13it/s]"
     ]
    },
    {
     "name": "stdout",
     "output_type": "stream",
     "text": [
      "(47, 37) (12, 15)\n"
     ]
    },
    {
     "name": "stderr",
     "output_type": "stream",
     "text": [
      " 94%|█████████▎| 281/300 [00:31<00:02,  6.72it/s]"
     ]
    },
    {
     "name": "stdout",
     "output_type": "stream",
     "text": [
      "(28, 44) (37, 12)\n",
      "(38, 24) (48, 9)\n"
     ]
    },
    {
     "name": "stderr",
     "output_type": "stream",
     "text": [
      "\r",
      " 94%|█████████▍| 282/300 [00:31<00:03,  4.81it/s]"
     ]
    },
    {
     "name": "stdout",
     "output_type": "stream",
     "text": [
      "(6, 4) (39, 33)\n",
      "(13, 30) (11, 15)\n"
     ]
    },
    {
     "name": "stderr",
     "output_type": "stream",
     "text": [
      "\r",
      " 96%|█████████▌| 288/300 [00:31<00:01,  6.28it/s]"
     ]
    },
    {
     "name": "stdout",
     "output_type": "stream",
     "text": [
      "(23, 1) (19, 29)\n"
     ]
    },
    {
     "name": "stderr",
     "output_type": "stream",
     "text": [
      " 97%|█████████▋| 291/300 [00:32<00:01,  7.02it/s]"
     ]
    },
    {
     "name": "stdout",
     "output_type": "stream",
     "text": [
      "(9, 35) (46, 16)\n",
      "(26, 48) (39, 40)\n"
     ]
    },
    {
     "name": "stderr",
     "output_type": "stream",
     "text": [
      " 98%|█████████▊| 293/300 [00:32<00:01,  6.12it/s]"
     ]
    },
    {
     "name": "stdout",
     "output_type": "stream",
     "text": [
      "(6, 6) (1, 43)\n",
      "(34, 34) (5, 39)\n"
     ]
    },
    {
     "name": "stderr",
     "output_type": "stream",
     "text": [
      "\r",
      " 98%|█████████▊| 294/300 [00:32<00:01,  5.03it/s]"
     ]
    },
    {
     "name": "stdout",
     "output_type": "stream",
     "text": [
      "(17, 28) (48, 6)\n"
     ]
    },
    {
     "name": "stderr",
     "output_type": "stream",
     "text": [
      "\r",
      " 99%|█████████▉| 297/300 [00:33<00:00,  5.83it/s]"
     ]
    },
    {
     "name": "stdout",
     "output_type": "stream",
     "text": [
      "(1, 29) (46, 17)\n"
     ]
    },
    {
     "name": "stderr",
     "output_type": "stream",
     "text": [
      "\r",
      "100%|█████████▉| 299/300 [00:33<00:00,  6.25it/s]"
     ]
    },
    {
     "name": "stdout",
     "output_type": "stream",
     "text": [
      "(32, 47) (39, 3)\n"
     ]
    },
    {
     "name": "stderr",
     "output_type": "stream",
     "text": [
      "100%|██████████| 300/300 [00:33<00:00,  8.93it/s]"
     ]
    },
    {
     "name": "stdout",
     "output_type": "stream",
     "text": [
      "(7, 14) (28, 47)\n"
     ]
    },
    {
     "name": "stderr",
     "output_type": "stream",
     "text": [
      "\n"
     ]
    }
   ],
   "source": [
    "# Get trainning data\n",
    "map_size = (50,50)\n",
    "MAPS = []\n",
    "n_rand = 1\n",
    "n_runs = 300\n",
    "pol = False\n",
    "\n",
    "for i in range(n_rand):\n",
    "    arr, train_MAP = placeRandomRooms(map_size, minRoomSize=3, maxRoomSize=15, roomStep = 1, margin = 1, attempts = 100)\n",
    "    MAPS.append((train_MAP,arr))\n",
    "\n",
    "df_ = synthesize_train_set(MAPS, num_runs = n_runs, polar=pol)"
   ]
  },
  {
   "cell_type": "code",
   "execution_count": 46,
   "metadata": {},
   "outputs": [],
   "source": [
    "enc = preprocessing.LabelEncoder()\n",
    "\n",
    "def make_tuple(x):\n",
    "    '''\n",
    "    Function used to turn 2 pandas columns into\n",
    "    a tuple in one column. See create_classification_problem\n",
    "    for use. \n",
    "    '''\n",
    "    return (x.iloc[0], x.iloc[1])\n",
    "\n",
    "def get_inv_dirs(x):\n",
    "    '''\n",
    "    Function to encode direction tuple according to hard-coded encoding\n",
    "    '''\n",
    "    return inv_dirs[x]\n",
    "\n",
    "def get_steer(x):\n",
    "    '''\n",
    "    Get either ccw, cw or straight\n",
    "    '''\n",
    "    if x == 1 or x == -3: # ccw\n",
    "        return 1\n",
    "    elif x == -1 or x == 3: # cw\n",
    "        return 2\n",
    "    else: return 0 # straight\n",
    "\n",
    "def create_classification_problem(df, one_hot=False):\n",
    "    '''\n",
    "    Now that training data has been synthesized, \n",
    "    prepare data for use with ML model. \n",
    "    '''\n",
    "    \n",
    "    # Turn (x,y) target into into string tuple\n",
    "    # so we can then use label encoding to turn\n",
    "    # this into a classification problem. \n",
    "#     df['out'] = df[[num_points_on_circ+2,num_points_on_circ+3]].apply(make_tuple, axis=1)\n",
    "    df['out'] = df[num_points_on_circ+2]\n",
    "    \n",
    "    df['out'] = df['out'].astype(str)\n",
    "\n",
    "    \n",
    "    # Drop the sample where we are at the target location. \n",
    "    # We don't want to learn to stay still. \n",
    "#     df = df[df['out']!='(0.0, 0.0)']\n",
    "    \n",
    "#     df = df[df['out']!=(0.0, 0.0)]\n",
    "#     df = df[df['out'] != 2] # drop 180 degrees turn which can only happen at start node\n",
    "#     df = df[df['out'] != -2]\n",
    " \n",
    "    # Label encode targets\n",
    "#     enc = preprocessing.LabelEncoder()\n",
    "    df['out'] = enc.fit_transform(df['out'])\n",
    "#     df['out'] = df['out'].apply(get_inv_dirs)\n",
    "#     df['out'] = df['out'].apply(get_steer)\n",
    "    \n",
    "    # Added one-hot encoding option which\n",
    "    # may be neccessary for some models\n",
    "    if one_hot:\n",
    "        ohe = preprocessing.OneHotEncoder(sparse=False)\n",
    "        ohe.fit(df['out'].values.reshape(-1,1)) \n",
    "        df['out'] = df['out'].apply(lambda x : ohe.transform(x))\n",
    "        df['out'] = df['out'].apply(lambda x : x[0])\n",
    "    \n",
    "    # Drop the (x,y) target columns, which have now\n",
    "    # been label encoded. \n",
    "#     df.drop([num_points_on_circ+2, num_points_on_circ+3], axis=1, inplace=True)\n",
    "    \n",
    "    df.drop([num_points_on_circ+2], axis=1, inplace=True)\n",
    "    \n",
    "    return df\n"
   ]
  },
  {
   "cell_type": "code",
   "execution_count": 47,
   "metadata": {},
   "outputs": [],
   "source": [
    "# Prep data for modeling\n",
    "df = create_classification_problem(df_.copy()) \n",
    "# Shuffle data (otherwise model can cheat and memorize order since these are no iid)\n",
    "df = df.sample(frac=1)\n",
    "# # Save to pickle\n",
    "# if pol:\n",
    "#     df.to_pickle(\"{}_multimap{}_polar.pkl\".format(n_runs, n_rand))\n",
    "# else:\n",
    "#     df.to_pickle(\"{}_multimap{}.pkl\".format(n_runs, n_rand))\n",
    "# print('Saved to pickle.')"
   ]
  },
  {
   "cell_type": "code",
   "execution_count": 55,
   "metadata": {},
   "outputs": [
    {
     "data": {
      "text/plain": [
       "array(['3.0'], dtype=object)"
      ]
     },
     "execution_count": 55,
     "metadata": {},
     "output_type": "execute_result"
    }
   ],
   "source": [
    "enc.inverse_transform([5])"
   ]
  },
  {
   "cell_type": "code",
   "execution_count": 10,
   "metadata": {},
   "outputs": [],
   "source": [
    "def quadFits(map_np, sx, sy, rx, ry, margin):\n",
    "        \"\"\"\n",
    "        looks to see if a quad shape will fit in the grid without colliding with any other tiles\n",
    "        used by placeRoom() and placeRandomRooms()\n",
    "         \n",
    "        Args:\n",
    "            sx and sy: integer, the bottom left coords of the quad to check\n",
    "            rx and ry: integer, the width and height of the quad, where rx > sx and ry > sy\n",
    "            margin: integer, the space in grid cells (ie, 0 = no cells, 1 = 1 cell, 2 = 2 cells) to be away from other tiles on the grid\n",
    "             \n",
    "        returns:\n",
    "            True if the quad fits\n",
    "        \"\"\"\n",
    "         \n",
    "        sx -= margin\n",
    "        sy -= margin\n",
    "        rx += margin*2\n",
    "        ry += margin*2\n",
    "        if sx + rx < np.size(map_np, axis=1) and sy + ry < np.size(map_np, axis=0) and sx >= 0 and sy >= 0:\n",
    "            for x in range(rx):\n",
    "                for y in range(ry):\n",
    "                    if map_np[sy+y, sx+x]: \n",
    "                        return False\n",
    "            return True\n",
    "        return False\n",
    "    \n",
    "def placeRandomRooms(map_size, minRoomSize, maxRoomSize, roomStep = 1, margin = 1, attempts = 500):\n",
    "    \"\"\" \n",
    "    randomly places quads in the grid\n",
    "    takes a brute force approach: randomly a generate quad in a random place -> check if fits -> reject if not\n",
    "    Populates self.rooms\n",
    "\n",
    "    Args:\n",
    "        minRoomSize: integer, smallest size of the quad\n",
    "        maxRoomSize: integer, largest the quad can be\n",
    "        roomStep: integer, the amount the room size can grow by, so to get rooms of odd or even numbered sizes set roomSize to 2 and the minSize to odd/even number accordingly\n",
    "        margin: integer, space in grid cells the room needs to be away from other tiles\n",
    "        attempts: the amount of tries to place rooms, larger values will give denser room placements, but slower generation times\n",
    "\n",
    "    Returns:\n",
    "        none\n",
    "    \"\"\"\n",
    "    \n",
    "    pols = [box(0,0,map_size[0], map_size[1])]\n",
    "    map_np = np.zeros(map_size)\n",
    "    \n",
    "    for attempt in range(attempts):\n",
    "        roomWidth = random.randrange(minRoomSize, maxRoomSize, roomStep)\n",
    "        roomHeight = random.randrange(minRoomSize, maxRoomSize, roomStep)\n",
    "        startX = random.randint(0, map_size[1])\n",
    "        startY = random.randint(0, map_size[0])            \n",
    "        if quadFits(map_np, startX, startY, roomWidth, roomHeight, margin):\n",
    "            for x in range(roomWidth):\n",
    "                for y in range(roomHeight):\n",
    "                    map_np[startY+y, startX+x] = 1\n",
    "            pols.append(box(startX, startY, startX+roomWidth, startY+roomHeight))\n",
    "    \n",
    "    lines = []\n",
    "    for pol in pols:\n",
    "        boundary = pol.boundary\n",
    "        if boundary.type == 'MultiLineString':\n",
    "            for line in boundary:\n",
    "                lines.append(line)\n",
    "        else:\n",
    "            lines.append(boundary)\n",
    "\n",
    "    MAP = MultiLineString(lines)\n",
    "    return map_np, MAP"
   ]
  },
  {
   "cell_type": "code",
   "execution_count": 13,
   "metadata": {},
   "outputs": [
    {
     "name": "stdout",
     "output_type": "stream",
     "text": [
      "Loaded to df.\n"
     ]
    },
    {
     "data": {
      "text/html": [
       "<div>\n",
       "<style scoped>\n",
       "    .dataframe tbody tr th:only-of-type {\n",
       "        vertical-align: middle;\n",
       "    }\n",
       "\n",
       "    .dataframe tbody tr th {\n",
       "        vertical-align: top;\n",
       "    }\n",
       "\n",
       "    .dataframe thead th {\n",
       "        text-align: right;\n",
       "    }\n",
       "</style>\n",
       "<table border=\"1\" class=\"dataframe\">\n",
       "  <thead>\n",
       "    <tr style=\"text-align: right;\">\n",
       "      <th></th>\n",
       "      <th>0</th>\n",
       "      <th>1</th>\n",
       "      <th>2</th>\n",
       "      <th>3</th>\n",
       "      <th>4</th>\n",
       "      <th>5</th>\n",
       "      <th>6</th>\n",
       "      <th>7</th>\n",
       "      <th>8</th>\n",
       "      <th>9</th>\n",
       "      <th>...</th>\n",
       "      <th>353</th>\n",
       "      <th>354</th>\n",
       "      <th>355</th>\n",
       "      <th>356</th>\n",
       "      <th>357</th>\n",
       "      <th>358</th>\n",
       "      <th>359</th>\n",
       "      <th>360</th>\n",
       "      <th>361</th>\n",
       "      <th>out</th>\n",
       "    </tr>\n",
       "  </thead>\n",
       "  <tbody>\n",
       "    <tr>\n",
       "      <th>14150</th>\n",
       "      <td>3.5</td>\n",
       "      <td>3.500533</td>\n",
       "      <td>3.502133</td>\n",
       "      <td>3.504803</td>\n",
       "      <td>3.508547</td>\n",
       "      <td>3.513369</td>\n",
       "      <td>3.519279</td>\n",
       "      <td>3.526284</td>\n",
       "      <td>3.534397</td>\n",
       "      <td>3.543628</td>\n",
       "      <td>...</td>\n",
       "      <td>3.526284</td>\n",
       "      <td>3.519279</td>\n",
       "      <td>3.513369</td>\n",
       "      <td>3.508547</td>\n",
       "      <td>3.504803</td>\n",
       "      <td>3.502133</td>\n",
       "      <td>3.500533</td>\n",
       "      <td>4.0</td>\n",
       "      <td>-1.200000e+01</td>\n",
       "      <td>1</td>\n",
       "    </tr>\n",
       "    <tr>\n",
       "      <th>1546</th>\n",
       "      <td>26.5</td>\n",
       "      <td>26.504037</td>\n",
       "      <td>26.516153</td>\n",
       "      <td>26.536367</td>\n",
       "      <td>26.564710</td>\n",
       "      <td>26.601226</td>\n",
       "      <td>14.350158</td>\n",
       "      <td>12.308264</td>\n",
       "      <td>10.777945</td>\n",
       "      <td>9.588680</td>\n",
       "      <td>...</td>\n",
       "      <td>4.102755</td>\n",
       "      <td>4.783386</td>\n",
       "      <td>5.736857</td>\n",
       "      <td>7.167794</td>\n",
       "      <td>26.536367</td>\n",
       "      <td>26.516153</td>\n",
       "      <td>26.504037</td>\n",
       "      <td>5.0</td>\n",
       "      <td>2.700000e+01</td>\n",
       "      <td>2</td>\n",
       "    </tr>\n",
       "    <tr>\n",
       "      <th>4794</th>\n",
       "      <td>22.5</td>\n",
       "      <td>22.503427</td>\n",
       "      <td>22.513715</td>\n",
       "      <td>22.530878</td>\n",
       "      <td>22.554943</td>\n",
       "      <td>22.585946</td>\n",
       "      <td>22.623936</td>\n",
       "      <td>22.668971</td>\n",
       "      <td>22.721120</td>\n",
       "      <td>22.780465</td>\n",
       "      <td>...</td>\n",
       "      <td>20.513773</td>\n",
       "      <td>22.623936</td>\n",
       "      <td>22.585946</td>\n",
       "      <td>22.554943</td>\n",
       "      <td>22.530878</td>\n",
       "      <td>22.513715</td>\n",
       "      <td>22.503427</td>\n",
       "      <td>21.0</td>\n",
       "      <td>2.571758e-15</td>\n",
       "      <td>2</td>\n",
       "    </tr>\n",
       "    <tr>\n",
       "      <th>7643</th>\n",
       "      <td>43.5</td>\n",
       "      <td>43.506626</td>\n",
       "      <td>14.326854</td>\n",
       "      <td>12.517154</td>\n",
       "      <td>12.530524</td>\n",
       "      <td>5.736857</td>\n",
       "      <td>4.783386</td>\n",
       "      <td>4.102755</td>\n",
       "      <td>3.592648</td>\n",
       "      <td>3.196227</td>\n",
       "      <td>...</td>\n",
       "      <td>12.308264</td>\n",
       "      <td>14.350158</td>\n",
       "      <td>17.210570</td>\n",
       "      <td>21.503381</td>\n",
       "      <td>28.660984</td>\n",
       "      <td>42.980563</td>\n",
       "      <td>43.506626</td>\n",
       "      <td>30.0</td>\n",
       "      <td>3.000000e+01</td>\n",
       "      <td>1</td>\n",
       "    </tr>\n",
       "    <tr>\n",
       "      <th>15755</th>\n",
       "      <td>30.5</td>\n",
       "      <td>30.504646</td>\n",
       "      <td>15.509448</td>\n",
       "      <td>15.521271</td>\n",
       "      <td>15.537849</td>\n",
       "      <td>15.559207</td>\n",
       "      <td>15.585378</td>\n",
       "      <td>15.616402</td>\n",
       "      <td>15.652327</td>\n",
       "      <td>15.693209</td>\n",
       "      <td>...</td>\n",
       "      <td>18.638932</td>\n",
       "      <td>18.601903</td>\n",
       "      <td>18.570667</td>\n",
       "      <td>21.503381</td>\n",
       "      <td>30.541857</td>\n",
       "      <td>30.518591</td>\n",
       "      <td>30.504646</td>\n",
       "      <td>29.0</td>\n",
       "      <td>2.000000e+00</td>\n",
       "      <td>0</td>\n",
       "    </tr>\n",
       "  </tbody>\n",
       "</table>\n",
       "<p>5 rows × 363 columns</p>\n",
       "</div>"
      ],
      "text/plain": [
       "          0          1          2          3          4          5          6  \\\n",
       "14150   3.5   3.500533   3.502133   3.504803   3.508547   3.513369   3.519279   \n",
       "1546   26.5  26.504037  26.516153  26.536367  26.564710  26.601226  14.350158   \n",
       "4794   22.5  22.503427  22.513715  22.530878  22.554943  22.585946  22.623936   \n",
       "7643   43.5  43.506626  14.326854  12.517154  12.530524   5.736857   4.783386   \n",
       "15755  30.5  30.504646  15.509448  15.521271  15.537849  15.559207  15.585378   \n",
       "\n",
       "               7          8          9  ...        353        354        355  \\\n",
       "14150   3.526284   3.534397   3.543628  ...   3.526284   3.519279   3.513369   \n",
       "1546   12.308264  10.777945   9.588680  ...   4.102755   4.783386   5.736857   \n",
       "4794   22.668971  22.721120  22.780465  ...  20.513773  22.623936  22.585946   \n",
       "7643    4.102755   3.592648   3.196227  ...  12.308264  14.350158  17.210570   \n",
       "15755  15.616402  15.652327  15.693209  ...  18.638932  18.601903  18.570667   \n",
       "\n",
       "             356        357        358        359   360           361  out  \n",
       "14150   3.508547   3.504803   3.502133   3.500533   4.0 -1.200000e+01    1  \n",
       "1546    7.167794  26.536367  26.516153  26.504037   5.0  2.700000e+01    2  \n",
       "4794   22.554943  22.530878  22.513715  22.503427  21.0  2.571758e-15    2  \n",
       "7643   21.503381  28.660984  42.980563  43.506626  30.0  3.000000e+01    1  \n",
       "15755  21.503381  30.541857  30.518591  30.504646  29.0  2.000000e+00    0  \n",
       "\n",
       "[5 rows x 363 columns]"
      ]
     },
     "execution_count": 13,
     "metadata": {},
     "output_type": "execute_result"
    }
   ],
   "source": [
    "# Load\n",
    "df = pd.read_pickle(\"data/1000_multimap50.pkl\")\n",
    "print('Loaded to df.')\n",
    "df.head()"
   ]
  },
  {
   "cell_type": "code",
   "execution_count": 46,
   "metadata": {},
   "outputs": [
    {
     "name": "stdout",
     "output_type": "stream",
     "text": [
      "Loaded to df.\n"
     ]
    },
    {
     "data": {
      "text/html": [
       "<div>\n",
       "<style scoped>\n",
       "    .dataframe tbody tr th:only-of-type {\n",
       "        vertical-align: middle;\n",
       "    }\n",
       "\n",
       "    .dataframe tbody tr th {\n",
       "        vertical-align: top;\n",
       "    }\n",
       "\n",
       "    .dataframe thead th {\n",
       "        text-align: right;\n",
       "    }\n",
       "</style>\n",
       "<table border=\"1\" class=\"dataframe\">\n",
       "  <thead>\n",
       "    <tr style=\"text-align: right;\">\n",
       "      <th></th>\n",
       "      <th>0</th>\n",
       "      <th>1</th>\n",
       "      <th>2</th>\n",
       "      <th>3</th>\n",
       "      <th>4</th>\n",
       "      <th>5</th>\n",
       "      <th>6</th>\n",
       "      <th>7</th>\n",
       "      <th>8</th>\n",
       "      <th>9</th>\n",
       "      <th>out</th>\n",
       "    </tr>\n",
       "  </thead>\n",
       "  <tbody>\n",
       "    <tr>\n",
       "      <th>0</th>\n",
       "      <td>31.5</td>\n",
       "      <td>0.707107</td>\n",
       "      <td>0.5</td>\n",
       "      <td>0.707107</td>\n",
       "      <td>18.5</td>\n",
       "      <td>4.949747</td>\n",
       "      <td>5.5</td>\n",
       "      <td>2.121320</td>\n",
       "      <td>23.0</td>\n",
       "      <td>1.000000e+00</td>\n",
       "      <td>3</td>\n",
       "    </tr>\n",
       "    <tr>\n",
       "      <th>1</th>\n",
       "      <td>7.5</td>\n",
       "      <td>21.920310</td>\n",
       "      <td>5.5</td>\n",
       "      <td>7.778175</td>\n",
       "      <td>24.5</td>\n",
       "      <td>9.192388</td>\n",
       "      <td>6.5</td>\n",
       "      <td>9.192388</td>\n",
       "      <td>2.0</td>\n",
       "      <td>3.673940e-16</td>\n",
       "      <td>3</td>\n",
       "    </tr>\n",
       "    <tr>\n",
       "      <th>2</th>\n",
       "      <td>4.5</td>\n",
       "      <td>7.778175</td>\n",
       "      <td>8.5</td>\n",
       "      <td>4.949747</td>\n",
       "      <td>3.5</td>\n",
       "      <td>4.949747</td>\n",
       "      <td>19.5</td>\n",
       "      <td>21.920310</td>\n",
       "      <td>2.0</td>\n",
       "      <td>3.673940e-16</td>\n",
       "      <td>3</td>\n",
       "    </tr>\n",
       "    <tr>\n",
       "      <th>3</th>\n",
       "      <td>0.5</td>\n",
       "      <td>0.707107</td>\n",
       "      <td>19.5</td>\n",
       "      <td>14.849242</td>\n",
       "      <td>10.5</td>\n",
       "      <td>4.949747</td>\n",
       "      <td>15.5</td>\n",
       "      <td>0.707107</td>\n",
       "      <td>1.0</td>\n",
       "      <td>8.000000e+00</td>\n",
       "      <td>2</td>\n",
       "    </tr>\n",
       "    <tr>\n",
       "      <th>4</th>\n",
       "      <td>13.5</td>\n",
       "      <td>0.707107</td>\n",
       "      <td>0.5</td>\n",
       "      <td>0.707107</td>\n",
       "      <td>13.5</td>\n",
       "      <td>0.707107</td>\n",
       "      <td>0.5</td>\n",
       "      <td>0.707107</td>\n",
       "      <td>35.0</td>\n",
       "      <td>-1.100000e+01</td>\n",
       "      <td>1</td>\n",
       "    </tr>\n",
       "  </tbody>\n",
       "</table>\n",
       "</div>"
      ],
      "text/plain": [
       "      0          1     2          3     4         5     6          7     8  \\\n",
       "0  31.5   0.707107   0.5   0.707107  18.5  4.949747   5.5   2.121320  23.0   \n",
       "1   7.5  21.920310   5.5   7.778175  24.5  9.192388   6.5   9.192388   2.0   \n",
       "2   4.5   7.778175   8.5   4.949747   3.5  4.949747  19.5  21.920310   2.0   \n",
       "3   0.5   0.707107  19.5  14.849242  10.5  4.949747  15.5   0.707107   1.0   \n",
       "4  13.5   0.707107   0.5   0.707107  13.5  0.707107   0.5   0.707107  35.0   \n",
       "\n",
       "              9  out  \n",
       "0  1.000000e+00    3  \n",
       "1  3.673940e-16    3  \n",
       "2  3.673940e-16    3  \n",
       "3  8.000000e+00    2  \n",
       "4 -1.100000e+01    1  "
      ]
     },
     "execution_count": 46,
     "metadata": {},
     "output_type": "execute_result"
    }
   ],
   "source": [
    "# Load from csv\n",
    "df = pd.read_csv('data/100k_w_orientation.csv')\n",
    "df.drop('Unnamed: 0', axis=1, inplace=True)\n",
    "print('Loaded to df.')\n",
    "df.head()"
   ]
  },
  {
   "cell_type": "code",
   "execution_count": 56,
   "metadata": {},
   "outputs": [
    {
     "name": "stdout",
     "output_type": "stream",
     "text": [
      "[0.95965154 0.96102705 0.95506648]\n"
     ]
    },
    {
     "data": {
      "text/plain": [
       "RandomForestClassifier(max_depth=36, n_estimators=150)"
      ]
     },
     "execution_count": 56,
     "metadata": {},
     "output_type": "execute_result"
    }
   ],
   "source": [
    "print(cross_val_score(RandomForestClassifier(), df.drop(['out'], axis=1).values, df['out'].values, cv=3, scoring = 'f1_micro'))\n",
    "# Fit model using all data.\n",
    "clf = RandomForestClassifier(n_estimators=150, max_depth=36)\n",
    "# df.drop(0, axis=0, inplace=True)\n",
    "clf.fit(df.drop(['out'], axis=1).values, df['out'].values)"
   ]
  },
  {
   "cell_type": "code",
   "execution_count": 57,
   "metadata": {},
   "outputs": [],
   "source": [
    "from copy import deepcopy\n",
    "'''\n",
    "Testing Env:\n",
    "\n",
    "Now we use trained model to nav unseen map. \n",
    "'''\n",
    "\n",
    "# Mapping from label encoder (just hard coded it here)\n",
    "# dirs = {0:(-1.0, 0.0), 1:(0.0, -1.0), 2:(0.0, 1.0), 3:(1.0, 0.0)}\n",
    "dirs = {0:(1.0, 0.0), 1:(0.0, 1.0), 2:(-1.0, 0.0), 3:(0.0, -1.0)}\n",
    "# steer = {0:0, 1:np.pi/2., 2:-np.pi/2}\n",
    "steer = {0:0, 1:np.pi/2., -1:-np.pi/2, 2:np.pi, -2:np.pi, 3:-np.pi/2, -3:np.pi/2}\n",
    "# map_params = [(5,8,18,23), (45,0,50,12), (10,10,15,15), (25,20,35,25), (44,44,49,49), (31,38,40,40), (30,10,39,19), (15,25,28,30), (30,30,35,35),(0,45,10,46), (20,30,5,35)]\n",
    "# map_size = (50,50)\n",
    "# Gen training map\n",
    "# test_MAP = gen_shapely_map(map_size, map_params)\n",
    "# Convert to numpy array for A*\n",
    "# arr = get_map_arr(map_params, map_size)\n",
    "\n",
    "def test_on_new_map(_MAP, test_arr, start, goal, model, polar=False):\n",
    "    \n",
    "    '''\n",
    "    Test model performance on unseen map. \n",
    "    \n",
    "    test_MAP = shapely map\n",
    "    test_arr = numpy grid of mapll\n",
    "    \n",
    "    start,goal = (x,y), (x,y)\n",
    "    model = trained sklearn model \n",
    "    '''\n",
    "    \n",
    "    # Get ground-truth path\n",
    "    groud_truth = get_path(start, goal, test_arr) \n",
    "    print(\"Number of steps taken in A* Path, \", len(groud_truth))\n",
    "    \n",
    "    # i counter just helps stop after a certain number of steps since\n",
    "    # at the moment the algorithm probably wont reach the goal. \n",
    "    i=0\n",
    "    # Start saving the path traveled\n",
    "    pred_path = [start]\n",
    "    cur_dir = (0, 0) # Get robot direction\n",
    "    \n",
    "    cur = start\n",
    "    while cur != goal:\n",
    "        try:\n",
    "            # Get the laser_scan data for the current point\n",
    "#             cur = (cur[0]+1, cur[1]+1)\n",
    "            laser_scan, lines = synthetic_sensor(_MAP, (cur[0]+0.5, cur[1]+0.5), direction=cur_dir)\n",
    "#             print(cur_dir)\n",
    "            # Get rotation\n",
    "            offset = 0\n",
    "            \n",
    "            if cur_dir != (0, 0): # Start node\n",
    "                offset = inv_dirs[cur_dir]\n",
    "            rot = np.pi/2 * offset\n",
    "            # Get goal in odom\n",
    "            goal_loc = (goal[0]-cur[0], goal[1]-cur[1])  \n",
    "            # Get goal in odom\n",
    "            goal_orn = (goal_loc[0]*np.cos(rot) + goal_loc[1]*np.sin(rot), goal_loc[0]*-np.sin(rot) + goal_loc[1]*np.cos(rot))\n",
    "            \n",
    "            if polar:\n",
    "                # Get polar distance\n",
    "                polar_distance = np.linalg.norm(np.array([goal_loc[0],goal_loc[1]]))\n",
    "                # Get polar rotation\n",
    "                polar_rotation = math.atan2(goal_orn[1], goal_orn[0])\n",
    "                laser_scan.append(polar_distance)\n",
    "                laser_scan.append(polar_rotation)\n",
    "            else:\n",
    "                laser_scan.append(goal_orn[0])\n",
    "                laser_scan.append(goal_orn[1])\n",
    "#             laser_scan.append(goal[0]-cur[0])\n",
    "#             laser_scan.append(goal[1]-cur[1])\n",
    "            \n",
    "            # Create model input\n",
    "            inpX = np.array(laser_scan)\n",
    "#             print(inpX)\n",
    "            \n",
    "            # Get predicted direction\n",
    "            inds = model.predict_proba(inpX.reshape(1,-1))[0]\n",
    "#             print(inds)\n",
    "            \n",
    "            best = list(np.argsort(inds))\n",
    "            best.reverse()\n",
    "            \n",
    "            possible_dirs = [eval(enc.inverse_transform(best)[ii]) for ii in range(len(best))]\n",
    "            print(possible_dirs)\n",
    "            possible_steers = [(np.cos(rot + steer[ind]), np.sin(rot + steer[ind])) for ind in possible_dirs]\n",
    "            print(possible_steers)\n",
    "#             sys.exit(0)\n",
    "#             possible_next_states = [(cur[0] + d[0], cur[1] + d[1]) for d in possible_dirs]\n",
    "            possible_next_states = [(cur[0] + steers[0], cur[1] + steers[1]) for steers in possible_steers]\n",
    "            \n",
    "            temp_states = deepcopy(possible_next_states)\n",
    "            for state in possible_next_states:\n",
    "                if (-1 in state) or (50 in state) or (0 in state) or (state in pred_path):\n",
    "                    temp_states.remove(state)\n",
    "\n",
    "            # Update state\n",
    "            cur_dir = (temp_states[0][0] - cur[0], temp_states[0][1] - cur[1])\n",
    "            cur = temp_states[0]\n",
    "#             print(cur_dir)\n",
    "#             print(cur)\n",
    "            \n",
    "#             laser_scan, lines = synthetic_sensor(_MAP, (cur[0]+0.5, cur[1]+0.5), direction=cur_dir)\n",
    "#             print(laser_scan)\n",
    "#             sys.exit(0)\n",
    "            \n",
    "            assert cur not in pred_path\n",
    "            pred_path.append(cur)\n",
    "            # Cout number of steps traveled \n",
    "            i+=1\n",
    "            if i==150 or cur == goal:\n",
    "                break\n",
    "        except:\n",
    "            break\n",
    "    \n",
    "    return pred_path \n",
    "    "
   ]
  },
  {
   "cell_type": "code",
   "execution_count": 64,
   "metadata": {},
   "outputs": [
    {
     "data": {
      "image/png": "[encoded data removed]",
      "text/plain": [
       "<Figure size 432x288 with 1 Axes>"
      ]
     },
     "metadata": {
      "needs_background": "light"
     },
     "output_type": "display_data"
    },
    {
     "name": "stdout",
     "output_type": "stream",
     "text": [
      "Number of steps taken in A* Path,  11\n",
      "[0.0, 3.0, -1.0, 2.0, 1.0, -3.0]\n",
      "[(1.0, 0.0), (6.123233995736766e-17, -1.0), (6.123233995736766e-17, -1.0), (-1.0, 1.2246467991473532e-16), (6.123233995736766e-17, 1.0), (6.123233995736766e-17, 1.0)]\n",
      "[0.0, 3.0, -1.0, 2.0, 1.0, -3.0]\n",
      "[(1.0, 0.0), (6.123233995736766e-17, -1.0), (6.123233995736766e-17, -1.0), (-1.0, 1.2246467991473532e-16), (6.123233995736766e-17, 1.0), (6.123233995736766e-17, 1.0)]\n",
      "[0.0, 3.0, -1.0, 2.0, 1.0, -3.0]\n",
      "[(1.0, 0.0), (6.123233995736766e-17, -1.0), (6.123233995736766e-17, -1.0), (-1.0, 1.2246467991473532e-16), (6.123233995736766e-17, 1.0), (6.123233995736766e-17, 1.0)]\n",
      "[-1.0, 0.0, 2.0, 3.0, 1.0, -3.0]\n",
      "[(6.123233995736766e-17, -1.0), (1.0, 0.0), (-1.0, 1.2246467991473532e-16), (6.123233995736766e-17, -1.0), (6.123233995736766e-17, 1.0), (6.123233995736766e-17, 1.0)]\n",
      "[0.0, 1.0, 3.0, 2.0, -3.0, -1.0]\n",
      "[(-1.8369701987210297e-16, -1.0), (1.0, -2.4492935982947064e-16), (-1.0, 1.2246467991473532e-16), (3.061616997868383e-16, 1.0), (1.0, -2.4492935982947064e-16), (-1.0, 1.2246467991473532e-16)]\n",
      "[0.0, 1.0, 3.0, -1.0, 2.0, -3.0]\n",
      "[(-1.8369701987210297e-16, -1.0), (1.0, -2.4492935982947064e-16), (-1.0, 1.2246467991473532e-16), (-1.0, 1.2246467991473532e-16), (3.061616997868383e-16, 1.0), (1.0, -2.4492935982947064e-16)]\n",
      "[0.0, 3.0, 2.0, 1.0, -3.0, -1.0]\n",
      "[(-1.8369701987210297e-16, -1.0), (-1.0, 1.2246467991473532e-16), (3.061616997868383e-16, 1.0), (1.0, -2.4492935982947064e-16), (1.0, -2.4492935982947064e-16), (-1.0, 1.2246467991473532e-16)]\n",
      "[0.0, 3.0, 2.0, 1.0, -3.0, -1.0]\n",
      "[(-1.8369701987210297e-16, -1.0), (-1.0, 1.2246467991473532e-16), (3.061616997868383e-16, 1.0), (1.0, -2.4492935982947064e-16), (1.0, -2.4492935982947064e-16), (-1.0, 1.2246467991473532e-16)]\n",
      "[0.0, 3.0, 2.0, 1.0, -3.0, -1.0]\n",
      "[(-1.8369701987210297e-16, -1.0), (-1.0, 1.2246467991473532e-16), (3.061616997868383e-16, 1.0), (1.0, -2.4492935982947064e-16), (1.0, -2.4492935982947064e-16), (-1.0, 1.2246467991473532e-16)]\n",
      "[0.0, 3.0, 2.0, 1.0, -3.0, -1.0]\n",
      "[(-1.8369701987210297e-16, -1.0), (-1.0, 1.2246467991473532e-16), (3.061616997868383e-16, 1.0), (1.0, -2.4492935982947064e-16), (1.0, -2.4492935982947064e-16), (-1.0, 1.2246467991473532e-16)]\n"
     ]
    },
    {
     "data": {
      "image/png": "[encoded data removed]",
      "text/plain": [
       "<Figure size 432x288 with 1 Axes>"
      ]
     },
     "metadata": {
      "needs_background": "light"
     },
     "output_type": "display_data"
    },
    {
     "name": "stdout",
     "output_type": "stream",
     "text": [
      "Number of steps taken in pred Path 11\n"
     ]
    }
   ],
   "source": [
    "# Test\n",
    "pred_len = []\n",
    "astar_len = []\n",
    "n_test = 0\n",
    "map_size = (50,50)\n",
    "\n",
    "if n_test < 1:\n",
    "    # TODO: Generalize to any map shape\n",
    "    start = (random.randint(1,49), random.randint(1,49))\n",
    "    goal = (random.randint(1,49), random.randint(1,49))\n",
    "#     arr, test_MAP = placeRandomRooms(map_size, minRoomSize=3, maxRoomSize=15, roomStep = 1, margin = 1, attempts = 100)\n",
    "    # If path is available, get test info\n",
    "    try:\n",
    "#         start, goal = (28, 14), (26, 37)\n",
    "        arr, test_MAP = MAPS[0][1], MAPS[0][0]\n",
    "        pred_path = test_on_new_map(test_MAP, arr, start, goal, clf, polar=False)\n",
    "        OccupancyGridMap(arr, 1).plot()\n",
    "        plot_path(pred_path)\n",
    "        pred_len.append(len(pred_path))\n",
    "        print('Number of steps taken in pred Path', len(pred_path))\n",
    "        astar_len.append(len(get_path(start, goal, arr, False)))\n",
    "        n_test += 1\n",
    "    except:\n",
    "        # No path found\n",
    "#         continue\n",
    "        pass"
   ]
  },
  {
   "cell_type": "code",
   "execution_count": 58,
   "metadata": {},
   "outputs": [
    {
     "data": {
      "image/png": "[encoded data removed]",
      "text/plain": [
       "<Figure size 432x288 with 1 Axes>"
      ]
     },
     "metadata": {
      "needs_background": "light"
     },
     "output_type": "display_data"
    },
    {
     "data": {
      "text/plain": [
       "[(45, 12),\n",
       " (44, 12),\n",
       " (43, 12),\n",
       " (42, 12),\n",
       " (41, 12),\n",
       " (40, 12),\n",
       " (39, 12),\n",
       " (38, 12),\n",
       " (37, 12),\n",
       " (36, 12),\n",
       " (35, 12),\n",
       " (34, 12),\n",
       " (33, 12),\n",
       " (32, 12),\n",
       " (31, 12),\n",
       " (30, 12),\n",
       " (29, 12),\n",
       " (28, 12),\n",
       " (28, 13),\n",
       " (28, 14),\n",
       " (28, 15),\n",
       " (28, 16),\n",
       " (28, 17),\n",
       " (28, 18),\n",
       " (28, 19),\n",
       " (28, 20),\n",
       " (28, 21),\n",
       " (28, 22),\n",
       " (28, 23),\n",
       " (28, 24),\n",
       " (28, 25),\n",
       " (28, 26),\n",
       " (28, 27),\n",
       " (28, 28),\n",
       " (28, 29),\n",
       " (28, 30),\n",
       " (27, 30),\n",
       " (26, 30),\n",
       " (26, 31),\n",
       " (26, 32),\n",
       " (26, 33),\n",
       " (26, 34),\n",
       " (26, 35),\n",
       " (26, 36),\n",
       " (26, 37)]"
      ]
     },
     "execution_count": 58,
     "metadata": {},
     "output_type": "execute_result"
    }
   ],
   "source": [
    "get_path((45, 12), (26, 37), MAPS[0][1], plot = True)"
   ]
  },
  {
   "cell_type": "code",
   "execution_count": 26,
   "metadata": {},
   "outputs": [
    {
     "data": {
      "text/html": [
       "<div>\n",
       "<style scoped>\n",
       "    .dataframe tbody tr th:only-of-type {\n",
       "        vertical-align: middle;\n",
       "    }\n",
       "\n",
       "    .dataframe tbody tr th {\n",
       "        vertical-align: top;\n",
       "    }\n",
       "\n",
       "    .dataframe thead th {\n",
       "        text-align: right;\n",
       "    }\n",
       "</style>\n",
       "<table border=\"1\" class=\"dataframe\">\n",
       "  <thead>\n",
       "    <tr style=\"text-align: right;\">\n",
       "      <th></th>\n",
       "      <th>0</th>\n",
       "      <th>1</th>\n",
       "      <th>2</th>\n",
       "      <th>3</th>\n",
       "      <th>4</th>\n",
       "      <th>5</th>\n",
       "      <th>6</th>\n",
       "      <th>7</th>\n",
       "      <th>8</th>\n",
       "      <th>9</th>\n",
       "      <th>10</th>\n",
       "    </tr>\n",
       "  </thead>\n",
       "  <tbody>\n",
       "    <tr>\n",
       "      <th>0</th>\n",
       "      <td>6.5</td>\n",
       "      <td>2.121320</td>\n",
       "      <td>1.5</td>\n",
       "      <td>2.121320</td>\n",
       "      <td>30.5</td>\n",
       "      <td>4.949747</td>\n",
       "      <td>3.5</td>\n",
       "      <td>4.949747</td>\n",
       "      <td>-1.000000e+00</td>\n",
       "      <td>3.600000e+01</td>\n",
       "      <td>1.0</td>\n",
       "    </tr>\n",
       "    <tr>\n",
       "      <th>1</th>\n",
       "      <td>0.5</td>\n",
       "      <td>0.707107</td>\n",
       "      <td>11.5</td>\n",
       "      <td>6.363961</td>\n",
       "      <td>4.5</td>\n",
       "      <td>6.363961</td>\n",
       "      <td>6.5</td>\n",
       "      <td>0.707107</td>\n",
       "      <td>3.500000e+01</td>\n",
       "      <td>1.000000e+00</td>\n",
       "      <td>-1.0</td>\n",
       "    </tr>\n",
       "    <tr>\n",
       "      <th>2</th>\n",
       "      <td>5.5</td>\n",
       "      <td>0.707107</td>\n",
       "      <td>0.5</td>\n",
       "      <td>0.707107</td>\n",
       "      <td>12.5</td>\n",
       "      <td>6.363961</td>\n",
       "      <td>4.5</td>\n",
       "      <td>6.363961</td>\n",
       "      <td>-2.000000e+00</td>\n",
       "      <td>3.500000e+01</td>\n",
       "      <td>0.0</td>\n",
       "    </tr>\n",
       "    <tr>\n",
       "      <th>3</th>\n",
       "      <td>4.5</td>\n",
       "      <td>0.707107</td>\n",
       "      <td>0.5</td>\n",
       "      <td>0.707107</td>\n",
       "      <td>13.5</td>\n",
       "      <td>6.363961</td>\n",
       "      <td>4.5</td>\n",
       "      <td>6.363961</td>\n",
       "      <td>-3.000000e+00</td>\n",
       "      <td>3.500000e+01</td>\n",
       "      <td>0.0</td>\n",
       "    </tr>\n",
       "    <tr>\n",
       "      <th>4</th>\n",
       "      <td>3.5</td>\n",
       "      <td>23.334524</td>\n",
       "      <td>0.5</td>\n",
       "      <td>0.707107</td>\n",
       "      <td>14.5</td>\n",
       "      <td>6.363961</td>\n",
       "      <td>4.5</td>\n",
       "      <td>6.363961</td>\n",
       "      <td>-4.000000e+00</td>\n",
       "      <td>3.500000e+01</td>\n",
       "      <td>0.0</td>\n",
       "    </tr>\n",
       "    <tr>\n",
       "      <th>5</th>\n",
       "      <td>2.5</td>\n",
       "      <td>21.920310</td>\n",
       "      <td>9.5</td>\n",
       "      <td>0.707107</td>\n",
       "      <td>15.5</td>\n",
       "      <td>6.363961</td>\n",
       "      <td>4.5</td>\n",
       "      <td>3.535534</td>\n",
       "      <td>-5.000000e+00</td>\n",
       "      <td>3.500000e+01</td>\n",
       "      <td>1.0</td>\n",
       "    </tr>\n",
       "    <tr>\n",
       "      <th>6</th>\n",
       "      <td>8.5</td>\n",
       "      <td>0.707107</td>\n",
       "      <td>0.5</td>\n",
       "      <td>0.707107</td>\n",
       "      <td>5.5</td>\n",
       "      <td>3.535534</td>\n",
       "      <td>15.5</td>\n",
       "      <td>21.920310</td>\n",
       "      <td>3.400000e+01</td>\n",
       "      <td>5.000000e+00</td>\n",
       "      <td>0.0</td>\n",
       "    </tr>\n",
       "    <tr>\n",
       "      <th>7</th>\n",
       "      <td>7.5</td>\n",
       "      <td>0.707107</td>\n",
       "      <td>0.5</td>\n",
       "      <td>0.707107</td>\n",
       "      <td>6.5</td>\n",
       "      <td>3.535534</td>\n",
       "      <td>15.5</td>\n",
       "      <td>21.920310</td>\n",
       "      <td>3.300000e+01</td>\n",
       "      <td>5.000000e+00</td>\n",
       "      <td>0.0</td>\n",
       "    </tr>\n",
       "    <tr>\n",
       "      <th>8</th>\n",
       "      <td>6.5</td>\n",
       "      <td>0.707107</td>\n",
       "      <td>0.5</td>\n",
       "      <td>0.707107</td>\n",
       "      <td>7.5</td>\n",
       "      <td>3.535534</td>\n",
       "      <td>15.5</td>\n",
       "      <td>21.920310</td>\n",
       "      <td>3.200000e+01</td>\n",
       "      <td>5.000000e+00</td>\n",
       "      <td>0.0</td>\n",
       "    </tr>\n",
       "    <tr>\n",
       "      <th>9</th>\n",
       "      <td>5.5</td>\n",
       "      <td>13.435029</td>\n",
       "      <td>34.5</td>\n",
       "      <td>0.707107</td>\n",
       "      <td>8.5</td>\n",
       "      <td>4.949747</td>\n",
       "      <td>15.5</td>\n",
       "      <td>21.920310</td>\n",
       "      <td>3.100000e+01</td>\n",
       "      <td>5.000000e+00</td>\n",
       "      <td>1.0</td>\n",
       "    </tr>\n",
       "    <tr>\n",
       "      <th>10</th>\n",
       "      <td>33.5</td>\n",
       "      <td>0.707107</td>\n",
       "      <td>0.5</td>\n",
       "      <td>0.707107</td>\n",
       "      <td>16.5</td>\n",
       "      <td>7.778175</td>\n",
       "      <td>5.5</td>\n",
       "      <td>12.020815</td>\n",
       "      <td>4.000000e+00</td>\n",
       "      <td>-3.100000e+01</td>\n",
       "      <td>0.0</td>\n",
       "    </tr>\n",
       "    <tr>\n",
       "      <th>11</th>\n",
       "      <td>32.5</td>\n",
       "      <td>0.707107</td>\n",
       "      <td>0.5</td>\n",
       "      <td>0.707107</td>\n",
       "      <td>17.5</td>\n",
       "      <td>7.778175</td>\n",
       "      <td>5.5</td>\n",
       "      <td>10.606602</td>\n",
       "      <td>3.000000e+00</td>\n",
       "      <td>-3.100000e+01</td>\n",
       "      <td>0.0</td>\n",
       "    </tr>\n",
       "    <tr>\n",
       "      <th>12</th>\n",
       "      <td>31.5</td>\n",
       "      <td>0.707107</td>\n",
       "      <td>0.5</td>\n",
       "      <td>0.707107</td>\n",
       "      <td>18.5</td>\n",
       "      <td>7.778175</td>\n",
       "      <td>5.5</td>\n",
       "      <td>10.606602</td>\n",
       "      <td>2.000000e+00</td>\n",
       "      <td>-3.100000e+01</td>\n",
       "      <td>0.0</td>\n",
       "    </tr>\n",
       "    <tr>\n",
       "      <th>13</th>\n",
       "      <td>30.5</td>\n",
       "      <td>0.707107</td>\n",
       "      <td>0.5</td>\n",
       "      <td>0.707107</td>\n",
       "      <td>19.5</td>\n",
       "      <td>7.778175</td>\n",
       "      <td>5.5</td>\n",
       "      <td>10.606602</td>\n",
       "      <td>1.000000e+00</td>\n",
       "      <td>-3.100000e+01</td>\n",
       "      <td>0.0</td>\n",
       "    </tr>\n",
       "    <tr>\n",
       "      <th>14</th>\n",
       "      <td>29.5</td>\n",
       "      <td>0.707107</td>\n",
       "      <td>0.5</td>\n",
       "      <td>0.707107</td>\n",
       "      <td>20.5</td>\n",
       "      <td>7.778175</td>\n",
       "      <td>41.5</td>\n",
       "      <td>10.606602</td>\n",
       "      <td>3.796405e-15</td>\n",
       "      <td>-3.100000e+01</td>\n",
       "      <td>-1.0</td>\n",
       "    </tr>\n",
       "    <tr>\n",
       "      <th>15</th>\n",
       "      <td>40.5</td>\n",
       "      <td>9.192388</td>\n",
       "      <td>19.5</td>\n",
       "      <td>2.121320</td>\n",
       "      <td>1.5</td>\n",
       "      <td>2.121320</td>\n",
       "      <td>20.5</td>\n",
       "      <td>6.363961</td>\n",
       "      <td>3.000000e+01</td>\n",
       "      <td>1.836970e-15</td>\n",
       "      <td>0.0</td>\n",
       "    </tr>\n",
       "    <tr>\n",
       "      <th>16</th>\n",
       "      <td>39.5</td>\n",
       "      <td>7.778175</td>\n",
       "      <td>19.5</td>\n",
       "      <td>3.535534</td>\n",
       "      <td>2.5</td>\n",
       "      <td>3.535534</td>\n",
       "      <td>20.5</td>\n",
       "      <td>4.949747</td>\n",
       "      <td>2.900000e+01</td>\n",
       "      <td>1.775738e-15</td>\n",
       "      <td>0.0</td>\n",
       "    </tr>\n",
       "    <tr>\n",
       "      <th>17</th>\n",
       "      <td>38.5</td>\n",
       "      <td>6.363961</td>\n",
       "      <td>19.5</td>\n",
       "      <td>4.949747</td>\n",
       "      <td>3.5</td>\n",
       "      <td>4.949747</td>\n",
       "      <td>20.5</td>\n",
       "      <td>3.535534</td>\n",
       "      <td>2.800000e+01</td>\n",
       "      <td>1.714506e-15</td>\n",
       "      <td>0.0</td>\n",
       "    </tr>\n",
       "    <tr>\n",
       "      <th>18</th>\n",
       "      <td>37.5</td>\n",
       "      <td>6.363961</td>\n",
       "      <td>19.5</td>\n",
       "      <td>17.677670</td>\n",
       "      <td>4.5</td>\n",
       "      <td>10.606602</td>\n",
       "      <td>20.5</td>\n",
       "      <td>2.121320</td>\n",
       "      <td>2.700000e+01</td>\n",
       "      <td>1.653273e-15</td>\n",
       "      <td>0.0</td>\n",
       "    </tr>\n",
       "    <tr>\n",
       "      <th>19</th>\n",
       "      <td>36.5</td>\n",
       "      <td>6.363961</td>\n",
       "      <td>19.5</td>\n",
       "      <td>19.091883</td>\n",
       "      <td>5.5</td>\n",
       "      <td>12.020815</td>\n",
       "      <td>20.5</td>\n",
       "      <td>0.707107</td>\n",
       "      <td>2.600000e+01</td>\n",
       "      <td>1.592041e-15</td>\n",
       "      <td>0.0</td>\n",
       "    </tr>\n",
       "    <tr>\n",
       "      <th>20</th>\n",
       "      <td>35.5</td>\n",
       "      <td>6.363961</td>\n",
       "      <td>19.5</td>\n",
       "      <td>14.849242</td>\n",
       "      <td>6.5</td>\n",
       "      <td>13.435029</td>\n",
       "      <td>0.5</td>\n",
       "      <td>0.707107</td>\n",
       "      <td>2.500000e+01</td>\n",
       "      <td>1.530808e-15</td>\n",
       "      <td>0.0</td>\n",
       "    </tr>\n",
       "    <tr>\n",
       "      <th>21</th>\n",
       "      <td>34.5</td>\n",
       "      <td>6.363961</td>\n",
       "      <td>19.5</td>\n",
       "      <td>14.849242</td>\n",
       "      <td>7.5</td>\n",
       "      <td>0.707107</td>\n",
       "      <td>0.5</td>\n",
       "      <td>0.707107</td>\n",
       "      <td>2.400000e+01</td>\n",
       "      <td>1.469576e-15</td>\n",
       "      <td>0.0</td>\n",
       "    </tr>\n",
       "    <tr>\n",
       "      <th>22</th>\n",
       "      <td>33.5</td>\n",
       "      <td>6.363961</td>\n",
       "      <td>4.5</td>\n",
       "      <td>14.849242</td>\n",
       "      <td>8.5</td>\n",
       "      <td>0.707107</td>\n",
       "      <td>0.5</td>\n",
       "      <td>0.707107</td>\n",
       "      <td>2.300000e+01</td>\n",
       "      <td>1.408344e-15</td>\n",
       "      <td>0.0</td>\n",
       "    </tr>\n",
       "    <tr>\n",
       "      <th>23</th>\n",
       "      <td>32.5</td>\n",
       "      <td>6.363961</td>\n",
       "      <td>4.5</td>\n",
       "      <td>14.849242</td>\n",
       "      <td>9.5</td>\n",
       "      <td>0.707107</td>\n",
       "      <td>0.5</td>\n",
       "      <td>0.707107</td>\n",
       "      <td>2.200000e+01</td>\n",
       "      <td>1.347111e-15</td>\n",
       "      <td>0.0</td>\n",
       "    </tr>\n",
       "    <tr>\n",
       "      <th>24</th>\n",
       "      <td>31.5</td>\n",
       "      <td>13.435029</td>\n",
       "      <td>4.5</td>\n",
       "      <td>16.263456</td>\n",
       "      <td>10.5</td>\n",
       "      <td>0.707107</td>\n",
       "      <td>0.5</td>\n",
       "      <td>0.707107</td>\n",
       "      <td>2.100000e+01</td>\n",
       "      <td>1.285879e-15</td>\n",
       "      <td>0.0</td>\n",
       "    </tr>\n",
       "    <tr>\n",
       "      <th>25</th>\n",
       "      <td>30.5</td>\n",
       "      <td>20.506097</td>\n",
       "      <td>4.5</td>\n",
       "      <td>17.677670</td>\n",
       "      <td>11.5</td>\n",
       "      <td>0.707107</td>\n",
       "      <td>0.5</td>\n",
       "      <td>0.707107</td>\n",
       "      <td>2.000000e+01</td>\n",
       "      <td>1.224647e-15</td>\n",
       "      <td>0.0</td>\n",
       "    </tr>\n",
       "    <tr>\n",
       "      <th>26</th>\n",
       "      <td>29.5</td>\n",
       "      <td>19.091883</td>\n",
       "      <td>4.5</td>\n",
       "      <td>6.363961</td>\n",
       "      <td>12.5</td>\n",
       "      <td>0.707107</td>\n",
       "      <td>0.5</td>\n",
       "      <td>0.707107</td>\n",
       "      <td>1.900000e+01</td>\n",
       "      <td>1.163414e-15</td>\n",
       "      <td>0.0</td>\n",
       "    </tr>\n",
       "    <tr>\n",
       "      <th>27</th>\n",
       "      <td>28.5</td>\n",
       "      <td>17.677670</td>\n",
       "      <td>4.5</td>\n",
       "      <td>6.363961</td>\n",
       "      <td>13.5</td>\n",
       "      <td>0.707107</td>\n",
       "      <td>0.5</td>\n",
       "      <td>0.707107</td>\n",
       "      <td>1.800000e+01</td>\n",
       "      <td>1.102182e-15</td>\n",
       "      <td>0.0</td>\n",
       "    </tr>\n",
       "    <tr>\n",
       "      <th>28</th>\n",
       "      <td>27.5</td>\n",
       "      <td>16.263456</td>\n",
       "      <td>25.5</td>\n",
       "      <td>6.363961</td>\n",
       "      <td>14.5</td>\n",
       "      <td>0.707107</td>\n",
       "      <td>0.5</td>\n",
       "      <td>0.707107</td>\n",
       "      <td>1.700000e+01</td>\n",
       "      <td>1.040950e-15</td>\n",
       "      <td>0.0</td>\n",
       "    </tr>\n",
       "    <tr>\n",
       "      <th>29</th>\n",
       "      <td>26.5</td>\n",
       "      <td>14.849242</td>\n",
       "      <td>25.5</td>\n",
       "      <td>6.363961</td>\n",
       "      <td>15.5</td>\n",
       "      <td>0.707107</td>\n",
       "      <td>0.5</td>\n",
       "      <td>0.707107</td>\n",
       "      <td>1.600000e+01</td>\n",
       "      <td>9.797174e-16</td>\n",
       "      <td>0.0</td>\n",
       "    </tr>\n",
       "    <tr>\n",
       "      <th>30</th>\n",
       "      <td>25.5</td>\n",
       "      <td>13.435029</td>\n",
       "      <td>29.5</td>\n",
       "      <td>6.363961</td>\n",
       "      <td>16.5</td>\n",
       "      <td>0.707107</td>\n",
       "      <td>0.5</td>\n",
       "      <td>0.707107</td>\n",
       "      <td>1.500000e+01</td>\n",
       "      <td>9.184851e-16</td>\n",
       "      <td>0.0</td>\n",
       "    </tr>\n",
       "    <tr>\n",
       "      <th>31</th>\n",
       "      <td>24.5</td>\n",
       "      <td>12.020815</td>\n",
       "      <td>29.5</td>\n",
       "      <td>6.363961</td>\n",
       "      <td>17.5</td>\n",
       "      <td>0.707107</td>\n",
       "      <td>0.5</td>\n",
       "      <td>0.707107</td>\n",
       "      <td>1.400000e+01</td>\n",
       "      <td>8.572528e-16</td>\n",
       "      <td>0.0</td>\n",
       "    </tr>\n",
       "    <tr>\n",
       "      <th>32</th>\n",
       "      <td>23.5</td>\n",
       "      <td>10.606602</td>\n",
       "      <td>9.5</td>\n",
       "      <td>6.363961</td>\n",
       "      <td>18.5</td>\n",
       "      <td>0.707107</td>\n",
       "      <td>20.5</td>\n",
       "      <td>2.121320</td>\n",
       "      <td>1.300000e+01</td>\n",
       "      <td>7.960204e-16</td>\n",
       "      <td>0.0</td>\n",
       "    </tr>\n",
       "    <tr>\n",
       "      <th>33</th>\n",
       "      <td>22.5</td>\n",
       "      <td>9.192388</td>\n",
       "      <td>9.5</td>\n",
       "      <td>7.778175</td>\n",
       "      <td>19.5</td>\n",
       "      <td>2.121320</td>\n",
       "      <td>1.5</td>\n",
       "      <td>2.121320</td>\n",
       "      <td>1.200000e+01</td>\n",
       "      <td>7.347881e-16</td>\n",
       "      <td>0.0</td>\n",
       "    </tr>\n",
       "    <tr>\n",
       "      <th>34</th>\n",
       "      <td>21.5</td>\n",
       "      <td>7.778175</td>\n",
       "      <td>9.5</td>\n",
       "      <td>9.192388</td>\n",
       "      <td>20.5</td>\n",
       "      <td>2.121320</td>\n",
       "      <td>1.5</td>\n",
       "      <td>2.121320</td>\n",
       "      <td>1.100000e+01</td>\n",
       "      <td>6.735557e-16</td>\n",
       "      <td>0.0</td>\n",
       "    </tr>\n",
       "    <tr>\n",
       "      <th>35</th>\n",
       "      <td>20.5</td>\n",
       "      <td>6.363961</td>\n",
       "      <td>20.5</td>\n",
       "      <td>10.606602</td>\n",
       "      <td>21.5</td>\n",
       "      <td>2.121320</td>\n",
       "      <td>1.5</td>\n",
       "      <td>2.121320</td>\n",
       "      <td>1.000000e+01</td>\n",
       "      <td>6.123234e-16</td>\n",
       "      <td>0.0</td>\n",
       "    </tr>\n",
       "    <tr>\n",
       "      <th>36</th>\n",
       "      <td>19.5</td>\n",
       "      <td>4.949747</td>\n",
       "      <td>20.5</td>\n",
       "      <td>12.020815</td>\n",
       "      <td>22.5</td>\n",
       "      <td>2.121320</td>\n",
       "      <td>1.5</td>\n",
       "      <td>2.121320</td>\n",
       "      <td>9.000000e+00</td>\n",
       "      <td>5.510911e-16</td>\n",
       "      <td>0.0</td>\n",
       "    </tr>\n",
       "    <tr>\n",
       "      <th>37</th>\n",
       "      <td>18.5</td>\n",
       "      <td>3.535534</td>\n",
       "      <td>20.5</td>\n",
       "      <td>13.435029</td>\n",
       "      <td>23.5</td>\n",
       "      <td>2.121320</td>\n",
       "      <td>1.5</td>\n",
       "      <td>2.121320</td>\n",
       "      <td>8.000000e+00</td>\n",
       "      <td>4.898587e-16</td>\n",
       "      <td>0.0</td>\n",
       "    </tr>\n",
       "    <tr>\n",
       "      <th>38</th>\n",
       "      <td>17.5</td>\n",
       "      <td>3.535534</td>\n",
       "      <td>20.5</td>\n",
       "      <td>14.849242</td>\n",
       "      <td>24.5</td>\n",
       "      <td>2.121320</td>\n",
       "      <td>20.5</td>\n",
       "      <td>0.707107</td>\n",
       "      <td>7.000000e+00</td>\n",
       "      <td>4.286264e-16</td>\n",
       "      <td>0.0</td>\n",
       "    </tr>\n",
       "    <tr>\n",
       "      <th>39</th>\n",
       "      <td>16.5</td>\n",
       "      <td>3.535534</td>\n",
       "      <td>20.5</td>\n",
       "      <td>27.577164</td>\n",
       "      <td>25.5</td>\n",
       "      <td>0.707107</td>\n",
       "      <td>0.5</td>\n",
       "      <td>0.707107</td>\n",
       "      <td>6.000000e+00</td>\n",
       "      <td>3.673940e-16</td>\n",
       "      <td>0.0</td>\n",
       "    </tr>\n",
       "    <tr>\n",
       "      <th>40</th>\n",
       "      <td>15.5</td>\n",
       "      <td>3.535534</td>\n",
       "      <td>2.5</td>\n",
       "      <td>27.577164</td>\n",
       "      <td>26.5</td>\n",
       "      <td>0.707107</td>\n",
       "      <td>0.5</td>\n",
       "      <td>0.707107</td>\n",
       "      <td>5.000000e+00</td>\n",
       "      <td>3.061617e-16</td>\n",
       "      <td>0.0</td>\n",
       "    </tr>\n",
       "    <tr>\n",
       "      <th>41</th>\n",
       "      <td>14.5</td>\n",
       "      <td>3.535534</td>\n",
       "      <td>2.5</td>\n",
       "      <td>13.435029</td>\n",
       "      <td>27.5</td>\n",
       "      <td>0.707107</td>\n",
       "      <td>0.5</td>\n",
       "      <td>0.707107</td>\n",
       "      <td>4.000000e+00</td>\n",
       "      <td>2.449294e-16</td>\n",
       "      <td>0.0</td>\n",
       "    </tr>\n",
       "    <tr>\n",
       "      <th>42</th>\n",
       "      <td>13.5</td>\n",
       "      <td>3.535534</td>\n",
       "      <td>2.5</td>\n",
       "      <td>3.535534</td>\n",
       "      <td>28.5</td>\n",
       "      <td>0.707107</td>\n",
       "      <td>0.5</td>\n",
       "      <td>0.707107</td>\n",
       "      <td>3.000000e+00</td>\n",
       "      <td>1.836970e-16</td>\n",
       "      <td>0.0</td>\n",
       "    </tr>\n",
       "    <tr>\n",
       "      <th>43</th>\n",
       "      <td>12.5</td>\n",
       "      <td>3.535534</td>\n",
       "      <td>2.5</td>\n",
       "      <td>3.535534</td>\n",
       "      <td>29.5</td>\n",
       "      <td>0.707107</td>\n",
       "      <td>0.5</td>\n",
       "      <td>0.707107</td>\n",
       "      <td>2.000000e+00</td>\n",
       "      <td>1.224647e-16</td>\n",
       "      <td>0.0</td>\n",
       "    </tr>\n",
       "    <tr>\n",
       "      <th>44</th>\n",
       "      <td>11.5</td>\n",
       "      <td>3.535534</td>\n",
       "      <td>2.5</td>\n",
       "      <td>3.535534</td>\n",
       "      <td>30.5</td>\n",
       "      <td>0.707107</td>\n",
       "      <td>0.5</td>\n",
       "      <td>0.707107</td>\n",
       "      <td>1.000000e+00</td>\n",
       "      <td>6.123234e-17</td>\n",
       "      <td>0.0</td>\n",
       "    </tr>\n",
       "    <tr>\n",
       "      <th>45</th>\n",
       "      <td>10.5</td>\n",
       "      <td>3.535534</td>\n",
       "      <td>2.5</td>\n",
       "      <td>3.535534</td>\n",
       "      <td>31.5</td>\n",
       "      <td>0.707107</td>\n",
       "      <td>0.5</td>\n",
       "      <td>0.707107</td>\n",
       "      <td>0.000000e+00</td>\n",
       "      <td>0.000000e+00</td>\n",
       "      <td>0.0</td>\n",
       "    </tr>\n",
       "  </tbody>\n",
       "</table>\n",
       "</div>"
      ],
      "text/plain": [
       "       0          1     2          3     4          5     6          7  \\\n",
       "0    6.5   2.121320   1.5   2.121320  30.5   4.949747   3.5   4.949747   \n",
       "1    0.5   0.707107  11.5   6.363961   4.5   6.363961   6.5   0.707107   \n",
       "2    5.5   0.707107   0.5   0.707107  12.5   6.363961   4.5   6.363961   \n",
       "3    4.5   0.707107   0.5   0.707107  13.5   6.363961   4.5   6.363961   \n",
       "4    3.5  23.334524   0.5   0.707107  14.5   6.363961   4.5   6.363961   \n",
       "5    2.5  21.920310   9.5   0.707107  15.5   6.363961   4.5   3.535534   \n",
       "6    8.5   0.707107   0.5   0.707107   5.5   3.535534  15.5  21.920310   \n",
       "7    7.5   0.707107   0.5   0.707107   6.5   3.535534  15.5  21.920310   \n",
       "8    6.5   0.707107   0.5   0.707107   7.5   3.535534  15.5  21.920310   \n",
       "9    5.5  13.435029  34.5   0.707107   8.5   4.949747  15.5  21.920310   \n",
       "10  33.5   0.707107   0.5   0.707107  16.5   7.778175   5.5  12.020815   \n",
       "11  32.5   0.707107   0.5   0.707107  17.5   7.778175   5.5  10.606602   \n",
       "12  31.5   0.707107   0.5   0.707107  18.5   7.778175   5.5  10.606602   \n",
       "13  30.5   0.707107   0.5   0.707107  19.5   7.778175   5.5  10.606602   \n",
       "14  29.5   0.707107   0.5   0.707107  20.5   7.778175  41.5  10.606602   \n",
       "15  40.5   9.192388  19.5   2.121320   1.5   2.121320  20.5   6.363961   \n",
       "16  39.5   7.778175  19.5   3.535534   2.5   3.535534  20.5   4.949747   \n",
       "17  38.5   6.363961  19.5   4.949747   3.5   4.949747  20.5   3.535534   \n",
       "18  37.5   6.363961  19.5  17.677670   4.5  10.606602  20.5   2.121320   \n",
       "19  36.5   6.363961  19.5  19.091883   5.5  12.020815  20.5   0.707107   \n",
       "20  35.5   6.363961  19.5  14.849242   6.5  13.435029   0.5   0.707107   \n",
       "21  34.5   6.363961  19.5  14.849242   7.5   0.707107   0.5   0.707107   \n",
       "22  33.5   6.363961   4.5  14.849242   8.5   0.707107   0.5   0.707107   \n",
       "23  32.5   6.363961   4.5  14.849242   9.5   0.707107   0.5   0.707107   \n",
       "24  31.5  13.435029   4.5  16.263456  10.5   0.707107   0.5   0.707107   \n",
       "25  30.5  20.506097   4.5  17.677670  11.5   0.707107   0.5   0.707107   \n",
       "26  29.5  19.091883   4.5   6.363961  12.5   0.707107   0.5   0.707107   \n",
       "27  28.5  17.677670   4.5   6.363961  13.5   0.707107   0.5   0.707107   \n",
       "28  27.5  16.263456  25.5   6.363961  14.5   0.707107   0.5   0.707107   \n",
       "29  26.5  14.849242  25.5   6.363961  15.5   0.707107   0.5   0.707107   \n",
       "30  25.5  13.435029  29.5   6.363961  16.5   0.707107   0.5   0.707107   \n",
       "31  24.5  12.020815  29.5   6.363961  17.5   0.707107   0.5   0.707107   \n",
       "32  23.5  10.606602   9.5   6.363961  18.5   0.707107  20.5   2.121320   \n",
       "33  22.5   9.192388   9.5   7.778175  19.5   2.121320   1.5   2.121320   \n",
       "34  21.5   7.778175   9.5   9.192388  20.5   2.121320   1.5   2.121320   \n",
       "35  20.5   6.363961  20.5  10.606602  21.5   2.121320   1.5   2.121320   \n",
       "36  19.5   4.949747  20.5  12.020815  22.5   2.121320   1.5   2.121320   \n",
       "37  18.5   3.535534  20.5  13.435029  23.5   2.121320   1.5   2.121320   \n",
       "38  17.5   3.535534  20.5  14.849242  24.5   2.121320  20.5   0.707107   \n",
       "39  16.5   3.535534  20.5  27.577164  25.5   0.707107   0.5   0.707107   \n",
       "40  15.5   3.535534   2.5  27.577164  26.5   0.707107   0.5   0.707107   \n",
       "41  14.5   3.535534   2.5  13.435029  27.5   0.707107   0.5   0.707107   \n",
       "42  13.5   3.535534   2.5   3.535534  28.5   0.707107   0.5   0.707107   \n",
       "43  12.5   3.535534   2.5   3.535534  29.5   0.707107   0.5   0.707107   \n",
       "44  11.5   3.535534   2.5   3.535534  30.5   0.707107   0.5   0.707107   \n",
       "45  10.5   3.535534   2.5   3.535534  31.5   0.707107   0.5   0.707107   \n",
       "\n",
       "               8             9   10  \n",
       "0  -1.000000e+00  3.600000e+01  1.0  \n",
       "1   3.500000e+01  1.000000e+00 -1.0  \n",
       "2  -2.000000e+00  3.500000e+01  0.0  \n",
       "3  -3.000000e+00  3.500000e+01  0.0  \n",
       "4  -4.000000e+00  3.500000e+01  0.0  \n",
       "5  -5.000000e+00  3.500000e+01  1.0  \n",
       "6   3.400000e+01  5.000000e+00  0.0  \n",
       "7   3.300000e+01  5.000000e+00  0.0  \n",
       "8   3.200000e+01  5.000000e+00  0.0  \n",
       "9   3.100000e+01  5.000000e+00  1.0  \n",
       "10  4.000000e+00 -3.100000e+01  0.0  \n",
       "11  3.000000e+00 -3.100000e+01  0.0  \n",
       "12  2.000000e+00 -3.100000e+01  0.0  \n",
       "13  1.000000e+00 -3.100000e+01  0.0  \n",
       "14  3.796405e-15 -3.100000e+01 -1.0  \n",
       "15  3.000000e+01  1.836970e-15  0.0  \n",
       "16  2.900000e+01  1.775738e-15  0.0  \n",
       "17  2.800000e+01  1.714506e-15  0.0  \n",
       "18  2.700000e+01  1.653273e-15  0.0  \n",
       "19  2.600000e+01  1.592041e-15  0.0  \n",
       "20  2.500000e+01  1.530808e-15  0.0  \n",
       "21  2.400000e+01  1.469576e-15  0.0  \n",
       "22  2.300000e+01  1.408344e-15  0.0  \n",
       "23  2.200000e+01  1.347111e-15  0.0  \n",
       "24  2.100000e+01  1.285879e-15  0.0  \n",
       "25  2.000000e+01  1.224647e-15  0.0  \n",
       "26  1.900000e+01  1.163414e-15  0.0  \n",
       "27  1.800000e+01  1.102182e-15  0.0  \n",
       "28  1.700000e+01  1.040950e-15  0.0  \n",
       "29  1.600000e+01  9.797174e-16  0.0  \n",
       "30  1.500000e+01  9.184851e-16  0.0  \n",
       "31  1.400000e+01  8.572528e-16  0.0  \n",
       "32  1.300000e+01  7.960204e-16  0.0  \n",
       "33  1.200000e+01  7.347881e-16  0.0  \n",
       "34  1.100000e+01  6.735557e-16  0.0  \n",
       "35  1.000000e+01  6.123234e-16  0.0  \n",
       "36  9.000000e+00  5.510911e-16  0.0  \n",
       "37  8.000000e+00  4.898587e-16  0.0  \n",
       "38  7.000000e+00  4.286264e-16  0.0  \n",
       "39  6.000000e+00  3.673940e-16  0.0  \n",
       "40  5.000000e+00  3.061617e-16  0.0  \n",
       "41  4.000000e+00  2.449294e-16  0.0  \n",
       "42  3.000000e+00  1.836970e-16  0.0  \n",
       "43  2.000000e+00  1.224647e-16  0.0  \n",
       "44  1.000000e+00  6.123234e-17  0.0  \n",
       "45  0.000000e+00  0.000000e+00  0.0  "
      ]
     },
     "execution_count": 26,
     "metadata": {},
     "output_type": "execute_result"
    }
   ],
   "source": [
    "df_"
   ]
  },
  {
   "cell_type": "code",
   "execution_count": null,
   "metadata": {},
   "outputs": [],
   "source": []
  },
  {
   "cell_type": "code",
   "execution_count": null,
   "metadata": {},
   "outputs": [],
   "source": []
  },
  {
   "cell_type": "code",
   "execution_count": null,
   "metadata": {},
   "outputs": [],
   "source": []
  },
  {
   "cell_type": "code",
   "execution_count": null,
   "metadata": {},
   "outputs": [],
   "source": []
  },
  {
   "cell_type": "code",
   "execution_count": null,
   "metadata": {},
   "outputs": [],
   "source": []
  },
  {
   "cell_type": "code",
   "execution_count": 245,
   "metadata": {},
   "outputs": [],
   "source": [
    "def plot_path_with_lines(pred_path, MAP):\n",
    "    '''\n",
    "    Given predicted path nodes and map, \n",
    "    plot the path and the sensor readings for each node\n",
    "    '''\n",
    "    # Update node positions for shapely plotting\n",
    "    pred_path = [(p[0]+0.5, p[1]+0.5) for p in pred_path]\n",
    "    # Save filenames for GIF creation\n",
    "    filenames=[]\n",
    "    for i, node in enumerate(pred_path):\n",
    "        # Create fig\n",
    "        fig = plt.figure(frameon=False)\n",
    "        fig.set_size_inches(6,6)\n",
    "        plt.plot(*LineString(pred_path).xy)\n",
    "        plt.scatter(*node, s=30, alpha=1.0)\n",
    "        # Get lines from sensor \n",
    "        _, lines = synthetic_sensor(MAP, node)\n",
    "        for index, l in enumerate(MAP): \n",
    "            if index != 0:\n",
    "                plt.fill(*l.xy, alpha=1)\n",
    "            else:\n",
    "                plt.plot(*l.xy, alpha=1)\n",
    "        for k, line in enumerate(lines):\n",
    "            plt.plot(*line.xy, alpha=0.25)\n",
    "        filenames.append('img_{}.png'.format(i))\n",
    "        plt.savefig('img_{}.png'.format(i))\n",
    "        plt.close()\n",
    "    \n",
    "    # Make GIF\n",
    "    images = []\n",
    "    for filename in filenames:\n",
    "        images.append(imageio.imread(filename))\n",
    "    imageio.mimsave('demo.gif', images)\n",
    "        \n",
    "plot_path_with_lines(pred_path, test_MAP)"
   ]
  },
  {
   "cell_type": "code",
   "execution_count": null,
   "metadata": {},
   "outputs": [],
   "source": []
  },
  {
   "cell_type": "code",
   "execution_count": null,
   "metadata": {},
   "outputs": [],
   "source": []
  },
  {
   "cell_type": "code",
   "execution_count": null,
   "metadata": {},
   "outputs": [],
   "source": []
  },
  {
   "cell_type": "code",
   "execution_count": null,
   "metadata": {},
   "outputs": [],
   "source": []
  },
  {
   "cell_type": "code",
   "execution_count": 244,
   "metadata": {},
   "outputs": [
    {
     "ename": "NameError",
     "evalue": "name 'nn' is not defined",
     "output_type": "error",
     "traceback": [
      "\u001b[1;31m---------------------------------------------------------------------------\u001b[0m",
      "\u001b[1;31mNameError\u001b[0m                                 Traceback (most recent call last)",
      "\u001b[1;32m<ipython-input-244-4d33aa6676c1>\u001b[0m in \u001b[0;36m<module>\u001b[1;34m\u001b[0m\n\u001b[0;32m     23\u001b[0m \u001b[1;32mfrom\u001b[0m \u001b[0mtqdm\u001b[0m\u001b[1;33m.\u001b[0m\u001b[0mnotebook\u001b[0m \u001b[1;32mimport\u001b[0m \u001b[0mtqdm\u001b[0m\u001b[1;33m\u001b[0m\u001b[1;33m\u001b[0m\u001b[0m\n\u001b[0;32m     24\u001b[0m \u001b[0moptimizer\u001b[0m \u001b[1;33m=\u001b[0m \u001b[0mtorch\u001b[0m\u001b[1;33m.\u001b[0m\u001b[0moptim\u001b[0m\u001b[1;33m.\u001b[0m\u001b[0mAdam\u001b[0m\u001b[1;33m(\u001b[0m\u001b[0mmodel\u001b[0m\u001b[1;33m.\u001b[0m\u001b[0mparameters\u001b[0m\u001b[1;33m(\u001b[0m\u001b[1;33m)\u001b[0m\u001b[1;33m,\u001b[0m \u001b[0mlr\u001b[0m\u001b[1;33m=\u001b[0m\u001b[1;36m0.001\u001b[0m\u001b[1;33m)\u001b[0m\u001b[1;33m\u001b[0m\u001b[1;33m\u001b[0m\u001b[0m\n\u001b[1;32m---> 25\u001b[1;33m \u001b[0mcriterion\u001b[0m \u001b[1;33m=\u001b[0m \u001b[0mnn\u001b[0m\u001b[1;33m.\u001b[0m\u001b[0mCrossEntropyLoss\u001b[0m\u001b[1;33m(\u001b[0m\u001b[1;33m)\u001b[0m\u001b[1;33m\u001b[0m\u001b[1;33m\u001b[0m\u001b[0m\n\u001b[0m\u001b[0;32m     26\u001b[0m \u001b[1;32mif\u001b[0m \u001b[0mtorch\u001b[0m\u001b[1;33m.\u001b[0m\u001b[0mcuda\u001b[0m\u001b[1;33m.\u001b[0m\u001b[0mis_available\u001b[0m\u001b[1;33m(\u001b[0m\u001b[1;33m)\u001b[0m\u001b[1;33m:\u001b[0m\u001b[1;33m\u001b[0m\u001b[1;33m\u001b[0m\u001b[0m\n\u001b[0;32m     27\u001b[0m     \u001b[0mmodel\u001b[0m \u001b[1;33m=\u001b[0m \u001b[0mmodel\u001b[0m\u001b[1;33m.\u001b[0m\u001b[0mcuda\u001b[0m\u001b[1;33m(\u001b[0m\u001b[1;33m)\u001b[0m\u001b[1;33m\u001b[0m\u001b[1;33m\u001b[0m\u001b[0m\n",
      "\u001b[1;31mNameError\u001b[0m: name 'nn' is not defined"
     ]
    }
   ],
   "source": [
    "# DL Solution ... not currently learning. \n",
    "\n",
    "import torch\n",
    "class SensorData(torch.utils.data.Dataset):\n",
    "    def __init__(self, df):\n",
    "        self.df = df.copy()\n",
    "        self.mms = MinMaxScaler()\n",
    "        self.mms.fit(df.drop('out', axis=1).values)\n",
    "    def __len__(self):\n",
    "        return len(self.df)\n",
    "    def __getitem__(self, idx):\n",
    "        sample = self.df.iloc[idx]\n",
    "        x = self.mms.transform(sample.drop('out').values.astype(np.float32).reshape(1,-1))\n",
    "        y = sample['out']\n",
    "        return (torch.from_numpy(x).double(), y)\n",
    "    \n",
    "ds = SensorData(df)\n",
    "train_loader = torch.utils.data.DataLoader(ds,64,True, num_workers=0, pin_memory=True)\n",
    "\n",
    "from resnet1d import ResNet1D\n",
    "model = ResNet1D(1,64,3,3,1,24,4).cuda()\n",
    "\n",
    "from tqdm.notebook import tqdm\n",
    "optimizer = torch.optim.Adam(model.parameters(), lr=0.001)\n",
    "criterion = nn.CrossEntropyLoss()\n",
    "if torch.cuda.is_available():\n",
    "    model = model.cuda()\n",
    "    criterion = criterion.cuda()\n",
    "\n",
    "loss = 0\n",
    "for i in range(20):\n",
    "    ep_loss = 0\n",
    "    for batch in tqdm(train_loader):\n",
    "        model.train()\n",
    "        x,y = batch[0].cuda().float(), batch[1].cuda()\n",
    "\n",
    "        optimizer.zero_grad()\n",
    "        \n",
    "        out = model(x)\n",
    "        loss = criterion(out,y.long())\n",
    "        loss.backward()\n",
    "        optimizer.step()\n",
    "        ep_loss += loss.item()\n",
    "        \n",
    "    print(ep_loss/len(train_loader))\n",
    "        "
   ]
  },
  {
   "cell_type": "code",
   "execution_count": 2,
   "metadata": {},
   "outputs": [
    {
     "name": "stdout",
     "output_type": "stream",
     "text": [
      "Collecting imageio\n",
      "  Downloading imageio-2.9.0-py3-none-any.whl (3.3 MB)\n",
      "\u001b[K     |████████████████████████████████| 3.3 MB 8.3 MB/s eta 0:00:01\n",
      "\u001b[?25hRequirement already satisfied: numpy in /home/sb/venv/lib/python3.8/site-packages (from imageio) (1.17.4)\n",
      "Requirement already satisfied: pillow in /home/sb/venv/lib/python3.8/site-packages (from imageio) (6.2.1)\n",
      "Installing collected packages: imageio\n",
      "Successfully installed imageio-2.9.0\n"
     ]
    }
   ],
   "source": [
    "!pip install imageio"
   ]
  },
  {
   "cell_type": "code",
   "execution_count": null,
   "metadata": {},
   "outputs": [],
   "source": []
  }
 ],
 "metadata": {
  "kernelspec": {
   "display_name": "Python 3",
   "language": "python",
   "name": "python3"
  },
  "language_info": {
   "codemirror_mode": {
    "name": "ipython",
    "version": 3
   },
   "file_extension": ".py",
   "mimetype": "text/x-python",
   "name": "python",
   "nbconvert_exporter": "python",
   "pygments_lexer": "ipython3",
   "version": "3.8.6"
  }
 },
 "nbformat": 4,
 "nbformat_minor": 2
}
