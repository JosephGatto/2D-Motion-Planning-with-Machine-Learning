{
 "cells": [
  {
   "cell_type": "code",
   "execution_count": 2,
   "metadata": {},
   "outputs": [],
   "source": [
    "import warnings\n",
    "import numpy as np\n",
    "import matplotlib.pyplot as plt\n",
    "import pandas as pd\n",
    "%matplotlib inline\n",
    "warnings.filterwarnings('ignore')\n",
    "\n",
    "from synthesize import placeRandomRooms, synthesize_train_set, synthetic_sensor\n",
    "from planning_utils import create_classification_problem, get_path, plot_path\n",
    "\n",
    "from sklearn import preprocessing\n",
    "from sklearn.ensemble import AdaBoostClassifier, RandomForestClassifier\n",
    "from sklearn.tree import DecisionTreeClassifier\n",
    "from sklearn.model_selection import cross_val_score\n",
    "import random\n",
    "from copy import deepcopy\n",
    "import math\n",
    "from shapely.geometry import LineString\n",
    "from gridmap import OccupancyGridMap\n",
    "\n",
    "from shapely.geometry import MultiLineString, LineString"
   ]
  },
  {
   "cell_type": "code",
   "execution_count": 93,
   "metadata": {},
   "outputs": [],
   "source": [
    "dirs = {0:(1.0, 0.0), 1:(0.0, 1.0), 2:(-1.0, 0.0), 3:(0.0, -1.0)}\n",
    "inv_dirs = {d: label for label, d in dirs.items()}\n",
    "\n",
    "map_size = (50,50)\n",
    "MAPS = []\n",
    "n_rand = 1\n",
    "n_runs = 300\n",
    "pol = False\n",
    "num_sensor_readings = 8\n",
    "\n",
    "for i in range(n_rand):\n",
    "    train_arr, train_MAP = placeRandomRooms(map_size, minRoomSize=3, maxRoomSize=15, roomStep = 1, margin = 4, attempts = 100)\n",
    "    MAPS.append((train_MAP,train_arr))"
   ]
  },
  {
   "cell_type": "code",
   "execution_count": 94,
   "metadata": {},
   "outputs": [
    {
     "name": "stderr",
     "output_type": "stream",
     "text": [
      "  1%|▏         | 4/300 [00:00<00:19, 15.38it/s]"
     ]
    },
    {
     "name": "stdout",
     "output_type": "stream",
     "text": [
      "(33, 2) (48, 3)\n",
      "(22, 46) (46, 22)\n"
     ]
    },
    {
     "name": "stderr",
     "output_type": "stream",
     "text": [
      "\r",
      "  2%|▏         | 5/300 [00:00<00:38,  7.68it/s]"
     ]
    },
    {
     "name": "stdout",
     "output_type": "stream",
     "text": [
      "(1, 2) (48, 30)\n",
      "(27, 46) (20, 44)\n",
      "(48, 33) (45, 36)\n"
     ]
    },
    {
     "name": "stderr",
     "output_type": "stream",
     "text": [
      "  3%|▎         | 9/300 [00:00<00:34,  8.52it/s]"
     ]
    },
    {
     "name": "stdout",
     "output_type": "stream",
     "text": [
      "(11, 11) (48, 22)\n",
      "(23, 33) (12, 13)\n"
     ]
    },
    {
     "name": "stderr",
     "output_type": "stream",
     "text": [
      "  4%|▎         | 11/300 [00:01<00:38,  7.43it/s]"
     ]
    },
    {
     "name": "stdout",
     "output_type": "stream",
     "text": [
      "(19, 11) (46, 30)\n",
      "(10, 29) (38, 28)\n",
      "(31, 6) (10, 11)\n"
     ]
    },
    {
     "name": "stderr",
     "output_type": "stream",
     "text": [
      "\r",
      "  4%|▍         | 13/300 [00:01<00:41,  7.00it/s]"
     ]
    },
    {
     "name": "stdout",
     "output_type": "stream",
     "text": [
      "(7, 38) (40, 11)\n"
     ]
    },
    {
     "name": "stderr",
     "output_type": "stream",
     "text": [
      "  6%|▌         | 18/300 [00:01<00:39,  7.20it/s]"
     ]
    },
    {
     "name": "stdout",
     "output_type": "stream",
     "text": [
      "(35, 2) (1, 42)\n",
      "(45, 6) (4, 10)\n",
      "(17, 10) (2, 23)\n"
     ]
    },
    {
     "name": "stderr",
     "output_type": "stream",
     "text": [
      "\r",
      "  7%|▋         | 20/300 [00:02<00:42,  6.66it/s]"
     ]
    },
    {
     "name": "stdout",
     "output_type": "stream",
     "text": [
      "(45, 6) (23, 42)\n"
     ]
    },
    {
     "name": "stderr",
     "output_type": "stream",
     "text": [
      "  8%|▊         | 23/300 [00:02<00:40,  6.76it/s]"
     ]
    },
    {
     "name": "stdout",
     "output_type": "stream",
     "text": [
      "(40, 8) (10, 37)\n",
      "(9, 42) (13, 3)\n"
     ]
    },
    {
     "name": "stderr",
     "output_type": "stream",
     "text": [
      "\r",
      "  8%|▊         | 25/300 [00:02<00:37,  7.38it/s]"
     ]
    },
    {
     "name": "stdout",
     "output_type": "stream",
     "text": [
      "(40, 17) (37, 3)\n",
      "(47, 11) (31, 29)\n"
     ]
    },
    {
     "name": "stderr",
     "output_type": "stream",
     "text": [
      "\r",
      "  9%|▉         | 28/300 [00:03<00:31,  8.73it/s]"
     ]
    },
    {
     "name": "stdout",
     "output_type": "stream",
     "text": [
      "(17, 31) (6, 18)\n",
      "(15, 21) (34, 15)\n",
      "(49, 7) (45, 22)\n"
     ]
    },
    {
     "name": "stderr",
     "output_type": "stream",
     "text": [
      " 11%|█         | 32/300 [00:03<00:25, 10.37it/s]"
     ]
    },
    {
     "name": "stdout",
     "output_type": "stream",
     "text": [
      "(49, 15) (37, 4)\n",
      "(22, 48) (2, 25)\n"
     ]
    },
    {
     "name": "stderr",
     "output_type": "stream",
     "text": [
      "\r",
      " 11%|█▏        | 34/300 [00:03<00:25, 10.27it/s]"
     ]
    },
    {
     "name": "stdout",
     "output_type": "stream",
     "text": [
      "(3, 9) (18, 4)\n",
      "(30, 13) (26, 38)\n"
     ]
    },
    {
     "name": "stderr",
     "output_type": "stream",
     "text": [
      " 13%|█▎        | 38/300 [00:03<00:21, 12.47it/s]"
     ]
    },
    {
     "name": "stdout",
     "output_type": "stream",
     "text": [
      "(25, 42) (41, 38)\n",
      "(16, 2) (15, 13)\n",
      "(49, 14) (41, 36)\n",
      "(28, 48) (16, 37)\n"
     ]
    },
    {
     "name": "stderr",
     "output_type": "stream",
     "text": [
      "\r",
      " 14%|█▍        | 42/300 [00:04<00:20, 12.48it/s]"
     ]
    },
    {
     "name": "stdout",
     "output_type": "stream",
     "text": [
      "(6, 9) (31, 46)\n"
     ]
    },
    {
     "name": "stderr",
     "output_type": "stream",
     "text": [
      "\r",
      " 15%|█▍        | 44/300 [00:04<00:26,  9.56it/s]"
     ]
    },
    {
     "name": "stdout",
     "output_type": "stream",
     "text": [
      "(49, 26) (3, 8)\n",
      "(40, 17) (46, 24)\n",
      "(47, 6) (13, 4)\n"
     ]
    },
    {
     "name": "stderr",
     "output_type": "stream",
     "text": [
      "\r",
      " 15%|█▌        | 46/300 [00:04<00:27,  9.23it/s]"
     ]
    },
    {
     "name": "stdout",
     "output_type": "stream",
     "text": [
      "(48, 38) (33, 30)\n",
      "(40, 16) (10, 8)\n"
     ]
    },
    {
     "name": "stderr",
     "output_type": "stream",
     "text": [
      " 16%|█▋        | 49/300 [00:05<00:35,  7.08it/s]"
     ]
    },
    {
     "name": "stdout",
     "output_type": "stream",
     "text": [
      "(27, 49) (12, 16)\n",
      "(27, 5) (45, 32)\n"
     ]
    },
    {
     "name": "stderr",
     "output_type": "stream",
     "text": [
      "\r",
      " 18%|█▊        | 53/300 [00:05<00:27,  8.97it/s]"
     ]
    },
    {
     "name": "stdout",
     "output_type": "stream",
     "text": [
      "(4, 46) (44, 39)\n",
      "(31, 28) (6, 48)\n"
     ]
    },
    {
     "name": "stderr",
     "output_type": "stream",
     "text": [
      "\r",
      " 18%|█▊        | 55/300 [00:05<00:31,  7.84it/s]"
     ]
    },
    {
     "name": "stdout",
     "output_type": "stream",
     "text": [
      "(2, 26) (35, 26)\n",
      "(30, 3) (33, 34)\n"
     ]
    },
    {
     "name": "stderr",
     "output_type": "stream",
     "text": [
      " 20%|█▉        | 59/300 [00:06<00:26,  9.03it/s]"
     ]
    },
    {
     "name": "stdout",
     "output_type": "stream",
     "text": [
      "(2, 30) (15, 32)\n",
      "(32, 30) (31, 28)\n",
      "(22, 10) (4, 25)\n",
      "(9, 3) (6, 4)\n"
     ]
    },
    {
     "name": "stderr",
     "output_type": "stream",
     "text": [
      "\r",
      " 20%|██        | 61/300 [00:06<00:23, 10.07it/s]"
     ]
    },
    {
     "name": "stdout",
     "output_type": "stream",
     "text": [
      "(25, 15) (20, 33)\n",
      "(6, 26) (9, 46)\n"
     ]
    },
    {
     "name": "stderr",
     "output_type": "stream",
     "text": [
      "\r",
      " 21%|██        | 63/300 [00:06<00:26,  8.88it/s]"
     ]
    },
    {
     "name": "stdout",
     "output_type": "stream",
     "text": [
      "(5, 9) (24, 41)\n",
      "(28, 12) (38, 25)\n"
     ]
    },
    {
     "name": "stderr",
     "output_type": "stream",
     "text": [
      " 22%|██▏       | 67/300 [00:07<00:26,  8.78it/s]"
     ]
    },
    {
     "name": "stdout",
     "output_type": "stream",
     "text": [
      "(35, 49) (16, 6)\n",
      "(5, 40) (2, 1)\n"
     ]
    },
    {
     "name": "stderr",
     "output_type": "stream",
     "text": [
      "\r",
      " 23%|██▎       | 69/300 [00:07<00:25,  9.00it/s]"
     ]
    },
    {
     "name": "stdout",
     "output_type": "stream",
     "text": [
      "(10, 22) (44, 40)\n"
     ]
    },
    {
     "name": "stderr",
     "output_type": "stream",
     "text": [
      "\r",
      " 24%|██▎       | 71/300 [00:07<00:28,  8.02it/s]"
     ]
    },
    {
     "name": "stdout",
     "output_type": "stream",
     "text": [
      "(8, 27) (40, 2)\n",
      "(16, 7) (17, 30)\n"
     ]
    },
    {
     "name": "stderr",
     "output_type": "stream",
     "text": [
      "\r",
      " 24%|██▍       | 72/300 [00:07<00:32,  7.01it/s]"
     ]
    },
    {
     "name": "stdout",
     "output_type": "stream",
     "text": [
      "(42, 41) (1, 37)\n",
      "(28, 31) (12, 34)\n"
     ]
    },
    {
     "name": "stderr",
     "output_type": "stream",
     "text": [
      " 26%|██▌       | 78/300 [00:08<00:24,  9.17it/s]"
     ]
    },
    {
     "name": "stdout",
     "output_type": "stream",
     "text": [
      "(49, 1) (11, 13)\n",
      "(9, 8) (40, 16)\n"
     ]
    },
    {
     "name": "stderr",
     "output_type": "stream",
     "text": [
      " 28%|██▊       | 85/300 [00:08<00:15, 14.00it/s]"
     ]
    },
    {
     "name": "stdout",
     "output_type": "stream",
     "text": [
      "(10, 21) (25, 38)\n",
      "(43, 36) (46, 5)\n",
      "(20, 2) (25, 34)\n",
      "(11, 8) (15, 43)\n"
     ]
    },
    {
     "name": "stderr",
     "output_type": "stream",
     "text": [
      "\r",
      " 29%|██▉       | 88/300 [00:09<00:21,  9.89it/s]"
     ]
    },
    {
     "name": "stdout",
     "output_type": "stream",
     "text": [
      "(46, 18) (8, 22)\n"
     ]
    },
    {
     "name": "stderr",
     "output_type": "stream",
     "text": [
      " 31%|███       | 92/300 [00:09<00:22,  9.37it/s]"
     ]
    },
    {
     "name": "stdout",
     "output_type": "stream",
     "text": [
      "(6, 45) (47, 20)\n",
      "(18, 46) (21, 48)\n",
      "(6, 1) (20, 33)\n"
     ]
    },
    {
     "name": "stderr",
     "output_type": "stream",
     "text": [
      "\r",
      " 32%|███▏      | 95/300 [00:09<00:20, 10.17it/s]"
     ]
    },
    {
     "name": "stdout",
     "output_type": "stream",
     "text": [
      "(19, 1) (10, 16)\n",
      "(47, 22) (32, 4)\n"
     ]
    },
    {
     "name": "stderr",
     "output_type": "stream",
     "text": [
      "\r",
      " 33%|███▎      | 98/300 [00:09<00:17, 11.81it/s]"
     ]
    },
    {
     "name": "stdout",
     "output_type": "stream",
     "text": [
      "(39, 36) (44, 25)\n",
      "(28, 34) (8, 30)\n"
     ]
    },
    {
     "name": "stderr",
     "output_type": "stream",
     "text": [
      "\r",
      " 33%|███▎      | 100/300 [00:10<00:21,  9.39it/s]"
     ]
    },
    {
     "name": "stdout",
     "output_type": "stream",
     "text": [
      "(47, 32) (36, 6)\n",
      "(33, 16) (8, 33)\n",
      "(6, 42) (6, 35)\n"
     ]
    },
    {
     "name": "stderr",
     "output_type": "stream",
     "text": [
      "\r",
      " 34%|███▍      | 102/300 [00:10<00:18, 10.94it/s]"
     ]
    },
    {
     "name": "stdout",
     "output_type": "stream",
     "text": [
      "(33, 26) (42, 36)\n",
      "(21, 39) (29, 27)\n"
     ]
    },
    {
     "name": "stderr",
     "output_type": "stream",
     "text": [
      " 35%|███▌      | 106/300 [00:10<00:17, 11.39it/s]"
     ]
    },
    {
     "name": "stdout",
     "output_type": "stream",
     "text": [
      "(35, 4) (14, 20)\n",
      "(45, 11) (45, 49)\n"
     ]
    },
    {
     "name": "stderr",
     "output_type": "stream",
     "text": [
      "\r",
      " 36%|███▌      | 108/300 [00:10<00:19,  9.86it/s]"
     ]
    },
    {
     "name": "stdout",
     "output_type": "stream",
     "text": [
      "(36, 47) (47, 14)\n",
      "(13, 15) (29, 24)\n",
      "(6, 4) (4, 9)\n",
      "(29, 37) (21, 43)\n"
     ]
    },
    {
     "name": "stderr",
     "output_type": "stream",
     "text": [
      "\r",
      " 38%|███▊      | 113/300 [00:11<00:15, 12.03it/s]"
     ]
    },
    {
     "name": "stdout",
     "output_type": "stream",
     "text": [
      "(30, 49) (4, 39)\n",
      "(5, 34) (13, 38)\n"
     ]
    },
    {
     "name": "stderr",
     "output_type": "stream",
     "text": [
      " 40%|███▉      | 119/300 [00:11<00:13, 13.91it/s]"
     ]
    },
    {
     "name": "stdout",
     "output_type": "stream",
     "text": [
      "(33, 24) (3, 17)\n",
      "(41, 29) (10, 29)\n",
      "(14, 32) (9, 21)\n"
     ]
    },
    {
     "name": "stderr",
     "output_type": "stream",
     "text": [
      " 41%|████      | 123/300 [00:11<00:13, 13.02it/s]"
     ]
    },
    {
     "name": "stdout",
     "output_type": "stream",
     "text": [
      "(19, 14) (14, 43)\n",
      "(49, 40) (14, 46)\n"
     ]
    },
    {
     "name": "stderr",
     "output_type": "stream",
     "text": [
      " 42%|████▏     | 127/300 [00:12<00:13, 12.47it/s]"
     ]
    },
    {
     "name": "stdout",
     "output_type": "stream",
     "text": [
      "(23, 40) (28, 13)\n",
      "(4, 46) (4, 43)\n",
      "(13, 44) (41, 48)\n",
      "(10, 39) (24, 44)\n"
     ]
    },
    {
     "name": "stderr",
     "output_type": "stream",
     "text": [
      "\r",
      " 43%|████▎     | 129/300 [00:12<00:13, 13.06it/s]"
     ]
    },
    {
     "name": "stdout",
     "output_type": "stream",
     "text": [
      "(5, 48) (2, 44)\n",
      "(46, 31) (29, 41)\n",
      "(16, 6) (12, 20)\n"
     ]
    },
    {
     "name": "stderr",
     "output_type": "stream",
     "text": [
      "\r",
      " 44%|████▍     | 132/300 [00:12<00:11, 15.00it/s]"
     ]
    },
    {
     "name": "stdout",
     "output_type": "stream",
     "text": [
      "(36, 3) (24, 8)\n"
     ]
    },
    {
     "name": "stderr",
     "output_type": "stream",
     "text": [
      "\r",
      " 45%|████▍     | 134/300 [00:12<00:13, 12.27it/s]"
     ]
    },
    {
     "name": "stdout",
     "output_type": "stream",
     "text": [
      "(45, 20) (4, 40)\n",
      "(38, 15) (44, 35)\n"
     ]
    },
    {
     "name": "stderr",
     "output_type": "stream",
     "text": [
      " 46%|████▌     | 138/300 [00:12<00:13, 11.92it/s]"
     ]
    },
    {
     "name": "stdout",
     "output_type": "stream",
     "text": [
      "(12, 19) (27, 32)\n",
      "(47, 22) (42, 22)\n",
      "(44, 49) (11, 42)\n"
     ]
    },
    {
     "name": "stderr",
     "output_type": "stream",
     "text": [
      "\r",
      " 48%|████▊     | 144/300 [00:13<00:10, 14.24it/s]"
     ]
    },
    {
     "name": "stdout",
     "output_type": "stream",
     "text": [
      "(12, 5) (41, 36)\n",
      "(6, 3) (10, 47)\n"
     ]
    },
    {
     "name": "stderr",
     "output_type": "stream",
     "text": [
      " 49%|████▉     | 148/300 [00:13<00:13, 11.64it/s]"
     ]
    },
    {
     "name": "stdout",
     "output_type": "stream",
     "text": [
      "(14, 27) (33, 28)\n",
      "(1, 38) (31, 45)\n",
      "(15, 7) (10, 9)\n"
     ]
    },
    {
     "name": "stderr",
     "output_type": "stream",
     "text": [
      " 51%|█████▏    | 154/300 [00:13<00:10, 14.10it/s]"
     ]
    },
    {
     "name": "stdout",
     "output_type": "stream",
     "text": [
      "(15, 23) (43, 9)\n",
      "(46, 8) (42, 11)\n",
      "(3, 27) (10, 38)\n",
      "(37, 6) (34, 15)\n"
     ]
    },
    {
     "name": "stderr",
     "output_type": "stream",
     "text": [
      "\r",
      " 53%|█████▎    | 159/300 [00:14<00:08, 16.11it/s]"
     ]
    },
    {
     "name": "stdout",
     "output_type": "stream",
     "text": [
      "(11, 17) (13, 31)\n",
      "(30, 24) (4, 39)\n"
     ]
    },
    {
     "name": "stderr",
     "output_type": "stream",
     "text": [
      "\r",
      " 54%|█████▍    | 162/300 [00:14<00:10, 13.26it/s]"
     ]
    },
    {
     "name": "stdout",
     "output_type": "stream",
     "text": [
      "(15, 37) (45, 25)\n",
      "(49, 4) (49, 26)\n",
      "(5, 16) (15, 1)\n"
     ]
    },
    {
     "name": "stderr",
     "output_type": "stream",
     "text": [
      " 57%|█████▋    | 170/300 [00:14<00:08, 16.11it/s]"
     ]
    },
    {
     "name": "stdout",
     "output_type": "stream",
     "text": [
      "(5, 47) (39, 37)\n",
      "(5, 7) (15, 48)\n"
     ]
    },
    {
     "name": "stderr",
     "output_type": "stream",
     "text": [
      " 58%|█████▊    | 174/300 [00:15<00:08, 15.62it/s]"
     ]
    },
    {
     "name": "stdout",
     "output_type": "stream",
     "text": [
      "(48, 8) (17, 12)\n",
      "(10, 30) (19, 31)\n",
      "(43, 23) (29, 12)\n"
     ]
    },
    {
     "name": "stderr",
     "output_type": "stream",
     "text": [
      "\r",
      " 59%|█████▊    | 176/300 [00:15<00:13,  9.40it/s]"
     ]
    },
    {
     "name": "stdout",
     "output_type": "stream",
     "text": [
      "(49, 37) (2, 5)\n",
      "(16, 12) (17, 41)\n"
     ]
    },
    {
     "name": "stderr",
     "output_type": "stream",
     "text": [
      "\r",
      " 59%|█████▉    | 178/300 [00:15<00:14,  8.48it/s]"
     ]
    },
    {
     "name": "stdout",
     "output_type": "stream",
     "text": [
      "(6, 26) (43, 40)\n",
      "(46, 32) (30, 39)\n"
     ]
    },
    {
     "name": "stderr",
     "output_type": "stream",
     "text": [
      "\r",
      " 60%|██████    | 180/300 [00:16<00:15,  7.80it/s]"
     ]
    },
    {
     "name": "stdout",
     "output_type": "stream",
     "text": [
      "(11, 27) (40, 5)\n",
      "(37, 2) (42, 26)\n",
      "(37, 25) (42, 22)\n"
     ]
    },
    {
     "name": "stderr",
     "output_type": "stream",
     "text": [
      " 62%|██████▏   | 185/300 [00:16<00:11, 10.31it/s]"
     ]
    },
    {
     "name": "stdout",
     "output_type": "stream",
     "text": [
      "(20, 34) (20, 11)\n",
      "(32, 24) (18, 49)\n"
     ]
    },
    {
     "name": "stderr",
     "output_type": "stream",
     "text": [
      "\r",
      " 62%|██████▏   | 187/300 [00:16<00:13,  8.60it/s]"
     ]
    },
    {
     "name": "stdout",
     "output_type": "stream",
     "text": [
      "(30, 12) (13, 34)\n",
      "(8, 47) (41, 34)\n"
     ]
    },
    {
     "name": "stderr",
     "output_type": "stream",
     "text": [
      " 64%|██████▎   | 191/300 [00:17<00:10, 10.39it/s]"
     ]
    },
    {
     "name": "stdout",
     "output_type": "stream",
     "text": [
      "(38, 29) (7, 33)\n",
      "(15, 45) (3, 9)\n"
     ]
    },
    {
     "name": "stderr",
     "output_type": "stream",
     "text": [
      "\r",
      " 65%|██████▍   | 194/300 [00:17<00:08, 12.70it/s]"
     ]
    },
    {
     "name": "stdout",
     "output_type": "stream",
     "text": [
      "(41, 32) (41, 14)\n",
      "(21, 47) (34, 47)\n"
     ]
    },
    {
     "name": "stderr",
     "output_type": "stream",
     "text": [
      "\r",
      " 65%|██████▌   | 196/300 [00:17<00:11,  9.12it/s]"
     ]
    },
    {
     "name": "stdout",
     "output_type": "stream",
     "text": [
      "(43, 18) (19, 1)\n",
      "(1, 46) (16, 3)\n",
      "(11, 14) (23, 35)\n"
     ]
    },
    {
     "name": "stderr",
     "output_type": "stream",
     "text": [
      " 67%|██████▋   | 200/300 [00:18<00:11,  8.97it/s]"
     ]
    },
    {
     "name": "stdout",
     "output_type": "stream",
     "text": [
      "(38, 13) (5, 48)\n",
      "(9, 49) (43, 49)\n",
      "(2, 24) (6, 46)\n"
     ]
    },
    {
     "name": "stderr",
     "output_type": "stream",
     "text": [
      "\r",
      " 70%|██████▉   | 209/300 [00:18<00:07, 12.06it/s]"
     ]
    },
    {
     "name": "stdout",
     "output_type": "stream",
     "text": [
      "(10, 38) (19, 31)\n",
      "(2, 40) (23, 10)\n"
     ]
    },
    {
     "name": "stderr",
     "output_type": "stream",
     "text": [
      "\r",
      " 71%|███████   | 212/300 [00:18<00:07, 11.50it/s]"
     ]
    },
    {
     "name": "stdout",
     "output_type": "stream",
     "text": [
      "(40, 14) (21, 10)\n",
      "(1, 35) (24, 7)\n"
     ]
    },
    {
     "name": "stderr",
     "output_type": "stream",
     "text": [
      "\r",
      " 72%|███████▏  | 215/300 [00:18<00:08,  9.60it/s]"
     ]
    },
    {
     "name": "stdout",
     "output_type": "stream",
     "text": [
      "(47, 24) (9, 33)\n",
      "(9, 11) (23, 15)\n",
      "(23, 44) (11, 36)\n"
     ]
    },
    {
     "name": "stderr",
     "output_type": "stream",
     "text": [
      "\r",
      " 72%|███████▏  | 217/300 [00:19<00:07, 10.63it/s]"
     ]
    },
    {
     "name": "stdout",
     "output_type": "stream",
     "text": [
      "(13, 38) (27, 39)\n"
     ]
    },
    {
     "name": "stderr",
     "output_type": "stream",
     "text": [
      "\r",
      " 73%|███████▎  | 219/300 [00:19<00:07, 10.26it/s]"
     ]
    },
    {
     "name": "stdout",
     "output_type": "stream",
     "text": [
      "(18, 47) (44, 21)\n"
     ]
    },
    {
     "name": "stderr",
     "output_type": "stream",
     "text": [
      "\r",
      " 74%|███████▍  | 222/300 [00:19<00:07, 10.48it/s]"
     ]
    },
    {
     "name": "stdout",
     "output_type": "stream",
     "text": [
      "(7, 38) (45, 5)\n",
      "(49, 11) (18, 15)\n"
     ]
    },
    {
     "name": "stderr",
     "output_type": "stream",
     "text": [
      " 75%|███████▌  | 226/300 [00:19<00:07, 10.13it/s]"
     ]
    },
    {
     "name": "stdout",
     "output_type": "stream",
     "text": [
      "(32, 27) (11, 17)\n",
      "(5, 44) (10, 29)\n",
      "(9, 35) (19, 49)\n"
     ]
    },
    {
     "name": "stderr",
     "output_type": "stream",
     "text": [
      "\r",
      " 77%|███████▋  | 230/300 [00:20<00:06, 11.33it/s]"
     ]
    },
    {
     "name": "stdout",
     "output_type": "stream",
     "text": [
      "(4, 35) (19, 42)\n",
      "(32, 27) (11, 4)\n"
     ]
    },
    {
     "name": "stderr",
     "output_type": "stream",
     "text": [
      "\r",
      " 78%|███████▊  | 233/300 [00:20<00:05, 12.68it/s]"
     ]
    },
    {
     "name": "stdout",
     "output_type": "stream",
     "text": [
      "(40, 49) (27, 42)\n",
      "(14, 15) (14, 41)\n",
      "(6, 25) (4, 43)\n"
     ]
    },
    {
     "name": "stderr",
     "output_type": "stream",
     "text": [
      "\r",
      " 79%|███████▊  | 236/300 [00:20<00:04, 14.80it/s]"
     ]
    },
    {
     "name": "stdout",
     "output_type": "stream",
     "text": [
      "(21, 32) (22, 45)\n",
      "(43, 38) (36, 35)\n",
      "(12, 3) (23, 5)\n"
     ]
    },
    {
     "name": "stderr",
     "output_type": "stream",
     "text": [
      "\r",
      " 80%|████████  | 240/300 [00:20<00:03, 15.23it/s]"
     ]
    },
    {
     "name": "stdout",
     "output_type": "stream",
     "text": [
      "(35, 2) (31, 27)\n",
      "(28, 19) (44, 45)\n"
     ]
    },
    {
     "name": "stderr",
     "output_type": "stream",
     "text": [
      " 82%|████████▏ | 246/300 [00:21<00:03, 15.71it/s]"
     ]
    },
    {
     "name": "stdout",
     "output_type": "stream",
     "text": [
      "(31, 26) (24, 32)\n",
      "(24, 9) (32, 11)\n",
      "(8, 42) (6, 25)\n"
     ]
    },
    {
     "name": "stderr",
     "output_type": "stream",
     "text": [
      "\r",
      " 83%|████████▎ | 249/300 [00:21<00:04, 12.10it/s]"
     ]
    },
    {
     "name": "stdout",
     "output_type": "stream",
     "text": [
      "(21, 42) (44, 6)\n",
      "(44, 42) (38, 11)\n"
     ]
    },
    {
     "name": "stderr",
     "output_type": "stream",
     "text": [
      " 84%|████████▍ | 253/300 [00:21<00:03, 12.09it/s]"
     ]
    },
    {
     "name": "stdout",
     "output_type": "stream",
     "text": [
      "(1, 27) (38, 36)\n",
      "(13, 34) (7, 42)\n",
      "(25, 5) (42, 20)\n"
     ]
    },
    {
     "name": "stderr",
     "output_type": "stream",
     "text": [
      " 87%|████████▋ | 262/300 [00:22<00:02, 16.10it/s]"
     ]
    },
    {
     "name": "stdout",
     "output_type": "stream",
     "text": [
      "(37, 5) (8, 39)\n",
      "(9, 38) (13, 7)\n"
     ]
    },
    {
     "name": "stderr",
     "output_type": "stream",
     "text": [
      " 89%|████████▊ | 266/300 [00:22<00:02, 12.56it/s]"
     ]
    },
    {
     "name": "stdout",
     "output_type": "stream",
     "text": [
      "(9, 5) (41, 40)\n",
      "(1, 10) (16, 35)\n"
     ]
    },
    {
     "name": "stderr",
     "output_type": "stream",
     "text": [
      "\r",
      " 89%|████████▉ | 268/300 [00:22<00:02, 13.61it/s]"
     ]
    },
    {
     "name": "stdout",
     "output_type": "stream",
     "text": [
      "(11, 22) (7, 34)\n",
      "(38, 27) (42, 19)\n"
     ]
    },
    {
     "name": "stderr",
     "output_type": "stream",
     "text": [
      "\r",
      " 90%|█████████ | 270/300 [00:22<00:02, 12.65it/s]"
     ]
    },
    {
     "name": "stdout",
     "output_type": "stream",
     "text": [
      "(1, 10) (49, 5)\n",
      "(47, 49) (2, 27)\n"
     ]
    },
    {
     "name": "stderr",
     "output_type": "stream",
     "text": [
      "\r",
      " 91%|█████████ | 272/300 [00:23<00:03,  7.46it/s]"
     ]
    },
    {
     "name": "stdout",
     "output_type": "stream",
     "text": [
      "(45, 2) (4, 41)\n",
      "(49, 30) (5, 34)\n"
     ]
    },
    {
     "name": "stderr",
     "output_type": "stream",
     "text": [
      " 92%|█████████▏| 276/300 [00:23<00:02,  8.30it/s]"
     ]
    },
    {
     "name": "stdout",
     "output_type": "stream",
     "text": [
      "(29, 44) (41, 35)\n",
      "(48, 33) (41, 16)\n",
      "(3, 46) (17, 38)\n"
     ]
    },
    {
     "name": "stderr",
     "output_type": "stream",
     "text": [
      "\r",
      " 93%|█████████▎| 278/300 [00:24<00:02,  7.71it/s]"
     ]
    },
    {
     "name": "stdout",
     "output_type": "stream",
     "text": [
      "(4, 40) (12, 16)\n",
      "(19, 10) (49, 24)\n"
     ]
    },
    {
     "name": "stderr",
     "output_type": "stream",
     "text": [
      " 95%|█████████▍| 284/300 [00:24<00:01,  9.81it/s]"
     ]
    },
    {
     "name": "stdout",
     "output_type": "stream",
     "text": [
      "(19, 42) (43, 1)\n",
      "(5, 11) (16, 8)\n",
      "(30, 26) (5, 24)\n"
     ]
    },
    {
     "name": "stderr",
     "output_type": "stream",
     "text": [
      "\r",
      " 96%|█████████▌| 288/300 [00:24<00:00, 12.61it/s]"
     ]
    },
    {
     "name": "stdout",
     "output_type": "stream",
     "text": [
      "(3, 11) (29, 13)\n",
      "(6, 35) (12, 7)\n"
     ]
    },
    {
     "name": "stderr",
     "output_type": "stream",
     "text": [
      " 99%|█████████▊| 296/300 [00:25<00:00, 14.32it/s]"
     ]
    },
    {
     "name": "stdout",
     "output_type": "stream",
     "text": [
      "(19, 41) (14, 27)\n",
      "(8, 30) (6, 28)\n",
      "(3, 38) (13, 46)\n",
      "(40, 20) (46, 43)\n"
     ]
    },
    {
     "name": "stderr",
     "output_type": "stream",
     "text": [
      "\r",
      "100%|█████████▉| 299/300 [00:25<00:00, 13.91it/s]"
     ]
    },
    {
     "name": "stdout",
     "output_type": "stream",
     "text": [
      "(45, 4) (17, 31)\n"
     ]
    },
    {
     "name": "stderr",
     "output_type": "stream",
     "text": [
      "\r",
      "100%|██████████| 300/300 [00:25<00:00, 11.73it/s]"
     ]
    },
    {
     "name": "stdout",
     "output_type": "stream",
     "text": [
      "(17, 40) (46, 19)\n"
     ]
    },
    {
     "name": "stderr",
     "output_type": "stream",
     "text": [
      "\n"
     ]
    }
   ],
   "source": [
    "# Label encode targets\n",
    "enc = preprocessing.LabelEncoder()\n",
    "\n",
    "# Robot Type\n",
    "robot_type = 'ddr'\n",
    "# robot_type = 'omni'\n",
    "\n",
    "df_ = synthesize_train_set(MAPS, num_runs = n_runs, polar=pol, num_sensor_readings=num_sensor_readings, robot_type = robot_type)"
   ]
  },
  {
   "cell_type": "code",
   "execution_count": 97,
   "metadata": {},
   "outputs": [
    {
     "data": {
      "text/html": [
       "<div>\n",
       "<style scoped>\n",
       "    .dataframe tbody tr th:only-of-type {\n",
       "        vertical-align: middle;\n",
       "    }\n",
       "\n",
       "    .dataframe tbody tr th {\n",
       "        vertical-align: top;\n",
       "    }\n",
       "\n",
       "    .dataframe thead th {\n",
       "        text-align: right;\n",
       "    }\n",
       "</style>\n",
       "<table border=\"1\" class=\"dataframe\">\n",
       "  <thead>\n",
       "    <tr style=\"text-align: right;\">\n",
       "      <th></th>\n",
       "      <th>0</th>\n",
       "      <th>1</th>\n",
       "      <th>2</th>\n",
       "      <th>3</th>\n",
       "      <th>4</th>\n",
       "      <th>5</th>\n",
       "      <th>6</th>\n",
       "      <th>7</th>\n",
       "      <th>8</th>\n",
       "      <th>9</th>\n",
       "      <th>out</th>\n",
       "    </tr>\n",
       "  </thead>\n",
       "  <tbody>\n",
       "    <tr>\n",
       "      <th>4443</th>\n",
       "      <td>33.5</td>\n",
       "      <td>2.121320</td>\n",
       "      <td>15.5</td>\n",
       "      <td>21.920310</td>\n",
       "      <td>16.5</td>\n",
       "      <td>23.334524</td>\n",
       "      <td>4.5</td>\n",
       "      <td>6.363961</td>\n",
       "      <td>25.0</td>\n",
       "      <td>0.000000e+00</td>\n",
       "      <td>2</td>\n",
       "    </tr>\n",
       "    <tr>\n",
       "      <th>5475</th>\n",
       "      <td>45.5</td>\n",
       "      <td>20.506097</td>\n",
       "      <td>14.5</td>\n",
       "      <td>6.363961</td>\n",
       "      <td>4.5</td>\n",
       "      <td>6.363961</td>\n",
       "      <td>35.5</td>\n",
       "      <td>16.263456</td>\n",
       "      <td>8.0</td>\n",
       "      <td>4.898587e-16</td>\n",
       "      <td>2</td>\n",
       "    </tr>\n",
       "    <tr>\n",
       "      <th>6214</th>\n",
       "      <td>14.5</td>\n",
       "      <td>20.506097</td>\n",
       "      <td>4.5</td>\n",
       "      <td>6.363961</td>\n",
       "      <td>35.5</td>\n",
       "      <td>3.535534</td>\n",
       "      <td>2.5</td>\n",
       "      <td>3.535534</td>\n",
       "      <td>31.0</td>\n",
       "      <td>-3.900000e+01</td>\n",
       "      <td>2</td>\n",
       "    </tr>\n",
       "    <tr>\n",
       "      <th>927</th>\n",
       "      <td>36.5</td>\n",
       "      <td>16.263456</td>\n",
       "      <td>45.5</td>\n",
       "      <td>10.606602</td>\n",
       "      <td>13.5</td>\n",
       "      <td>6.363961</td>\n",
       "      <td>4.5</td>\n",
       "      <td>6.363961</td>\n",
       "      <td>5.0</td>\n",
       "      <td>0.000000e+00</td>\n",
       "      <td>2</td>\n",
       "    </tr>\n",
       "    <tr>\n",
       "      <th>4192</th>\n",
       "      <td>6.5</td>\n",
       "      <td>9.192388</td>\n",
       "      <td>9.5</td>\n",
       "      <td>3.535534</td>\n",
       "      <td>2.5</td>\n",
       "      <td>3.535534</td>\n",
       "      <td>40.5</td>\n",
       "      <td>9.192388</td>\n",
       "      <td>0.0</td>\n",
       "      <td>0.000000e+00</td>\n",
       "      <td>2</td>\n",
       "    </tr>\n",
       "    <tr>\n",
       "      <th>...</th>\n",
       "      <td>...</td>\n",
       "      <td>...</td>\n",
       "      <td>...</td>\n",
       "      <td>...</td>\n",
       "      <td>...</td>\n",
       "      <td>...</td>\n",
       "      <td>...</td>\n",
       "      <td>...</td>\n",
       "      <td>...</td>\n",
       "      <td>...</td>\n",
       "      <td>...</td>\n",
       "    </tr>\n",
       "    <tr>\n",
       "      <th>1604</th>\n",
       "      <td>15.5</td>\n",
       "      <td>7.778175</td>\n",
       "      <td>1.5</td>\n",
       "      <td>2.121320</td>\n",
       "      <td>10.5</td>\n",
       "      <td>14.849242</td>\n",
       "      <td>10.5</td>\n",
       "      <td>14.849242</td>\n",
       "      <td>6.0</td>\n",
       "      <td>-1.500000e+01</td>\n",
       "      <td>2</td>\n",
       "    </tr>\n",
       "    <tr>\n",
       "      <th>2672</th>\n",
       "      <td>11.5</td>\n",
       "      <td>14.849242</td>\n",
       "      <td>10.5</td>\n",
       "      <td>9.192388</td>\n",
       "      <td>6.5</td>\n",
       "      <td>9.192388</td>\n",
       "      <td>23.5</td>\n",
       "      <td>13.435029</td>\n",
       "      <td>4.0</td>\n",
       "      <td>7.347881e-16</td>\n",
       "      <td>2</td>\n",
       "    </tr>\n",
       "    <tr>\n",
       "      <th>5340</th>\n",
       "      <td>36.5</td>\n",
       "      <td>0.707107</td>\n",
       "      <td>0.5</td>\n",
       "      <td>0.707107</td>\n",
       "      <td>13.5</td>\n",
       "      <td>19.091883</td>\n",
       "      <td>49.5</td>\n",
       "      <td>36.062446</td>\n",
       "      <td>6.0</td>\n",
       "      <td>0.000000e+00</td>\n",
       "      <td>2</td>\n",
       "    </tr>\n",
       "    <tr>\n",
       "      <th>2257</th>\n",
       "      <td>3.5</td>\n",
       "      <td>4.949747</td>\n",
       "      <td>32.5</td>\n",
       "      <td>0.707107</td>\n",
       "      <td>0.5</td>\n",
       "      <td>0.707107</td>\n",
       "      <td>6.5</td>\n",
       "      <td>9.192388</td>\n",
       "      <td>17.0</td>\n",
       "      <td>3.000000e+00</td>\n",
       "      <td>2</td>\n",
       "    </tr>\n",
       "    <tr>\n",
       "      <th>4200</th>\n",
       "      <td>9.5</td>\n",
       "      <td>13.435029</td>\n",
       "      <td>4.5</td>\n",
       "      <td>0.707107</td>\n",
       "      <td>0.5</td>\n",
       "      <td>0.707107</td>\n",
       "      <td>33.5</td>\n",
       "      <td>13.435029</td>\n",
       "      <td>6.0</td>\n",
       "      <td>1.000000e+01</td>\n",
       "      <td>2</td>\n",
       "    </tr>\n",
       "  </tbody>\n",
       "</table>\n",
       "<p>6844 rows × 11 columns</p>\n",
       "</div>"
      ],
      "text/plain": [
       "         0          1     2          3     4          5     6          7  \\\n",
       "4443  33.5   2.121320  15.5  21.920310  16.5  23.334524   4.5   6.363961   \n",
       "5475  45.5  20.506097  14.5   6.363961   4.5   6.363961  35.5  16.263456   \n",
       "6214  14.5  20.506097   4.5   6.363961  35.5   3.535534   2.5   3.535534   \n",
       "927   36.5  16.263456  45.5  10.606602  13.5   6.363961   4.5   6.363961   \n",
       "4192   6.5   9.192388   9.5   3.535534   2.5   3.535534  40.5   9.192388   \n",
       "...    ...        ...   ...        ...   ...        ...   ...        ...   \n",
       "1604  15.5   7.778175   1.5   2.121320  10.5  14.849242  10.5  14.849242   \n",
       "2672  11.5  14.849242  10.5   9.192388   6.5   9.192388  23.5  13.435029   \n",
       "5340  36.5   0.707107   0.5   0.707107  13.5  19.091883  49.5  36.062446   \n",
       "2257   3.5   4.949747  32.5   0.707107   0.5   0.707107   6.5   9.192388   \n",
       "4200   9.5  13.435029   4.5   0.707107   0.5   0.707107  33.5  13.435029   \n",
       "\n",
       "         8             9  out  \n",
       "4443  25.0  0.000000e+00    2  \n",
       "5475   8.0  4.898587e-16    2  \n",
       "6214  31.0 -3.900000e+01    2  \n",
       "927    5.0  0.000000e+00    2  \n",
       "4192   0.0  0.000000e+00    2  \n",
       "...    ...           ...  ...  \n",
       "1604   6.0 -1.500000e+01    2  \n",
       "2672   4.0  7.347881e-16    2  \n",
       "5340   6.0  0.000000e+00    2  \n",
       "2257  17.0  3.000000e+00    2  \n",
       "4200   6.0  1.000000e+01    2  \n",
       "\n",
       "[6844 rows x 11 columns]"
      ]
     },
     "execution_count": 97,
     "metadata": {},
     "output_type": "execute_result"
    }
   ],
   "source": [
    "df"
   ]
  },
  {
   "cell_type": "code",
   "execution_count": 112,
   "metadata": {},
   "outputs": [
    {
     "data": {
      "image/png": "[encoded data removed]",
      "text/plain": [
       "<Figure size 432x288 with 1 Axes>"
      ]
     },
     "metadata": {
      "needs_background": "light"
     },
     "output_type": "display_data"
    },
    {
     "data": {
      "text/plain": [
       "[(40, 20),\n",
       " (40, 21),\n",
       " (40, 22),\n",
       " (40, 23),\n",
       " (40, 24),\n",
       " (40, 25),\n",
       " (40, 26),\n",
       " (40, 27),\n",
       " (40, 28),\n",
       " (40, 29),\n",
       " (40, 30),\n",
       " (40, 31),\n",
       " (40, 32),\n",
       " (40, 33),\n",
       " (40, 34),\n",
       " (40, 35),\n",
       " (40, 36),\n",
       " (40, 37),\n",
       " (41, 37),\n",
       " (41, 38),\n",
       " (41, 39),\n",
       " (41, 40),\n",
       " (41, 41),\n",
       " (41, 42),\n",
       " (41, 43),\n",
       " (42, 43),\n",
       " (43, 43),\n",
       " (44, 43),\n",
       " (45, 43),\n",
       " (46, 43)]"
      ]
     },
     "execution_count": 112,
     "metadata": {},
     "output_type": "execute_result"
    }
   ],
   "source": [
    "get_path((40, 20), (46, 43), MAPS[0][1], plot = True)"
   ]
  },
  {
   "cell_type": "code",
   "execution_count": 98,
   "metadata": {},
   "outputs": [],
   "source": [
    "df = create_classification_problem(df_.copy(), num_sensor_readings, enc, robot_type)"
   ]
  },
  {
   "cell_type": "code",
   "execution_count": null,
   "metadata": {},
   "outputs": [],
   "source": [
    "df.to_csv(\"5k_omni_2.csv\")"
   ]
  },
  {
   "cell_type": "code",
   "execution_count": 99,
   "metadata": {},
   "outputs": [
    {
     "name": "stdout",
     "output_type": "stream",
     "text": [
      "[0.95924628 0.95879    0.95396756]\n"
     ]
    },
    {
     "data": {
      "text/plain": [
       "RandomForestClassifier(n_estimators=200)"
      ]
     },
     "execution_count": 99,
     "metadata": {},
     "output_type": "execute_result"
    }
   ],
   "source": [
    "# print(cross_val_score(RandomForestClassifier(n_estimators=200, class_weight={0:10, 1:10, 2:10}), df.drop(['out'], axis=1).values, df['out'].values, cv=10, scoring = 'accuracy'))\n",
    "print(cross_val_score(RandomForestClassifier(), df.drop(['out'], axis=1).values, df['out'].values, cv=3, scoring = 'f1_micro'))\n",
    "\n",
    "# Fit model using all data.\n",
    "clf = RandomForestClassifier(n_estimators=200)\n",
    "clf.fit(df.drop(['out'], axis=1).values, df['out'].values)"
   ]
  },
  {
   "cell_type": "code",
   "execution_count": 100,
   "metadata": {},
   "outputs": [],
   "source": [
    "# dirs = {0:(-1.0, 0.0), 1:(0.0, -1.0), 2:(0.0, 1.0), 3:(1.0, 0.0)}\n",
    "\n",
    "def test_omni(_MAP, test_arr, start, goal, model, enc):\n",
    "    \n",
    "    # Get ground-truth path\n",
    "    groud_truth = get_path(start, goal, test_arr) \n",
    "    print(\"Number of steps taken in A* Path, \", len(groud_truth))\n",
    "    \n",
    "    # i counter just helps stop after a certain number of steps since\n",
    "    # at the moment the algorithm probably wont reach the goal. \n",
    "    i=0\n",
    "    # Start saving the path traveled\n",
    "    pred_path = [start]  \n",
    "    cur = start\n",
    "    success = 0\n",
    "    \n",
    "    while cur != goal:\n",
    "#         try:\n",
    "        laser_scan, lines = synthetic_sensor(_MAP, (cur[0]+0.5, cur[1]+0.5), direction=None, num_sensor_readings=num_sensor_readings, robot_type = 'omni')\n",
    "        # Get goal in odom\n",
    "        goal_loc = (goal[0]-cur[0], goal[1]-cur[1])  \n",
    "        # Get goal in odom\n",
    "        laser_scan.append(goal_loc[0])\n",
    "        laser_scan.append(goal_loc[1])\n",
    "        \n",
    "        # Create model input\n",
    "        inpX = np.array(laser_scan)\n",
    "        inds = model.predict_proba(inpX.reshape(1,-1))[0]\n",
    "        \n",
    "        best = list(np.argsort(inds))  \n",
    "        best.reverse()\n",
    "        \n",
    "        possible_dirs = [eval(enc.inverse_transform(best)[ii]) for ii in range(len(best))]\n",
    "        possible_next_states = [(cur[0] + d[0], cur[1] + d[1]) for d in possible_dirs]\n",
    "        \n",
    "#         possible_next_states = [(cur[0] + dirs[ind][0], cur[1] + dirs[ind][1]) for ind in best]\n",
    "        temp_states = deepcopy(possible_next_states)\n",
    "        for state in possible_next_states:\n",
    "            if (-1 in state) or (50 in state) or (0 in state) or (state in pred_path):\n",
    "                temp_states.remove(state)\n",
    "\n",
    "        # Update state\n",
    "        cur = temp_states[0]\n",
    "        assert cur not in pred_path\n",
    "        pred_path.append(cur)\n",
    "        # Count number of steps traveled \n",
    "        i+=1\n",
    "        if cur == goal:\n",
    "            temp = [(p[0]+0.5, p[1]+0.5) for p in pred_path]\n",
    "            if LineString(temp).intersects(_MAP):\n",
    "                success = 0\n",
    "            else:\n",
    "                success = 1\n",
    "                \n",
    "            break\n",
    "\n",
    "    return pred_path, success, groud_truth\n",
    "    "
   ]
  },
  {
   "cell_type": "code",
   "execution_count": 107,
   "metadata": {},
   "outputs": [],
   "source": [
    "from copy import deepcopy\n",
    "'''\n",
    "Testing Env:\n",
    "\n",
    "Now we use trained model to nav unseen map. \n",
    "'''\n",
    "\n",
    "# Mapping from label encoder (just hard coded it here)\n",
    "steer = {0:0, 1:np.pi/2., -1:-np.pi/2, 2:np.pi, -2:np.pi, 3:-np.pi/2, -3:np.pi/2}\n",
    "\n",
    "def test_ddr(_MAP, test_arr, start, goal, model, enc, polar=False):\n",
    "    \n",
    "    # Get ground-truth path\n",
    "    groud_truth = get_path(start, goal, test_arr) \n",
    "    print(\"Number of steps taken in A* Path, \", len(groud_truth))\n",
    "    \n",
    "    # i counter just helps stop after a certain number of steps since\n",
    "    # at the moment the algorithm probably wont reach the goal. \n",
    "    i=0\n",
    "    # Start saving the path traveled\n",
    "    pred_path = [start]\n",
    "    cur_dir = (0, 0) # Get robot direction\n",
    "    success = 0\n",
    "    cur = start\n",
    "    while cur != goal:\n",
    "#         try:\n",
    "            \n",
    "            laser_scan, lines = synthetic_sensor(_MAP, (cur[0]+0.5, cur[1]+0.5), direction=cur_dir, num_sensor_readings=num_sensor_readings, robot_type = 'ddr')\n",
    "            # Get rotation \n",
    "            offset = 0\n",
    "            if cur_dir != (0, 0): # Start node\n",
    "                offset = inv_dirs[cur_dir]\n",
    "            rot = np.pi/2 * offset \n",
    "            # Get goal in odom\n",
    "            goal_loc = (goal[0]-cur[0], goal[1]-cur[1])  \n",
    "            # Get goal in odom\n",
    "            goal_orn = (goal_loc[0]*np.cos(rot) + goal_loc[1]*np.sin(rot), goal_loc[0]*-np.sin(rot) + goal_loc[1]*np.cos(rot))\n",
    "            if polar:\n",
    "                # Get polar distance\n",
    "                polar_distance = np.linalg.norm(np.array([goal_loc[0],goal_loc[1]]))\n",
    "                # Get polar rotation\n",
    "                polar_rotation = math.atan2(goal_orn[1], goal_orn[0])\n",
    "                laser_scan.append(polar_distance)\n",
    "                laser_scan.append(polar_rotation)\n",
    "            else:\n",
    "                laser_scan.append(goal_orn[0])\n",
    "                laser_scan.append(goal_orn[1])\n",
    "            \n",
    "            # Create model input\n",
    "            inpX = np.array(laser_scan)\n",
    "            inds = model.predict_proba(inpX.reshape(1,-1))[0]\n",
    "            best = list(np.argsort(inds))  \n",
    "            best.reverse()\n",
    "\n",
    "            possible_dirs = [eval(enc.inverse_transform(best)[ii]) for ii in range(len(best))]\n",
    "            print(possible_dirs)\n",
    "            possible_steers = [(np.cos(rot + steer[ind]), np.sin(rot + steer[ind])) for ind in possible_dirs]\n",
    "            print(possible_steers)\n",
    "            possible_next_states = [(cur[0] + steers[0], cur[1] + steers[1]) for steers in possible_steers]\n",
    "\n",
    "            temp_states = deepcopy(possible_next_states)\n",
    "            for state in possible_next_states:\n",
    "                if (-1 in state) or (50 in state) or (0 in state) or (state in pred_path):\n",
    "                    temp_states.remove(state) \n",
    "            \n",
    "            cur_dir = (temp_states[0][0] - cur[0], temp_states[0][1] - cur[1])\n",
    "            cur = temp_states[0]\n",
    "            \n",
    "            assert cur not in pred_path\n",
    "            \n",
    "            pred_path.append(cur)\n",
    "            \n",
    "\n",
    "            # Cout number of steps traveled \n",
    "            i+=1\n",
    "            if cur == goal:\n",
    "                temp = [(p[0]+0.5, p[1]+0.5) for p in pred_path]\n",
    "                if LineString(temp).intersects(_MAP):\n",
    "                    success = 0\n",
    "                else:\n",
    "                    success = 1\n",
    "\n",
    "                break\n",
    "\n",
    "#             \n",
    "#         except:\n",
    "#             break\n",
    "    \n",
    "    return pred_path, success, groud_truth\n",
    "    "
   ]
  },
  {
   "cell_type": "code",
   "execution_count": 113,
   "metadata": {},
   "outputs": [
    {
     "data": {
      "image/png": "[encoded data removed]",
      "text/plain": [
       "<Figure size 432x288 with 1 Axes>"
      ]
     },
     "metadata": {
      "needs_background": "light"
     },
     "output_type": "display_data"
    },
    {
     "name": "stdout",
     "output_type": "stream",
     "text": [
      "Number of steps taken in A* Path,  30\n",
      "[1.0, 0.0, -3.0, 3.0, 2.0, -1.0]\n",
      "[(6.123233995736766e-17, 1.0), (1.0, 0.0), (6.123233995736766e-17, 1.0), (6.123233995736766e-17, -1.0), (-1.0, 1.2246467991473532e-16), (6.123233995736766e-17, -1.0)]\n",
      "[0.0, -1.0, 3.0, 2.0, 1.0, -3.0]\n",
      "[(6.123233995736766e-17, 1.0), (1.0, 0.0), (1.0, 0.0), (-1.8369701987210297e-16, -1.0), (-1.0, 1.2246467991473532e-16), (-1.0, 1.2246467991473532e-16)]\n",
      "[0.0, -1.0, 1.0, 3.0, 2.0, -3.0]\n",
      "[(6.123233995736766e-17, 1.0), (1.0, 0.0), (-1.0, 1.2246467991473532e-16), (1.0, 0.0), (-1.8369701987210297e-16, -1.0), (-1.0, 1.2246467991473532e-16)]\n",
      "[0.0, -1.0, 3.0, 2.0, 1.0, -3.0]\n",
      "[(6.123233995736766e-17, 1.0), (1.0, 0.0), (1.0, 0.0), (-1.8369701987210297e-16, -1.0), (-1.0, 1.2246467991473532e-16), (-1.0, 1.2246467991473532e-16)]\n",
      "[-1.0, 0.0, 1.0, 3.0, 2.0, -3.0]\n",
      "[(1.0, 0.0), (6.123233995736766e-17, 1.0), (-1.0, 1.2246467991473532e-16), (1.0, 0.0), (-1.8369701987210297e-16, -1.0), (-1.0, 1.2246467991473532e-16)]\n",
      "[0.0, 1.0, 2.0, 3.0, -3.0, -1.0]\n",
      "[(1.0, 0.0), (6.123233995736766e-17, 1.0), (-1.0, 1.2246467991473532e-16), (6.123233995736766e-17, -1.0), (6.123233995736766e-17, 1.0), (6.123233995736766e-17, -1.0)]\n",
      "[0.0, 1.0, 2.0, 3.0, -3.0, -1.0]\n",
      "[(1.0, 0.0), (6.123233995736766e-17, 1.0), (-1.0, 1.2246467991473532e-16), (6.123233995736766e-17, -1.0), (6.123233995736766e-17, 1.0), (6.123233995736766e-17, -1.0)]\n",
      "[0.0, 1.0, 2.0, -3.0, 3.0, -1.0]\n",
      "[(1.0, 0.0), (6.123233995736766e-17, 1.0), (-1.0, 1.2246467991473532e-16), (6.123233995736766e-17, 1.0), (6.123233995736766e-17, -1.0), (6.123233995736766e-17, -1.0)]\n",
      "[0.0, 1.0, 2.0, -3.0, 3.0, -1.0]\n",
      "[(1.0, 0.0), (6.123233995736766e-17, 1.0), (-1.0, 1.2246467991473532e-16), (6.123233995736766e-17, 1.0), (6.123233995736766e-17, -1.0), (6.123233995736766e-17, -1.0)]\n",
      "[0.0, 1.0, 2.0, -3.0, 3.0, -1.0]\n",
      "[(1.0, 0.0), (6.123233995736766e-17, 1.0), (-1.0, 1.2246467991473532e-16), (6.123233995736766e-17, 1.0), (6.123233995736766e-17, -1.0), (6.123233995736766e-17, -1.0)]\n",
      "[0.0, 1.0, -3.0, 2.0, 3.0, -1.0]\n",
      "[(1.0, 0.0), (6.123233995736766e-17, 1.0), (6.123233995736766e-17, 1.0), (-1.0, 1.2246467991473532e-16), (6.123233995736766e-17, -1.0), (6.123233995736766e-17, -1.0)]\n",
      "[2.0, 0.0, 1.0, -3.0, -1.0, 3.0]\n",
      "[(-1.0, 1.2246467991473532e-16), (1.0, 0.0), (6.123233995736766e-17, 1.0), (6.123233995736766e-17, 1.0), (6.123233995736766e-17, -1.0), (6.123233995736766e-17, -1.0)]\n",
      "[2.0, 0.0, 1.0, -3.0, -1.0, 3.0]\n",
      "[(-1.0, 1.2246467991473532e-16), (1.0, 0.0), (6.123233995736766e-17, 1.0), (6.123233995736766e-17, 1.0), (6.123233995736766e-17, -1.0), (6.123233995736766e-17, -1.0)]\n",
      "[2.0, 0.0, 1.0, -3.0, -1.0, 3.0]\n",
      "[(-1.0, 1.2246467991473532e-16), (1.0, 0.0), (6.123233995736766e-17, 1.0), (6.123233995736766e-17, 1.0), (6.123233995736766e-17, -1.0), (6.123233995736766e-17, -1.0)]\n",
      "[0.0, -3.0, 1.0, 3.0, 2.0, -1.0]\n",
      "[(6.123233995736766e-17, 1.0), (-1.0, 1.2246467991473532e-16), (-1.0, 1.2246467991473532e-16), (1.0, 0.0), (-1.8369701987210297e-16, -1.0), (1.0, 0.0)]\n",
      "[0.0, -3.0, 1.0, 3.0, 2.0, -1.0]\n",
      "[(6.123233995736766e-17, 1.0), (-1.0, 1.2246467991473532e-16), (-1.0, 1.2246467991473532e-16), (1.0, 0.0), (-1.8369701987210297e-16, -1.0), (1.0, 0.0)]\n",
      "[0.0, -3.0, 1.0, 3.0, 2.0, -1.0]\n",
      "[(6.123233995736766e-17, 1.0), (-1.0, 1.2246467991473532e-16), (-1.0, 1.2246467991473532e-16), (1.0, 0.0), (-1.8369701987210297e-16, -1.0), (1.0, 0.0)]\n",
      "[0.0, -3.0, 1.0, -1.0, 3.0, 2.0]\n",
      "[(6.123233995736766e-17, 1.0), (-1.0, 1.2246467991473532e-16), (-1.0, 1.2246467991473532e-16), (1.0, 0.0), (1.0, 0.0), (-1.8369701987210297e-16, -1.0)]\n",
      "[0.0, -3.0, 1.0, 3.0, 2.0, -1.0]\n",
      "[(6.123233995736766e-17, 1.0), (-1.0, 1.2246467991473532e-16), (-1.0, 1.2246467991473532e-16), (1.0, 0.0), (-1.8369701987210297e-16, -1.0), (1.0, 0.0)]\n",
      "[0.0, -3.0, 1.0, 3.0, 2.0, -1.0]\n",
      "[(6.123233995736766e-17, 1.0), (-1.0, 1.2246467991473532e-16), (-1.0, 1.2246467991473532e-16), (1.0, 0.0), (-1.8369701987210297e-16, -1.0), (1.0, 0.0)]\n",
      "[0.0, -3.0, 1.0, 2.0, 3.0, -1.0]\n",
      "[(6.123233995736766e-17, 1.0), (-1.0, 1.2246467991473532e-16), (-1.0, 1.2246467991473532e-16), (-1.8369701987210297e-16, -1.0), (1.0, 0.0), (1.0, 0.0)]\n",
      "[0.0, -3.0, 1.0, 3.0, 2.0, -1.0]\n",
      "[(6.123233995736766e-17, 1.0), (-1.0, 1.2246467991473532e-16), (-1.0, 1.2246467991473532e-16), (1.0, 0.0), (-1.8369701987210297e-16, -1.0), (1.0, 0.0)]\n",
      "[0.0, -3.0, 1.0, 3.0, 2.0, -1.0]\n",
      "[(6.123233995736766e-17, 1.0), (-1.0, 1.2246467991473532e-16), (-1.0, 1.2246467991473532e-16), (1.0, 0.0), (-1.8369701987210297e-16, -1.0), (1.0, 0.0)]\n",
      "[0.0, -3.0, 1.0, 3.0, 2.0, -1.0]\n",
      "[(6.123233995736766e-17, 1.0), (-1.0, 1.2246467991473532e-16), (-1.0, 1.2246467991473532e-16), (1.0, 0.0), (-1.8369701987210297e-16, -1.0), (1.0, 0.0)]\n",
      "[-3.0, 0.0, 1.0, 3.0, 2.0, -1.0]\n",
      "[(-1.0, 1.2246467991473532e-16), (6.123233995736766e-17, 1.0), (-1.0, 1.2246467991473532e-16), (1.0, 0.0), (-1.8369701987210297e-16, -1.0), (1.0, 0.0)]\n",
      "[0.0, -1.0, 3.0, 2.0, 1.0, -3.0]\n",
      "[(-1.0, 1.2246467991473532e-16), (6.123233995736766e-17, 1.0), (6.123233995736766e-17, 1.0), (1.0, -2.4492935982947064e-16), (-1.8369701987210297e-16, -1.0), (-1.8369701987210297e-16, -1.0)]\n",
      "[0.0, 3.0, -1.0, 2.0, 1.0, -3.0]\n",
      "[(-1.0, 1.2246467991473532e-16), (6.123233995736766e-17, 1.0), (6.123233995736766e-17, 1.0), (1.0, -2.4492935982947064e-16), (-1.8369701987210297e-16, -1.0), (-1.8369701987210297e-16, -1.0)]\n",
      "[-1.0, 0.0, 3.0, -3.0, 2.0, 1.0]\n",
      "[(6.123233995736766e-17, 1.0), (-1.0, 1.2246467991473532e-16), (6.123233995736766e-17, 1.0), (-1.8369701987210297e-16, -1.0), (1.0, -2.4492935982947064e-16), (-1.8369701987210297e-16, -1.0)]\n",
      "[0.0, 3.0, 2.0, 1.0, -3.0, -1.0]\n",
      "[(6.123233995736766e-17, 1.0), (1.0, 0.0), (-1.8369701987210297e-16, -1.0), (-1.0, 1.2246467991473532e-16), (-1.0, 1.2246467991473532e-16), (1.0, 0.0)]\n",
      "[0.0, 3.0, 2.0, 1.0, -3.0, -1.0]\n",
      "[(6.123233995736766e-17, 1.0), (1.0, 0.0), (-1.8369701987210297e-16, -1.0), (-1.0, 1.2246467991473532e-16), (-1.0, 1.2246467991473532e-16), (1.0, 0.0)]\n",
      "[0.0, 3.0, 2.0, 1.0, -3.0, -1.0]\n",
      "[(6.123233995736766e-17, 1.0), (1.0, 0.0), (-1.8369701987210297e-16, -1.0), (-1.0, 1.2246467991473532e-16), (-1.0, 1.2246467991473532e-16), (1.0, 0.0)]\n",
      "[0.0, -1.0, 3.0, 2.0, 1.0, -3.0]\n",
      "[(6.123233995736766e-17, 1.0), (1.0, 0.0), (1.0, 0.0), (-1.8369701987210297e-16, -1.0), (-1.0, 1.2246467991473532e-16), (-1.0, 1.2246467991473532e-16)]\n",
      "[0.0, -1.0, 3.0, 2.0, 1.0, -3.0]\n",
      "[(6.123233995736766e-17, 1.0), (1.0, 0.0), (1.0, 0.0), (-1.8369701987210297e-16, -1.0), (-1.0, 1.2246467991473532e-16), (-1.0, 1.2246467991473532e-16)]\n",
      "[0.0, -1.0, 3.0, 2.0, 1.0, -3.0]\n",
      "[(6.123233995736766e-17, 1.0), (1.0, 0.0), (1.0, 0.0), (-1.8369701987210297e-16, -1.0), (-1.0, 1.2246467991473532e-16), (-1.0, 1.2246467991473532e-16)]\n",
      "[0.0, 3.0, -1.0, 2.0, 1.0, -3.0]\n",
      "[(6.123233995736766e-17, 1.0), (1.0, 0.0), (1.0, 0.0), (-1.8369701987210297e-16, -1.0), (-1.0, 1.2246467991473532e-16), (-1.0, 1.2246467991473532e-16)]\n"
     ]
    },
    {
     "data": {
      "image/png": "[encoded data removed]",
      "text/plain": [
       "<Figure size 432x288 with 1 Axes>"
      ]
     },
     "metadata": {
      "needs_background": "light"
     },
     "output_type": "display_data"
    },
    {
     "name": "stdout",
     "output_type": "stream",
     "text": [
      "Number of steps taken in pred Path 36\n",
      "1\n",
      "1 -6.0\n"
     ]
    }
   ],
   "source": [
    "# Test\n",
    "pred_len = []\n",
    "astar_len = []\n",
    "n_test = 0\n",
    "map_size = (50,50)\n",
    "successes = 0\n",
    "avgs = []\n",
    "if n_test < 100:\n",
    "# while n_test < 100:\n",
    "    # TODO: Generalize to any map shape\n",
    "    start, goal = (40, 20), (46, 43)\n",
    "    arr, test_MAP = MAPS[0][1], MAPS[0][0]\n",
    "#     start = (random.randint(1,49), random.randint(1,49))\n",
    "#     goal = (random.randint(1,49), random.randint(1,49))\n",
    "#     arr, test_MAP = placeRandomRooms(map_size, minRoomSize=3, maxRoomSize=15, roomStep = 1, margin = 4, attempts = 100)\n",
    "    try:\n",
    "#         pred_path, success, ground_truth = test_omni(test_MAP, arr, start, goal, clf, enc)\n",
    "        pred_path, success, ground_truth = test_ddr(test_MAP, arr, start, goal, clf, enc, polar=pol)\n",
    "        OccupancyGridMap(arr, 1).plot()\n",
    "        plot_path(pred_path)\n",
    "        pred_len.append(len(pred_path))\n",
    "        print('Number of steps taken in pred Path', len(pred_path))\n",
    "        astar_len.append(len(get_path(start, goal, arr, False)))\n",
    "        n_test += 1\n",
    "        successes += success\n",
    "        print(success)\n",
    "        if success == 1:\n",
    "            avgs.append(len(ground_truth) - len(pred_path))\n",
    "#     break\n",
    "    except:\n",
    "#         continue\n",
    "        pass\n",
    "\n",
    "print(successes, np.mean(avgs))"
   ]
  },
  {
   "cell_type": "code",
   "execution_count": 80,
   "metadata": {},
   "outputs": [
    {
     "data": {
      "text/plain": [
       "array(['-1.0'], dtype=object)"
      ]
     },
     "execution_count": 80,
     "metadata": {},
     "output_type": "execute_result"
    }
   ],
   "source": [
    "enc.inverse_transform([0])"
   ]
  },
  {
   "cell_type": "code",
   "execution_count": null,
   "metadata": {},
   "outputs": [],
   "source": []
  },
  {
   "cell_type": "code",
   "execution_count": null,
   "metadata": {},
   "outputs": [],
   "source": []
  },
  {
   "cell_type": "code",
   "execution_count": null,
   "metadata": {},
   "outputs": [],
   "source": []
  },
  {
   "cell_type": "code",
   "execution_count": null,
   "metadata": {},
   "outputs": [],
   "source": []
  },
  {
   "cell_type": "code",
   "execution_count": null,
   "metadata": {},
   "outputs": [],
   "source": [
    "marker_dict = {0:\">\", np.pi/2:\"^\", np.pi:\"<\", 3*np.pi/2:\"v\"}\n",
    "\n",
    "import imageio\n",
    "# dirs = [(float(int(a)), float(int(b))) for (a,b) in dirs]\n",
    "# print(dirs)\n",
    "def plot_path_with_lines(pred_path, MAP):\n",
    "    '''\n",
    "    Given predicted path nodes and map, \n",
    "    plot the path and the sensor readings for each node\n",
    "    '''\n",
    "    # Update node positions for shapely plotting\n",
    "\n",
    "    pred_path = [(p[0]+0.5, p[1]+0.5) for p in pred_path]\n",
    "    # Save filenames for GIF creation\n",
    "    filenames=[]\n",
    "    offset=0\n",
    "    for i, node in enumerate(pred_path):\n",
    "        # Create fig\n",
    "        fig = plt.figure(frameon=False)\n",
    "        fig.set_size_inches(15,10)\n",
    "        plt.plot(*LineString(pred_path).xy)\n",
    "        \n",
    "        if dirs[i] != (0, 0):\n",
    "            offset = inv_dirs[dirs[i]]\n",
    "        rot = np.pi/2 * offset \n",
    "        plt.scatter(*node, s=100, alpha=1.0, marker = marker_dict[rot])\n",
    "\n",
    "        distances, lines = synthetic_sensor(MAP, node, dirs[i])\n",
    "        for index, l in enumerate(MAP): \n",
    "            if index != 0:\n",
    "                plt.fill(*l.xy, alpha=1)\n",
    "            else:\n",
    "                plt.plot(*l.xy, alpha=1)\n",
    "        for k, line in enumerate(lines):\n",
    "            plt.plot(*line.xy, alpha=0.25)\n",
    "\n",
    "        props = dict(boxstyle='round', facecolor='wheat', alpha=0.5)\n",
    "        \n",
    "        origin = -1*offset \n",
    "        front_dist = str(distances[0])\n",
    "        left_dist = str(distances[1])\n",
    "        right_dist = str(distances[-1])\n",
    "        textstr = '\\n'.join(['straight dist = {}'.format(front_dist),\n",
    "                            'left dist = {}'.format(left_dist),\n",
    "                            'right dist = {}'.format(right_dist)])\n",
    "\n",
    "\n",
    "        plt.text(-5,-5, textstr, fontsize=14,\n",
    "        verticalalignment='top', bbox=props)\n",
    "\n",
    "        filenames.append('img_{}.png'.format(i))\n",
    "        plt.savefig('img_{}.png'.format(i))\n",
    "        plt.close()\n",
    "    \n",
    "    # Make GIF\n",
    "    images = []\n",
    "    for filename in filenames:\n",
    "        images.append(imageio.imread(filename))\n",
    "    imageio.mimsave('demo.gif', images)\n",
    "        \n",
    "plot_path_with_lines(pred_path[:-1], test_MAP)"
   ]
  },
  {
   "cell_type": "code",
   "execution_count": null,
   "metadata": {},
   "outputs": [],
   "source": [
    "from IPython.display import Image\n",
    "Image('demo.gif')"
   ]
  },
  {
   "cell_type": "code",
   "execution_count": null,
   "metadata": {},
   "outputs": [],
   "source": []
  },
  {
   "cell_type": "code",
   "execution_count": null,
   "metadata": {},
   "outputs": [],
   "source": []
  },
  {
   "cell_type": "code",
   "execution_count": null,
   "metadata": {},
   "outputs": [],
   "source": []
  },
  {
   "cell_type": "code",
   "execution_count": null,
   "metadata": {},
   "outputs": [],
   "source": []
  },
  {
   "cell_type": "code",
   "execution_count": null,
   "metadata": {},
   "outputs": [],
   "source": []
  }
 ],
 "metadata": {
  "kernelspec": {
   "display_name": "Python 3",
   "language": "python",
   "name": "python3"
  },
  "language_info": {
   "codemirror_mode": {
    "name": "ipython",
    "version": 3
   },
   "file_extension": ".py",
   "mimetype": "text/x-python",
   "name": "python",
   "nbconvert_exporter": "python",
   "pygments_lexer": "ipython3",
   "version": "3.8.6"
  }
 },
 "nbformat": 4,
 "nbformat_minor": 2
}
