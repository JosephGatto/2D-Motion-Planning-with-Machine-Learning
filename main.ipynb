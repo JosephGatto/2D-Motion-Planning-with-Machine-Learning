{
 "cells": [
  {
   "cell_type": "code",
   "execution_count": 1,
   "metadata": {},
   "outputs": [],
   "source": [
    "import warnings\n",
    "import numpy as np\n",
    "import matplotlib.pyplot as plt\n",
    "import pandas as pd\n",
    "\n",
    "\n",
    "from synthesize.synthesize import placeRandomRooms, synthesize_train_set, synthetic_sensor\n",
    "from utils.planning import  get_path, plot_path\n",
    "from utils.processing import create_classification_problem\n",
    "from utils.plotting import plot_path_with_lines\n",
    "from sklearn import preprocessing\n",
    "from sklearn.ensemble import AdaBoostClassifier, RandomForestClassifier\n",
    "import random\n",
    "from copy import deepcopy\n",
    "import math\n",
    "from shapely.geometry import LineString\n",
    "from astar.gridmap import OccupancyGridMap\n",
    "import argparse\n",
    "from shapely.geometry import MultiLineString, LineString\n",
    "from copy import deepcopy\n",
    "\n",
    "%matplotlib inline\n",
    "warnings.filterwarnings('ignore')"
   ]
  },
  {
   "cell_type": "code",
   "execution_count": 2,
   "metadata": {},
   "outputs": [],
   "source": [
    "class Args:\n",
    "    robot_type = 'omni'\n",
    "    map_size = (50,50)\n",
    "    num_train_maps = 10\n",
    "    num_train_paths = 100\n",
    "    use_polar = True \n",
    "    num_sensor_readings = 4\n",
    "    movement = '4N'\n",
    "    dirs = {0:(1.0, 0.0), 1:(0.0, 1.0), 2:(-1.0, 0.0), 3:(0.0, -1.0)}\n",
    "    inv_dirs = {d: label for label, d in dirs.items()}\n",
    "    enc = preprocessing.LabelEncoder()\n",
    "    steer = {0:0, 1:np.pi/2., -1:-np.pi/2, 2:np.pi, -2:np.pi, 3:-np.pi/2, -3:np.pi/2}\n",
    "    img_root = 'gifs'\n",
    "    \n",
    "args=Args()"
   ]
  },
  {
   "cell_type": "code",
   "execution_count": 6,
   "metadata": {},
   "outputs": [],
   "source": [
    "def test_model(MAP, map_np, start, goal, model, args):\n",
    "    \n",
    "    groud_truth = get_path(start, goal, map_np, plot=True) \n",
    "    print(\"Number of steps taken in A* Path, \", len(groud_truth))\n",
    "    pred_path = [start]\n",
    "    cur_dir = (0, 0)\n",
    "    cur = start\n",
    "    directions = []\n",
    "    while cur != goal:\n",
    "\n",
    "        laser_scan, lines = synthetic_sensor(MAP, (cur[0]+0.5, cur[1]+0.5), direction=cur_dir, args = args)\n",
    "        offset = 0\n",
    "        if cur_dir != (0, 0): # Start node\n",
    "            offset = args.inv_dirs[cur_dir]\n",
    "        rot = np.pi/2 * offset \n",
    "        goal_loc = (goal[0]-cur[0], goal[1]-cur[1])  \n",
    "        goal_orn = (goal_loc[0]*np.cos(rot) + goal_loc[1]*np.sin(rot), goal_loc[0]*-np.sin(rot) + goal_loc[1]*np.cos(rot))\n",
    "        if args.robot_type == 'omni':\n",
    "            laser_scan.append(goal_loc[0])\n",
    "            laser_scan.append(goal_loc[1])\n",
    "        elif args.robot_type == 'ddr':\n",
    "            if args.use_polar:\n",
    "                polar_distance = np.linalg.norm(np.array([goal_loc[0],goal_loc[1]]))\n",
    "                polar_rotation = math.atan2(goal_orn[1], goal_orn[0])\n",
    "                laser_scan.append(polar_distance)\n",
    "                laser_scan.append(polar_rotation)\n",
    "            else:\n",
    "                laser_scan.append(goal_orn[0])\n",
    "                laser_scan.append(goal_orn[1])\n",
    "\n",
    "        # Create model input\n",
    "        inpX = np.array(laser_scan)\n",
    "        inds = model.predict_proba(inpX.reshape(1,-1))[0]\n",
    "        best = list(np.argsort(inds))  \n",
    "        best.reverse()\n",
    "\n",
    "        possible_dirs = [eval(args.enc.inverse_transform(best)[ii]) for ii in range(len(best))]\n",
    "        if args.robot_type == 'omni':\n",
    "            possible_next_states = [(cur[0] + d[0], cur[1] + d[1]) for d in possible_dirs]\n",
    "        elif args.robot_type == 'ddr':\n",
    "            possible_steers = [(np.cos(rot + args.steer[ind]), np.sin(rot + args.steer[ind])) for ind in possible_dirs]\n",
    "            possible_next_states = [(cur[0] + steers[0], cur[1] + steers[1]) for steers in possible_steers]\n",
    "\n",
    "        temp_states = deepcopy(possible_next_states)\n",
    "        for state in possible_next_states:\n",
    "            if (state in pred_path):\n",
    "                temp_states.remove(state) \n",
    "\n",
    "        directions.append(cur_dir)\n",
    "        cur_dir = (temp_states[0][0] - cur[0], temp_states[0][1] - cur[1])\n",
    "        cur = temp_states[0]\n",
    "\n",
    "        assert cur not in pred_path\n",
    "        pred_path.append(cur)\n",
    "        if cur == goal:\n",
    "            temp = [(p[0]+0.5, p[1]+0.5) for p in pred_path]\n",
    "            if LineString(temp).intersects(MAP):\n",
    "                success = 0\n",
    "            else:\n",
    "                success = 1\n",
    "            break\n",
    " \n",
    "    return pred_path, directions, success, groud_truth"
   ]
  },
  {
   "cell_type": "code",
   "execution_count": 7,
   "metadata": {},
   "outputs": [
    {
     "name": "stderr",
     "output_type": "stream",
     "text": [
      "100%|████████████████████████████████████████████████████████████████████████████████| 100/100 [00:16<00:00,  6.24it/s]\n"
     ]
    },
    {
     "data": {
      "text/plain": [
       "RandomForestClassifier(bootstrap=True, class_weight=None, criterion='gini',\n",
       "                       max_depth=None, max_features='auto', max_leaf_nodes=None,\n",
       "                       min_impurity_decrease=0.0, min_impurity_split=None,\n",
       "                       min_samples_leaf=1, min_samples_split=2,\n",
       "                       min_weight_fraction_leaf=0.0, n_estimators=200,\n",
       "                       n_jobs=None, oob_score=False, random_state=None,\n",
       "                       verbose=0, warm_start=False)"
      ]
     },
     "execution_count": 7,
     "metadata": {},
     "output_type": "execute_result"
    }
   ],
   "source": [
    "MAPS = []\n",
    "\n",
    "for i in range(args.num_train_maps):\n",
    "    train_arr, train_MAP = placeRandomRooms(args.map_size, minRoomSize=3, maxRoomSize=15, roomStep = 1, margin = 4, attempts = 100)\n",
    "    MAPS.append((train_MAP,train_arr))\n",
    "\n",
    "df_ = synthesize_train_set(MAPS, args)\n",
    "df = create_classification_problem(df_.copy(), args)\n",
    "\n",
    "# Fit model using all data.\n",
    "clf = RandomForestClassifier(n_estimators=200)\n",
    "clf.fit(df.drop(['out'], axis=1).values, df['out'].values)"
   ]
  },
  {
   "cell_type": "code",
   "execution_count": 8,
   "metadata": {},
   "outputs": [
    {
     "data": {
      "image/png": "[encoded data removed]",
      "text/plain": [
       "<Figure size 432x288 with 1 Axes>"
      ]
     },
     "metadata": {
      "needs_background": "light"
     },
     "output_type": "display_data"
    },
    {
     "name": "stdout",
     "output_type": "stream",
     "text": [
      "Number of steps taken in A* Path,  21\n"
     ]
    },
    {
     "data": {
      "image/png": "[encoded data removed]",
      "text/plain": [
       "<Figure size 432x288 with 1 Axes>"
      ]
     },
     "metadata": {
      "needs_background": "light"
     },
     "output_type": "display_data"
    },
    {
     "name": "stdout",
     "output_type": "stream",
     "text": [
      "Number of steps taken in pred Path 21\n",
      "Safe path found!\n"
     ]
    }
   ],
   "source": [
    "pred_len = []\n",
    "astar_len = []\n",
    "n_test = 0\n",
    "successes = 0\n",
    "avgs = []\n",
    "while n_test < 1:\n",
    "\n",
    "    min_node, max_node = 1, args.map_size[1]-1\n",
    "    start = (random.randint(min_node, max_node), random.randint(min_node, max_node))\n",
    "    goal = (random.randint(min_node, max_node), random.randint(min_node, max_node))\n",
    "    arr, test_MAP = placeRandomRooms(args.map_size, minRoomSize=3, maxRoomSize=15, roomStep = 1, margin = 4, attempts = 100)\n",
    "    try:\n",
    "        pred_path, directions, success, ground_truth = test_model(test_MAP, arr, start, goal, clf, args)\n",
    "        OccupancyGridMap(arr, 1).plot()\n",
    "        plot_path(pred_path)\n",
    "        pred_len.append(len(pred_path))\n",
    "        print('Number of steps taken in pred Path', len(pred_path))\n",
    "        astar_len.append(len(get_path(start, goal, arr, False)))\n",
    "        if success == 1:\n",
    "            print(\"Safe path found!\")\n",
    "            avgs.append(len(pred_path)- len(ground_truth) )\n",
    "        else:\n",
    "            print(\"Invalid path computed :(\")\n",
    "        break\n",
    "    except:\n",
    "        continue"
   ]
  },
  {
   "cell_type": "code",
   "execution_count": null,
   "metadata": {},
   "outputs": [],
   "source": [
    "from IPython.display import Image\n",
    "plot_path_with_lines(pred_path[:-1], test_MAP, directions, args)\n",
    "Image(args.img_root+'/out.gif')"
   ]
  },
  {
   "cell_type": "code",
   "execution_count": null,
   "metadata": {},
   "outputs": [],
   "source": []
  }
 ],
 "metadata": {
  "kernelspec": {
   "display_name": "Python 3",
   "language": "python",
   "name": "python3"
  },
  "language_info": {
   "codemirror_mode": {
    "name": "ipython",
    "version": 3
   },
   "file_extension": ".py",
   "mimetype": "text/x-python",
   "name": "python",
   "nbconvert_exporter": "python",
   "pygments_lexer": "ipython3",
   "version": "3.7.4"
  }
 },
 "nbformat": 4,
 "nbformat_minor": 2
}
